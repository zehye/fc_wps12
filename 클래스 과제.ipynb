{
 "cells": [
  {
   "cell_type": "code",
   "execution_count": 1,
   "metadata": {},
   "outputs": [],
   "source": [
    "class Pokemon:\n",
    "    POKEMON_LIST = []\n",
    "    \n",
    "    def __init__(self, name, type):\n",
    "        self.friends = []\n",
    "        self.name = name\n",
    "        self.type = type\n",
    "        self.__level = 1\n",
    "        Pokemon.POKEMON_LIST.append(self)\n",
    "        \n",
    "    @property\n",
    "    def level(self):\n",
    "        return self.__level\n",
    "    \n",
    "    def level_up(self):\n",
    "        self.__level += 1\n",
    "        \n",
    "    def add_friend(self, pokemon):\n",
    "        # self.friends에 pokemon에 해당하는 Pokemon인스턴스를 추가\n",
    "        self.friends.append(pokemon)\n",
    "        \n",
    "    def show_friends(self):\n",
    "        if len(self.friends) == 0:\n",
    "            print(f'{self.name}은 친구가 없습니다...')\n",
    "        else:\n",
    "            result = '피카츄의 친구즐 = '\n",
    "            for pokemon in self.friends:\n",
    "                result += pokemon.name + ', '\n",
    "            \n",
    "            result = result[:2]\n",
    "            result += f'{len(self.friends)}마리'\n",
    "            print(result)\n",
    "        \n",
    "    @classmethod\n",
    "    def show_total_pokemon(cls):\n",
    "        pokemon_count = len(cls.POCKMON_LIST)\n",
    "        if pokemon_count == 0:\n",
    "            print(\"포켓몬이 없습니다...\")\n",
    "        else:\n",
    "            result = ', '.join([poket_name for poket_name in cls.])\n",
    "    "
   ]
  },
  {
   "cell_type": "code",
   "execution_count": 2,
   "metadata": {},
   "outputs": [],
   "source": [
    "# Pokemon.show_total_pokemon()\n",
    "# > 포켓몬이 없습니다...\n",
    "\n",
    "# pikachu = Pokemon(name='피카츄', type='전기')\n",
    "# pikachu.level\n",
    "# > 1\n",
    "\n",
    "# pikachu.level_up()\n",
    "# pikachu.level\n",
    "# > 2\n",
    "\n",
    "# butterfree = Pokemon(name='버터플', type='벌레')\n",
    "# starmie = Pokemon(name='아쿠스타', type='물')\n",
    "# eevee = Pokemon(name='이브이', type='노멀')\n",
    "# pikachu.show_friends()\n",
    "# > 피카츄에게는 친구가 없습니다....\n",
    "\n",
    "# pikachu.add_friend(butterfree)\n",
    "# pikachu.add_friend(starmie)\n",
    "# pikachu.show_friends()\n",
    "# > 피카츄의 친구들: 버터플, 아쿠스타 (2마리)\n",
    "\n",
    "# Pokemon.show_total_pokemon()\n",
    "# > 전체 포켓몬: 피카츄, 버터플, 아쿠스타, 이브이(4마리)"
   ]
  },
  {
   "cell_type": "code",
   "execution_count": 3,
   "metadata": {},
   "outputs": [
    {
     "data": {
      "text/plain": [
       "1"
      ]
     },
     "execution_count": 3,
     "metadata": {},
     "output_type": "execute_result"
    }
   ],
   "source": [
    "pikachu = Pokemon(name='피카츄', type='전기')\n",
    "pikachu.level"
   ]
  },
  {
   "cell_type": "code",
   "execution_count": 4,
   "metadata": {
    "scrolled": true
   },
   "outputs": [
    {
     "data": {
      "text/plain": [
       "2"
      ]
     },
     "execution_count": 4,
     "metadata": {},
     "output_type": "execute_result"
    }
   ],
   "source": [
    "pikachu.level_up()\n",
    "pikachu.level"
   ]
  },
  {
   "cell_type": "code",
   "execution_count": 5,
   "metadata": {},
   "outputs": [],
   "source": [
    "pikachu.show_friends()"
   ]
  },
  {
   "cell_type": "code",
   "execution_count": 6,
   "metadata": {},
   "outputs": [],
   "source": [
    "butterfree = Pokemon(name='버터플', type='벌레')\n",
    "starmie = Pokemon(name='아쿠스타', type='물')\n",
    "eevee = Pokemon(name='이브이', type='노멀')"
   ]
  },
  {
   "cell_type": "code",
   "execution_count": 7,
   "metadata": {},
   "outputs": [],
   "source": [
    "pikachu.add_friend(butterfree)\n",
    "pikachu.add_friend(starmie)"
   ]
  },
  {
   "cell_type": "code",
   "execution_count": 8,
   "metadata": {},
   "outputs": [
    {
     "name": "stdout",
     "output_type": "stream",
     "text": [
      "버터플\n",
      "아쿠스타\n"
     ]
    }
   ],
   "source": [
    "pikachu.show_friends()"
   ]
  },
  {
   "cell_type": "code",
   "execution_count": 9,
   "metadata": {},
   "outputs": [],
   "source": [
    "butterfree.show_friends()"
   ]
  },
  {
   "cell_type": "code",
   "execution_count": 10,
   "metadata": {},
   "outputs": [
    {
     "name": "stdout",
     "output_type": "stream",
     "text": [
      "피카츄\n",
      "버터플\n",
      "아쿠스타\n",
      "이브이\n"
     ]
    }
   ],
   "source": [
    "Pokemon.show_total_pokemon()"
   ]
  },
  {
   "cell_type": "code",
   "execution_count": null,
   "metadata": {},
   "outputs": [],
   "source": []
  }
 ],
 "metadata": {
  "kernelspec": {
   "display_name": "Python 3",
   "language": "python",
   "name": "python3"
  },
  "language_info": {
   "codemirror_mode": {
    "name": "ipython",
    "version": 3
   },
   "file_extension": ".py",
   "mimetype": "text/x-python",
   "name": "python",
   "nbconvert_exporter": "python",
   "pygments_lexer": "ipython3",
   "version": "3.7.4"
  }
 },
 "nbformat": 4,
 "nbformat_minor": 2
}
