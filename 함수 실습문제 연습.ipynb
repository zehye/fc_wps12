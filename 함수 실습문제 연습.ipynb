{
 "cells": [
  {
   "cell_type": "code",
   "execution_count": 1,
   "metadata": {},
   "outputs": [],
   "source": [
    "# 1번 문제\n",
    "fruits_color = {\n",
    "    'apple':'red',\n",
    "    'banana': 'yellow',\n",
    "    'melon': 'green'\n",
    "}\n",
    "\n",
    "def print_fruits_color(color):\n",
    "    return fruits_color.get(color, 'i dont know')"
   ]
  },
  {
   "cell_type": "code",
   "execution_count": 2,
   "metadata": {},
   "outputs": [
    {
     "data": {
      "text/plain": [
       "'green'"
      ]
     },
     "execution_count": 2,
     "metadata": {},
     "output_type": "execute_result"
    }
   ],
   "source": [
    "print_fruits_color('melon')"
   ]
  },
  {
   "cell_type": "code",
   "execution_count": 3,
   "metadata": {},
   "outputs": [
    {
     "data": {
      "text/plain": [
       "'i dont know'"
      ]
     },
     "execution_count": 3,
     "metadata": {},
     "output_type": "execute_result"
    }
   ],
   "source": [
    "print_fruits_color('pink')"
   ]
  },
  {
   "cell_type": "code",
   "execution_count": 4,
   "metadata": {},
   "outputs": [],
   "source": [
    "# 2번 문제\n",
    "fruits_color = {\n",
    "    'apple':'red',\n",
    "    'banana': 'yellow',\n",
    "    'melon': 'green'\n",
    "}\n",
    "\n",
    "def print_fruits_color(color):\n",
    "    '문자열을 받아 과일의 색깔을 알려주는 함수'\n",
    "    return fruits_color.get(color, 'i dont know')"
   ]
  },
  {
   "cell_type": "code",
   "execution_count": 5,
   "metadata": {},
   "outputs": [
    {
     "name": "stdout",
     "output_type": "stream",
     "text": [
      "Help on function print_fruits_color in module __main__:\n",
      "\n",
      "print_fruits_color(color)\n",
      "    문자열을 받아 과일의 색깔을 알려주는 함수\n",
      "\n"
     ]
    }
   ],
   "source": [
    "help(print_fruits_color)"
   ]
  },
  {
   "cell_type": "code",
   "execution_count": 20,
   "metadata": {},
   "outputs": [],
   "source": [
    "# 3번 문제\n",
    "def print_sum_or_multi(a,b=None):\n",
    "    if b:\n",
    "        return a*b\n",
    "    else:\n",
    "        return a**2"
   ]
  },
  {
   "cell_type": "code",
   "execution_count": 21,
   "metadata": {},
   "outputs": [
    {
     "data": {
      "text/plain": [
       "9"
      ]
     },
     "execution_count": 21,
     "metadata": {},
     "output_type": "execute_result"
    }
   ],
   "source": [
    "print_sum_or_multi(3)"
   ]
  },
  {
   "cell_type": "code",
   "execution_count": 22,
   "metadata": {},
   "outputs": [
    {
     "data": {
      "text/plain": [
       "24"
      ]
     },
     "execution_count": 22,
     "metadata": {},
     "output_type": "execute_result"
    }
   ],
   "source": [
    "print_sum_or_multi(4,6)"
   ]
  },
  {
   "cell_type": "code",
   "execution_count": 27,
   "metadata": {},
   "outputs": [],
   "source": [
    "# 4번 문제\n",
    "def print_sum_and_minus(a,b):\n",
    "    return (a+b,a-b)"
   ]
  },
  {
   "cell_type": "code",
   "execution_count": 28,
   "metadata": {},
   "outputs": [
    {
     "data": {
      "text/plain": [
       "(14, -4)"
      ]
     },
     "execution_count": 28,
     "metadata": {},
     "output_type": "execute_result"
    }
   ],
   "source": [
    "print_sum_and_minus(5,9)"
   ]
  },
  {
   "cell_type": "code",
   "execution_count": 24,
   "metadata": {},
   "outputs": [],
   "source": [
    "# 음수가 나오지 않게 하는 방법\n",
    "def print_plus(a,b):\n",
    "    if a > b:\n",
    "        sub = a-b\n",
    "    else:\n",
    "        sub = b-a\n",
    "    return (a+b, sub)"
   ]
  },
  {
   "cell_type": "code",
   "execution_count": 46,
   "metadata": {},
   "outputs": [
    {
     "data": {
      "text/plain": [
       "(13, 5)"
      ]
     },
     "execution_count": 46,
     "metadata": {},
     "output_type": "execute_result"
    }
   ],
   "source": [
    "print_plus(4,9)"
   ]
  },
  {
   "cell_type": "code",
   "execution_count": 39,
   "metadata": {},
   "outputs": [],
   "source": [
    "# 5번 문제\n",
    "def print_args(*args):\n",
    "    print('{}개'.format(len(args)))\n",
    "    return len(args), args"
   ]
  },
  {
   "cell_type": "code",
   "execution_count": 40,
   "metadata": {},
   "outputs": [
    {
     "name": "stdout",
     "output_type": "stream",
     "text": [
      "5개\n"
     ]
    },
    {
     "data": {
      "text/plain": [
       "(5, (1, 2, 3, 4, 5))"
      ]
     },
     "execution_count": 40,
     "metadata": {},
     "output_type": "execute_result"
    }
   ],
   "source": [
    "print_args(1,2,3,4,5)"
   ]
  },
  {
   "cell_type": "code",
   "execution_count": 57,
   "metadata": {},
   "outputs": [
    {
     "data": {
      "text/plain": [
       "['2x1=2',\n",
       " '2x2=4',\n",
       " '2x3=6',\n",
       " '2x4=8',\n",
       " '2x5=10',\n",
       " '2x6=12',\n",
       " '2x7=14',\n",
       " '2x8=16',\n",
       " '2x9=18',\n",
       " '3x1=3',\n",
       " '3x2=6',\n",
       " '3x3=9',\n",
       " '3x4=12',\n",
       " '3x5=15',\n",
       " '3x6=18',\n",
       " '3x7=21',\n",
       " '3x8=24',\n",
       " '3x9=27',\n",
       " '4x1=4',\n",
       " '4x2=8',\n",
       " '4x3=12',\n",
       " '4x4=16',\n",
       " '4x5=20',\n",
       " '4x6=24',\n",
       " '4x7=28',\n",
       " '4x8=32',\n",
       " '4x9=36',\n",
       " '5x1=5',\n",
       " '5x2=10',\n",
       " '5x3=15',\n",
       " '5x4=20',\n",
       " '5x5=25',\n",
       " '5x6=30',\n",
       " '5x7=35',\n",
       " '5x8=40',\n",
       " '5x9=45',\n",
       " '6x1=6',\n",
       " '6x2=12',\n",
       " '6x3=18',\n",
       " '6x4=24',\n",
       " '6x5=30',\n",
       " '6x6=36',\n",
       " '6x7=42',\n",
       " '6x8=48',\n",
       " '6x9=54',\n",
       " '7x1=7',\n",
       " '7x2=14',\n",
       " '7x3=21',\n",
       " '7x4=28',\n",
       " '7x5=35',\n",
       " '7x6=42',\n",
       " '7x7=49',\n",
       " '7x8=56',\n",
       " '7x9=63',\n",
       " '8x1=8',\n",
       " '8x2=16',\n",
       " '8x3=24',\n",
       " '8x4=32',\n",
       " '8x5=40',\n",
       " '8x6=48',\n",
       " '8x7=56',\n",
       " '8x8=64',\n",
       " '8x9=72',\n",
       " '9x1=9',\n",
       " '9x2=18',\n",
       " '9x3=27',\n",
       " '9x4=36',\n",
       " '9x5=45',\n",
       " '9x6=54',\n",
       " '9x7=63',\n",
       " '9x8=72',\n",
       " '9x9=81']"
      ]
     },
     "execution_count": 57,
     "metadata": {},
     "output_type": "execute_result"
    }
   ],
   "source": [
    "# 6번 문제 - 람다\n",
    "[(lambda x, y: f'{x}x{y}={x*y}')(i,j) for i in range(2,10) for j in range(1,10)]"
   ]
  },
  {
   "cell_type": "code",
   "execution_count": 51,
   "metadata": {},
   "outputs": [
    {
     "data": {
      "text/plain": [
       "['2x1=2',\n",
       " '2x2=4',\n",
       " '2x3=6',\n",
       " '2x4=8',\n",
       " '2x5=10',\n",
       " '2x6=12',\n",
       " '2x7=14',\n",
       " '2x8=16',\n",
       " '2x9=18',\n",
       " '3x1=3',\n",
       " '3x2=6',\n",
       " '3x3=9',\n",
       " '3x4=12',\n",
       " '3x5=15',\n",
       " '3x6=18',\n",
       " '3x7=21',\n",
       " '3x8=24',\n",
       " '3x9=27',\n",
       " '4x1=4',\n",
       " '4x2=8',\n",
       " '4x3=12',\n",
       " '4x4=16',\n",
       " '4x5=20',\n",
       " '4x6=24',\n",
       " '4x7=28',\n",
       " '4x8=32',\n",
       " '4x9=36',\n",
       " '5x1=5',\n",
       " '5x2=10',\n",
       " '5x3=15',\n",
       " '5x4=20',\n",
       " '5x5=25',\n",
       " '5x6=30',\n",
       " '5x7=35',\n",
       " '5x8=40',\n",
       " '5x9=45',\n",
       " '6x1=6',\n",
       " '6x2=12',\n",
       " '6x3=18',\n",
       " '6x4=24',\n",
       " '6x5=30',\n",
       " '6x6=36',\n",
       " '6x7=42',\n",
       " '6x8=48',\n",
       " '6x9=54',\n",
       " '7x1=7',\n",
       " '7x2=14',\n",
       " '7x3=21',\n",
       " '7x4=28',\n",
       " '7x5=35',\n",
       " '7x6=42',\n",
       " '7x7=49',\n",
       " '7x8=56',\n",
       " '7x9=63',\n",
       " '8x1=8',\n",
       " '8x2=16',\n",
       " '8x3=24',\n",
       " '8x4=32',\n",
       " '8x5=40',\n",
       " '8x6=48',\n",
       " '8x7=56',\n",
       " '8x8=64',\n",
       " '8x9=72',\n",
       " '9x1=9',\n",
       " '9x2=18',\n",
       " '9x3=27',\n",
       " '9x4=36',\n",
       " '9x5=45',\n",
       " '9x6=54',\n",
       " '9x7=63',\n",
       " '9x8=72',\n",
       " '9x9=81']"
      ]
     },
     "execution_count": 51,
     "metadata": {},
     "output_type": "execute_result"
    }
   ],
   "source": [
    "# 6번 문제 - 리스트 컴프리헨션\n",
    "[f'{i}x{j}={i*j}' for i in range(2,10) for j in range(1,10)]"
   ]
  },
  {
   "cell_type": "code",
   "execution_count": 3,
   "metadata": {},
   "outputs": [],
   "source": [
    "# 1번 문제 다시\n",
    "# 매개변수 color 는 str형객체가 올 것이다.\n",
    "# what_value 의 리컨 역시 str 객체가 될 것이다.\n",
    "\n",
    "def what_value(color: str) -> str:\n",
    "    if color == 'red':\n",
    "        print('apple')\n",
    "    elif color == 'yellow':\n",
    "        print('banana')\n",
    "    else:\n",
    "        print('i dont know')"
   ]
  },
  {
   "cell_type": "code",
   "execution_count": 4,
   "metadata": {},
   "outputs": [
    {
     "name": "stdout",
     "output_type": "stream",
     "text": [
      "apple\n"
     ]
    }
   ],
   "source": [
    "what_value('red')"
   ]
  },
  {
   "cell_type": "code",
   "execution_count": 5,
   "metadata": {},
   "outputs": [],
   "source": [
    "fruit_colot_dict = {\n",
    "    'red':'apple',\n",
    "    'yellow': 'banana',\n",
    "    'green': 'melon',\n",
    "}\n",
    "\n",
    "def what_fruit_from_dict(color: str) -> str:\n",
    "    return fruit_colot_dict.get(color, 'i dont know')"
   ]
  },
  {
   "cell_type": "code",
   "execution_count": 6,
   "metadata": {},
   "outputs": [
    {
     "data": {
      "text/plain": [
       "'apple'"
      ]
     },
     "execution_count": 6,
     "metadata": {},
     "output_type": "execute_result"
    }
   ],
   "source": [
    "what_fruit_from_dict('red')"
   ]
  },
  {
   "cell_type": "code",
   "execution_count": 7,
   "metadata": {},
   "outputs": [
    {
     "data": {
      "text/plain": [
       "'i dont know'"
      ]
     },
     "execution_count": 7,
     "metadata": {},
     "output_type": "execute_result"
    }
   ],
   "source": [
    "what_fruit_from_dict('pink')"
   ]
  },
  {
   "cell_type": "code",
   "execution_count": 30,
   "metadata": {},
   "outputs": [],
   "source": [
    "# 3번문제 강사님 풀이 추가\n",
    "def square_or_multi(*args):\n",
    "    if len(args)>2:\n",
    "        print('args lenghh >2')\n",
    "        raise TypeError('args lenghh >2')\n",
    "    elif len(args) == 2:\n",
    "        return args[0] * args[1]\n",
    "    else:\n",
    "        return args[0] ** 2"
   ]
  },
  {
   "cell_type": "code",
   "execution_count": 31,
   "metadata": {},
   "outputs": [
    {
     "data": {
      "text/plain": [
       "9"
      ]
     },
     "execution_count": 31,
     "metadata": {},
     "output_type": "execute_result"
    }
   ],
   "source": [
    "square_or_multi(3)"
   ]
  },
  {
   "cell_type": "code",
   "execution_count": 32,
   "metadata": {},
   "outputs": [
    {
     "data": {
      "text/plain": [
       "10"
      ]
     },
     "execution_count": 32,
     "metadata": {},
     "output_type": "execute_result"
    }
   ],
   "source": [
    "square_or_multi(2,5)"
   ]
  },
  {
   "cell_type": "code",
   "execution_count": 33,
   "metadata": {},
   "outputs": [
    {
     "name": "stdout",
     "output_type": "stream",
     "text": [
      "args lenghh >2\n"
     ]
    },
    {
     "ename": "TypeError",
     "evalue": "args lenghh >2",
     "output_type": "error",
     "traceback": [
      "\u001b[0;31m---------------------------------------------------------------------------\u001b[0m",
      "\u001b[0;31mTypeError\u001b[0m                                 Traceback (most recent call last)",
      "\u001b[0;32m<ipython-input-33-336b267c3920>\u001b[0m in \u001b[0;36m<module>\u001b[0;34m\u001b[0m\n\u001b[0;32m----> 1\u001b[0;31m \u001b[0msquare_or_multi\u001b[0m\u001b[0;34m(\u001b[0m\u001b[0;36m2\u001b[0m\u001b[0;34m,\u001b[0m\u001b[0;36m5\u001b[0m\u001b[0;34m,\u001b[0m\u001b[0;36m2\u001b[0m\u001b[0;34m)\u001b[0m\u001b[0;34m\u001b[0m\u001b[0;34m\u001b[0m\u001b[0m\n\u001b[0m",
      "\u001b[0;32m<ipython-input-30-764f66b9b385>\u001b[0m in \u001b[0;36msquare_or_multi\u001b[0;34m(*args)\u001b[0m\n\u001b[1;32m      3\u001b[0m     \u001b[0;32mif\u001b[0m \u001b[0mlen\u001b[0m\u001b[0;34m(\u001b[0m\u001b[0margs\u001b[0m\u001b[0;34m)\u001b[0m\u001b[0;34m>\u001b[0m\u001b[0;36m2\u001b[0m\u001b[0;34m:\u001b[0m\u001b[0;34m\u001b[0m\u001b[0;34m\u001b[0m\u001b[0m\n\u001b[1;32m      4\u001b[0m         \u001b[0mprint\u001b[0m\u001b[0;34m(\u001b[0m\u001b[0;34m'args lenghh >2'\u001b[0m\u001b[0;34m)\u001b[0m\u001b[0;34m\u001b[0m\u001b[0;34m\u001b[0m\u001b[0m\n\u001b[0;32m----> 5\u001b[0;31m         \u001b[0;32mraise\u001b[0m \u001b[0mTypeError\u001b[0m\u001b[0;34m(\u001b[0m\u001b[0;34m'args lenghh >2'\u001b[0m\u001b[0;34m)\u001b[0m\u001b[0;34m\u001b[0m\u001b[0;34m\u001b[0m\u001b[0m\n\u001b[0m\u001b[1;32m      6\u001b[0m     \u001b[0;32melif\u001b[0m \u001b[0mlen\u001b[0m\u001b[0;34m(\u001b[0m\u001b[0margs\u001b[0m\u001b[0;34m)\u001b[0m \u001b[0;34m==\u001b[0m \u001b[0;36m2\u001b[0m\u001b[0;34m:\u001b[0m\u001b[0;34m\u001b[0m\u001b[0;34m\u001b[0m\u001b[0m\n\u001b[1;32m      7\u001b[0m         \u001b[0;32mreturn\u001b[0m \u001b[0margs\u001b[0m\u001b[0;34m[\u001b[0m\u001b[0;36m0\u001b[0m\u001b[0;34m]\u001b[0m \u001b[0;34m*\u001b[0m \u001b[0margs\u001b[0m\u001b[0;34m[\u001b[0m\u001b[0;36m1\u001b[0m\u001b[0;34m]\u001b[0m\u001b[0;34m\u001b[0m\u001b[0;34m\u001b[0m\u001b[0m\n",
      "\u001b[0;31mTypeError\u001b[0m: args lenghh >2"
     ]
    }
   ],
   "source": [
    "square_or_multi(2,5,2)"
   ]
  },
  {
   "cell_type": "code",
   "execution_count": 34,
   "metadata": {},
   "outputs": [],
   "source": [
    "# 4번문제 강사님 풀이 추가\n",
    "def sum_sub(a,b):\n",
    "    large, small = (a,b) if a > b else (b,a)\n",
    "    return (large+small, large-small)"
   ]
  },
  {
   "cell_type": "code",
   "execution_count": 35,
   "metadata": {},
   "outputs": [
    {
     "data": {
      "text/plain": [
       "(8, 2)"
      ]
     },
     "execution_count": 35,
     "metadata": {},
     "output_type": "execute_result"
    }
   ],
   "source": [
    "sum_sub(3,5)"
   ]
  },
  {
   "cell_type": "code",
   "execution_count": 36,
   "metadata": {},
   "outputs": [],
   "source": [
    "# 5번문제 강사님 풀이 추가\n",
    "def print_and_return_args_length(*args):\n",
    "    len_args = len(args)\n",
    "    return len_args"
   ]
  },
  {
   "cell_type": "code",
   "execution_count": 37,
   "metadata": {},
   "outputs": [
    {
     "data": {
      "text/plain": [
       "5"
      ]
     },
     "execution_count": 37,
     "metadata": {},
     "output_type": "execute_result"
    }
   ],
   "source": [
    "print_and_return_args_length(1231,223,34545,'13123','12')"
   ]
  },
  {
   "cell_type": "code",
   "execution_count": null,
   "metadata": {},
   "outputs": [],
   "source": []
  }
 ],
 "metadata": {
  "kernelspec": {
   "display_name": "Python 3",
   "language": "python",
   "name": "python3"
  },
  "language_info": {
   "codemirror_mode": {
    "name": "ipython",
    "version": 3
   },
   "file_extension": ".py",
   "mimetype": "text/x-python",
   "name": "python",
   "nbconvert_exporter": "python",
   "pygments_lexer": "ipython3",
   "version": "3.7.4"
  }
 },
 "nbformat": 4,
 "nbformat_minor": 2
}
