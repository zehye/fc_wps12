{
 "cells": [
  {
   "cell_type": "code",
   "execution_count": 1,
   "metadata": {},
   "outputs": [],
   "source": [
    "import re"
   ]
  },
  {
   "cell_type": "code",
   "execution_count": 8,
   "metadata": {},
   "outputs": [],
   "source": [
    "story = '''\n",
    "Born to the prestigious Crownguards, the paragon family of Demacian service, \n",
    "Luxanna was destined for greatness. She grew up as the family's only daughter, \n",
    "and she immediately took to the advanced education and lavish parties \n",
    "required of families as high profile as the Crownguards. \n",
    "As Lux matured, it became clear that she was extraordinarily gifted. \n",
    "She could play tricks that made people believe they had seen things \n",
    "that did not actually exist. She could also hide in plain sight. Somehow, \n",
    "she was able to reverse engineer arcane magical spells after seeing them cast only once. \n",
    "She was hailed as a prodigy, drawing the affections of the Demacian government, military, and citizens alike.\n",
    "\n",
    "As one of the youngest women to be tested by the College of Magic, \n",
    "she was discovered to possess a unique command over the powers of light. \n",
    "The young Lux viewed this as a great gift, something for her to embrace and use in the name of good. \n",
    "Realizing her unique skills, the Demacian military recruited and trained her in covert operations. \n",
    "She quickly became renowned for her daring achievements; \n",
    "the most dangerous of which found her deep in the chambers of the Noxian High Command. \n",
    "She extracted valuable inside information about the Noxus-Ionian conflict, \n",
    "earning her great favor with Demacians and Ionians alike. However, reconnaissance and surveillance was not for her. \n",
    "A light of her people, Lux's true calling was the League of Legends, \n",
    "where she could follow in her brother's footsteps and unleash her gifts as an inspiration for all of Demacia.\n",
    "'''"
   ]
  },
  {
   "cell_type": "code",
   "execution_count": 9,
   "metadata": {},
   "outputs": [
    {
     "data": {
      "text/plain": [
       "['was', 'was', 'was', 'was', 'was', 'was', 'was']"
      ]
     },
     "execution_count": 9,
     "metadata": {},
     "output_type": "execute_result"
    }
   ],
   "source": [
    "re.findall('Lux', story)\n",
    "re.findall('Lux|her|she', story)\n",
    "re.findall('[Ll]ux|[Hh]er|[Ss]he', story)\n",
    "re.findall('^Born', story)\n",
    "re.findall('Demacia$', story)\n",
    "re.findall('was', story)\n",
    "re.findall('(?<=she) was', story)\n",
    "re.findall('\\w+(?<!she) was', story)\n",
    "re.findall('\\bwas\\b', story)\n",
    "re.findall(r'\\bwas\\b', story)"
   ]
  },
  {
   "cell_type": "code",
   "execution_count": 11,
   "metadata": {},
   "outputs": [
    {
     "ename": "NameError",
     "evalue": "name 'p' is not defined",
     "output_type": "error",
     "traceback": [
      "\u001b[0;31m---------------------------------------------------------------------------\u001b[0m",
      "\u001b[0;31mNameError\u001b[0m                                 Traceback (most recent call last)",
      "\u001b[0;32m<ipython-input-11-f7057ac98fe3>\u001b[0m in \u001b[0;36m<module>\u001b[0;34m\u001b[0m\n\u001b[0;32m----> 1\u001b[0;31m \u001b[0mre\u001b[0m\u001b[0;34m.\u001b[0m\u001b[0msub\u001b[0m\u001b[0;34m(\u001b[0m\u001b[0mp\u001b[0m\u001b[0;34m,\u001b[0m \u001b[0;34mr'\\g<befor>\\g<center>[\\g<after>]'\u001b[0m\u001b[0;34m,\u001b[0m \u001b[0mstory\u001b[0m\u001b[0;34m)\u001b[0m\u001b[0;34m\u001b[0m\u001b[0;34m\u001b[0m\u001b[0m\n\u001b[0m\u001b[1;32m      2\u001b[0m \u001b[0;34m\u001b[0m\u001b[0m\n\u001b[1;32m      3\u001b[0m \u001b[0;32mdef\u001b[0m \u001b[0mreplace_f\u001b[0m\u001b[0;34m(\u001b[0m\u001b[0mm\u001b[0m\u001b[0;34m)\u001b[0m\u001b[0;34m:\u001b[0m\u001b[0;34m\u001b[0m\u001b[0;34m\u001b[0m\u001b[0m\n\u001b[1;32m      4\u001b[0m     \u001b[0mbefore\u001b[0m \u001b[0;34m=\u001b[0m \u001b[0mm\u001b[0m\u001b[0;34m.\u001b[0m\u001b[0mgroup\u001b[0m\u001b[0;34m(\u001b[0m\u001b[0;34m'before'\u001b[0m\u001b[0;34m)\u001b[0m\u001b[0;34m.\u001b[0m\u001b[0mupper\u001b[0m\u001b[0;34m(\u001b[0m\u001b[0;34m)\u001b[0m\u001b[0;34m\u001b[0m\u001b[0;34m\u001b[0m\u001b[0m\n\u001b[1;32m      5\u001b[0m     \u001b[0mcenter\u001b[0m \u001b[0;34m=\u001b[0m \u001b[0mm\u001b[0m\u001b[0;34m.\u001b[0m\u001b[0mgroup\u001b[0m\u001b[0;34m(\u001b[0m\u001b[0;34m'center'\u001b[0m\u001b[0;34m)\u001b[0m\u001b[0;34m\u001b[0m\u001b[0;34m\u001b[0m\u001b[0m\n",
      "\u001b[0;31mNameError\u001b[0m: name 'p' is not defined"
     ]
    }
   ],
   "source": [
    "re.sub(p, r'\\g<befor>\\g<center>[\\g<after>]', story)\n",
    "\n",
    "def replace_f(m):\n",
    "    before = m.group('before').upper()\n",
    "    center = m.group('center')\n",
    "#     after = f'[{m.group(\"after\")}]'\n",
    "    after = '[{}]'.format(after=m.group(\"after\"))\n",
    "    \n",
    "    result = f'{before}{center}{after}'\n",
    "    return result\n",
    "\n",
    "re.sub(p, replace_f, story)\n",
    "# re.sub(p, ,story)"
   ]
  },
  {
   "cell_type": "code",
   "execution_count": null,
   "metadata": {},
   "outputs": [],
   "source": []
  },
  {
   "cell_type": "raw",
   "metadata": {},
   "source": []
  }
 ],
 "metadata": {
  "kernelspec": {
   "display_name": "Python 3",
   "language": "python",
   "name": "python3"
  },
  "language_info": {
   "codemirror_mode": {
    "name": "ipython",
    "version": 3
   },
   "file_extension": ".py",
   "mimetype": "text/x-python",
   "name": "python",
   "nbconvert_exporter": "python",
   "pygments_lexer": "ipython3",
   "version": "3.7.4"
  }
 },
 "nbformat": 4,
 "nbformat_minor": 2
}
