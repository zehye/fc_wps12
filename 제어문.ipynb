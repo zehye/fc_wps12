{
 "cells": [
  {
   "cell_type": "code",
   "execution_count": 3,
   "metadata": {},
   "outputs": [],
   "source": [
    "score = 92"
   ]
  },
  {
   "cell_type": "code",
   "execution_count": 4,
   "metadata": {},
   "outputs": [
    {
     "name": "stdout",
     "output_type": "stream",
     "text": [
      "잘했음!\n"
     ]
    }
   ],
   "source": [
    "if score > 90:\n",
    "    print(\"잘했음!\")\n",
    "else:\n",
    "    if score > 80:\n",
    "        print(\"그럭저럭\")\n",
    "    else:\n",
    "        if score > 70:\n",
    "            print(\"봐줄만함\")\n",
    "        else:\n",
    "            print(\"못함\")"
   ]
  },
  {
   "cell_type": "code",
   "execution_count": 5,
   "metadata": {},
   "outputs": [
    {
     "name": "stdout",
     "output_type": "stream",
     "text": [
      "잘함\n"
     ]
    }
   ],
   "source": [
    "if score > 90:\n",
    "    print(\"잘함\")\n",
    "elif score > 80:\n",
    "    print(\"그럭저럭\")\n",
    "elif score > 70:\n",
    "    print(봐줄만함)\n",
    "else:\n",
    "    print(\"못함\")"
   ]
  },
  {
   "cell_type": "code",
   "execution_count": 6,
   "metadata": {},
   "outputs": [
    {
     "data": {
      "text/plain": [
       "'70넘음'"
      ]
     },
     "execution_count": 6,
     "metadata": {},
     "output_type": "execute_result"
    }
   ],
   "source": [
    "'70넘음' if score>70 else '70안넘음'"
   ]
  },
  {
   "cell_type": "code",
   "execution_count": 11,
   "metadata": {},
   "outputs": [
    {
     "data": {
      "text/plain": [
       "'70넘음'"
      ]
     },
     "execution_count": 11,
     "metadata": {},
     "output_type": "execute_result"
    }
   ],
   "source": [
    "def f():\n",
    "    if score > 70:\n",
    "        return '70넘음'\n",
    "    else:\n",
    "        return '70안넘음'\n",
    "f()"
   ]
  },
  {
   "cell_type": "code",
   "execution_count": 20,
   "metadata": {},
   "outputs": [],
   "source": [
    "is_holiday = True"
   ]
  },
  {
   "cell_type": "code",
   "execution_count": 21,
   "metadata": {},
   "outputs": [
    {
     "data": {
      "text/plain": [
       "'Good'"
      ]
     },
     "execution_count": 21,
     "metadata": {},
     "output_type": "execute_result"
    }
   ],
   "source": [
    "'Good' if is_holiday else 'Bad'"
   ]
  },
  {
   "cell_type": "code",
   "execution_count": 8,
   "metadata": {},
   "outputs": [],
   "source": [
    "vacation = 6"
   ]
  },
  {
   "cell_type": "code",
   "execution_count": 9,
   "metadata": {},
   "outputs": [
    {
     "name": "stdout",
     "output_type": "stream",
     "text": [
      "Normal\n"
     ]
    }
   ],
   "source": [
    "if vacation > 7:\n",
    "    print('Good')\n",
    "elif vacation >5:\n",
    "    print('Normal')\n",
    "else:\n",
    "    print('Bad')"
   ]
  },
  {
   "cell_type": "code",
   "execution_count": 10,
   "metadata": {},
   "outputs": [
    {
     "data": {
      "text/plain": [
       "'Normal'"
      ]
     },
     "execution_count": 10,
     "metadata": {},
     "output_type": "execute_result"
    }
   ],
   "source": [
    "'Good' if vacation>7 else 'Normal' if vacation >5 else 'Bad'"
   ]
  },
  {
   "cell_type": "code",
   "execution_count": 11,
   "metadata": {},
   "outputs": [
    {
     "name": "stdout",
     "output_type": "stream",
     "text": [
      "0\n",
      "1\n",
      "2\n",
      "3\n"
     ]
    }
   ],
   "source": [
    "for i in range(0,4):\n",
    "    print(i)"
   ]
  },
  {
   "cell_type": "code",
   "execution_count": 12,
   "metadata": {},
   "outputs": [],
   "source": [
    "number = []\n",
    "for item in range(1,6):\n",
    "    number.append(item)"
   ]
  },
  {
   "cell_type": "code",
   "execution_count": 13,
   "metadata": {},
   "outputs": [
    {
     "data": {
      "text/plain": [
       "[1, 2, 3, 4, 5]"
      ]
     },
     "execution_count": 13,
     "metadata": {},
     "output_type": "execute_result"
    }
   ],
   "source": [
    "number"
   ]
  },
  {
   "cell_type": "code",
   "execution_count": 14,
   "metadata": {},
   "outputs": [
    {
     "data": {
      "text/plain": [
       "[0, 1, 2, 3, 4, 5]"
      ]
     },
     "execution_count": 14,
     "metadata": {},
     "output_type": "execute_result"
    }
   ],
   "source": [
    "[item for item in range(0,6)]"
   ]
  },
  {
   "cell_type": "code",
   "execution_count": 15,
   "metadata": {},
   "outputs": [
    {
     "data": {
      "text/plain": [
       "[0, 1, 2, 3, 4, 5, 6, 7, 8, 9]"
      ]
     },
     "execution_count": 15,
     "metadata": {},
     "output_type": "execute_result"
    }
   ],
   "source": [
    "[i for i in range(0,10)]"
   ]
  },
  {
   "cell_type": "code",
   "execution_count": 150,
   "metadata": {},
   "outputs": [
    {
     "data": {
      "text/plain": [
       "[2, 4, 6, 8, 10]"
      ]
     },
     "execution_count": 150,
     "metadata": {},
     "output_type": "execute_result"
    }
   ],
   "source": [
    "[item*2 for item in range(1,6)]"
   ]
  },
  {
   "cell_type": "code",
   "execution_count": 153,
   "metadata": {},
   "outputs": [
    {
     "data": {
      "text/plain": [
       "[2, 4]"
      ]
     },
     "execution_count": 153,
     "metadata": {},
     "output_type": "execute_result"
    }
   ],
   "source": [
    "[x for x in range(1,6) if x %2 ==0]"
   ]
  },
  {
   "cell_type": "code",
   "execution_count": 156,
   "metadata": {},
   "outputs": [
    {
     "data": {
      "text/plain": [
       "[2, 4]"
      ]
     },
     "execution_count": 156,
     "metadata": {},
     "output_type": "execute_result"
    }
   ],
   "source": [
    "result = []\n",
    "for i in range(1,6):\n",
    "    if i % 2 ==0:\n",
    "        result.append(i)\n",
    "\n",
    "result"
   ]
  },
  {
   "cell_type": "code",
   "execution_count": 3,
   "metadata": {},
   "outputs": [
    {
     "name": "stdout",
     "output_type": "stream",
     "text": [
      "(0, 0)\n",
      "(0, 1)\n",
      "(0, 2)\n",
      "(0, 3)\n",
      "(1, 0)\n",
      "(1, 1)\n",
      "(1, 2)\n",
      "(1, 3)\n",
      "(2, 0)\n",
      "(2, 1)\n",
      "(2, 2)\n",
      "(2, 3)\n",
      "(3, 0)\n",
      "(3, 1)\n",
      "(3, 2)\n",
      "(3, 3)\n",
      "(4, 0)\n",
      "(4, 1)\n",
      "(4, 2)\n",
      "(4, 3)\n",
      "(5, 0)\n",
      "(5, 1)\n",
      "(5, 2)\n",
      "(5, 3)\n",
      "(6, 0)\n",
      "(6, 1)\n",
      "(6, 2)\n",
      "(6, 3)\n"
     ]
    }
   ],
   "source": [
    "# 1번문제\n",
    "for i in range(7):\n",
    "    for j in range(4):\n",
    "        print((i,j))"
   ]
  },
  {
   "cell_type": "code",
   "execution_count": 4,
   "metadata": {},
   "outputs": [
    {
     "data": {
      "text/plain": [
       "[(0, 0),\n",
       " (0, 1),\n",
       " (0, 2),\n",
       " (0, 3),\n",
       " (1, 0),\n",
       " (1, 1),\n",
       " (1, 2),\n",
       " (1, 3),\n",
       " (2, 0),\n",
       " (2, 1),\n",
       " (2, 2),\n",
       " (2, 3),\n",
       " (3, 0),\n",
       " (3, 1),\n",
       " (3, 2),\n",
       " (3, 3),\n",
       " (4, 0),\n",
       " (4, 1),\n",
       " (4, 2),\n",
       " (4, 3),\n",
       " (5, 0),\n",
       " (5, 1),\n",
       " (5, 2),\n",
       " (5, 3),\n",
       " (6, 0),\n",
       " (6, 1),\n",
       " (6, 2),\n",
       " (6, 3)]"
      ]
     },
     "execution_count": 4,
     "metadata": {},
     "output_type": "execute_result"
    }
   ],
   "source": [
    "# 2번문제\n",
    "[(i,j) for i in range(7) for j in range(4)]"
   ]
  },
  {
   "cell_type": "code",
   "execution_count": 5,
   "metadata": {
    "scrolled": true
   },
   "outputs": [
    {
     "name": "stdout",
     "output_type": "stream",
     "text": [
      "(0, 0)\n",
      "(0, 1)\n",
      "(0, 2)\n",
      "(0, 3)\n",
      "(2, 0)\n",
      "(2, 1)\n",
      "(2, 2)\n",
      "(2, 3)\n",
      "(4, 0)\n",
      "(4, 1)\n",
      "(4, 2)\n",
      "(4, 3)\n",
      "(6, 0)\n",
      "(6, 1)\n",
      "(6, 2)\n",
      "(6, 3)\n"
     ]
    }
   ],
   "source": [
    "# 3번문제\n",
    "for i in range(7):\n",
    "    for j in range(4):\n",
    "        if i % 2==0:\n",
    "            print((i,j))"
   ]
  },
  {
   "cell_type": "code",
   "execution_count": 8,
   "metadata": {},
   "outputs": [
    {
     "data": {
      "text/plain": [
       "[(0, 0),\n",
       " (0, 1),\n",
       " (0, 2),\n",
       " (0, 3),\n",
       " (2, 0),\n",
       " (2, 1),\n",
       " (2, 2),\n",
       " (2, 3),\n",
       " (4, 0),\n",
       " (4, 1),\n",
       " (4, 2),\n",
       " (4, 3),\n",
       " (6, 0),\n",
       " (6, 1),\n",
       " (6, 2),\n",
       " (6, 3)]"
      ]
     },
     "execution_count": 8,
     "metadata": {},
     "output_type": "execute_result"
    }
   ],
   "source": [
    "# 3번문제\n",
    "[(i,j) for i in range(7) for j in range(4) if i % 2 ==0]"
   ]
  },
  {
   "cell_type": "code",
   "execution_count": 9,
   "metadata": {},
   "outputs": [
    {
     "name": "stdout",
     "output_type": "stream",
     "text": [
      "(0, 0)\n",
      "(0, 1)\n",
      "(0, 2)\n",
      "(0, 3)\n",
      "(2, 0)\n",
      "(2, 1)\n",
      "(2, 2)\n",
      "(2, 3)\n",
      "(4, 0)\n",
      "(4, 1)\n",
      "(4, 2)\n",
      "(4, 3)\n",
      "(6, 0)\n",
      "(6, 1)\n",
      "(6, 2)\n",
      "(6, 3)\n"
     ]
    }
   ],
   "source": [
    "# 3번문제\n",
    "for i in range(0,7,2):\n",
    "    for j in range(4):\n",
    "        print((i,j))"
   ]
  },
  {
   "cell_type": "code",
   "execution_count": 22,
   "metadata": {},
   "outputs": [],
   "source": [
    "# 4번문제\n",
    "result = 0\n",
    "for x in range(1000,2000):\n",
    "    if x % 2 ==1:\n",
    "        result += x"
   ]
  },
  {
   "cell_type": "code",
   "execution_count": 23,
   "metadata": {},
   "outputs": [
    {
     "name": "stdout",
     "output_type": "stream",
     "text": [
      "750000\n"
     ]
    }
   ],
   "source": [
    "print(result)"
   ]
  },
  {
   "cell_type": "code",
   "execution_count": 24,
   "metadata": {},
   "outputs": [
    {
     "data": {
      "text/plain": [
       "['2x1=2',\n",
       " '2x2=4',\n",
       " '2x3=6',\n",
       " '2x4=8',\n",
       " '2x5=10',\n",
       " '2x6=12',\n",
       " '2x7=14',\n",
       " '2x8=16',\n",
       " '2x9=18',\n",
       " '3x1=3',\n",
       " '3x2=6',\n",
       " '3x3=9',\n",
       " '3x4=12',\n",
       " '3x5=15',\n",
       " '3x6=18',\n",
       " '3x7=21',\n",
       " '3x8=24',\n",
       " '3x9=27',\n",
       " '4x1=4',\n",
       " '4x2=8',\n",
       " '4x3=12',\n",
       " '4x4=16',\n",
       " '4x5=20',\n",
       " '4x6=24',\n",
       " '4x7=28',\n",
       " '4x8=32',\n",
       " '4x9=36',\n",
       " '5x1=5',\n",
       " '5x2=10',\n",
       " '5x3=15',\n",
       " '5x4=20',\n",
       " '5x5=25',\n",
       " '5x6=30',\n",
       " '5x7=35',\n",
       " '5x8=40',\n",
       " '5x9=45',\n",
       " '6x1=6',\n",
       " '6x2=12',\n",
       " '6x3=18',\n",
       " '6x4=24',\n",
       " '6x5=30',\n",
       " '6x6=36',\n",
       " '6x7=42',\n",
       " '6x8=48',\n",
       " '6x9=54',\n",
       " '7x1=7',\n",
       " '7x2=14',\n",
       " '7x3=21',\n",
       " '7x4=28',\n",
       " '7x5=35',\n",
       " '7x6=42',\n",
       " '7x7=49',\n",
       " '7x8=56',\n",
       " '7x9=63',\n",
       " '8x1=8',\n",
       " '8x2=16',\n",
       " '8x3=24',\n",
       " '8x4=32',\n",
       " '8x5=40',\n",
       " '8x6=48',\n",
       " '8x7=56',\n",
       " '8x8=64',\n",
       " '8x9=72',\n",
       " '9x1=9',\n",
       " '9x2=18',\n",
       " '9x3=27',\n",
       " '9x4=36',\n",
       " '9x5=45',\n",
       " '9x6=54',\n",
       " '9x7=63',\n",
       " '9x8=72',\n",
       " '9x9=81']"
      ]
     },
     "execution_count": 24,
     "metadata": {},
     "output_type": "execute_result"
    }
   ],
   "source": [
    "# 5번문제\n",
    "[('{}x{}={}'.format(i,j,i*j)) for i in range(2,10) for j in range(1,10)]"
   ]
  },
  {
   "cell_type": "code",
   "execution_count": 25,
   "metadata": {},
   "outputs": [
    {
     "name": "stdout",
     "output_type": "stream",
     "text": [
      "['2x1=3']\n",
      "['2x2=4']\n",
      "['2x3=5']\n",
      "['2x4=6']\n",
      "['2x5=7']\n",
      "['2x6=8']\n",
      "['2x7=9']\n",
      "['2x8=10']\n",
      "['2x9=11']\n",
      "['3x1=4']\n",
      "['3x2=5']\n",
      "['3x3=6']\n",
      "['3x4=7']\n",
      "['3x5=8']\n",
      "['3x6=9']\n",
      "['3x7=10']\n",
      "['3x8=11']\n",
      "['3x9=12']\n",
      "['4x1=5']\n",
      "['4x2=6']\n",
      "['4x3=7']\n",
      "['4x4=8']\n",
      "['4x5=9']\n",
      "['4x6=10']\n",
      "['4x7=11']\n",
      "['4x8=12']\n",
      "['4x9=13']\n",
      "['5x1=6']\n",
      "['5x2=7']\n",
      "['5x3=8']\n",
      "['5x4=9']\n",
      "['5x5=10']\n",
      "['5x6=11']\n",
      "['5x7=12']\n",
      "['5x8=13']\n",
      "['5x9=14']\n",
      "['6x1=7']\n",
      "['6x2=8']\n",
      "['6x3=9']\n",
      "['6x4=10']\n",
      "['6x5=11']\n",
      "['6x6=12']\n",
      "['6x7=13']\n",
      "['6x8=14']\n",
      "['6x9=15']\n",
      "['7x1=8']\n",
      "['7x2=9']\n",
      "['7x3=10']\n",
      "['7x4=11']\n",
      "['7x5=12']\n",
      "['7x6=13']\n",
      "['7x7=14']\n",
      "['7x8=15']\n",
      "['7x9=16']\n",
      "['8x1=9']\n",
      "['8x2=10']\n",
      "['8x3=11']\n",
      "['8x4=12']\n",
      "['8x5=13']\n",
      "['8x6=14']\n",
      "['8x7=15']\n",
      "['8x8=16']\n",
      "['8x9=17']\n",
      "['9x1=10']\n",
      "['9x2=11']\n",
      "['9x3=12']\n",
      "['9x4=13']\n",
      "['9x5=14']\n",
      "['9x6=15']\n",
      "['9x7=16']\n",
      "['9x8=17']\n",
      "['9x9=18']\n"
     ]
    }
   ],
   "source": [
    "for i in range(2,10):\n",
    "    for j in range(1,10):\n",
    "        print('{}x{}={}'.format(i,j,i+j).split())"
   ]
  },
  {
   "cell_type": "code",
   "execution_count": 26,
   "metadata": {},
   "outputs": [],
   "source": [
    "# 6번문제\n",
    "result = []\n",
    "for i in range(1,100):\n",
    "    if i % 7 == 0 or i % 9 ==0:\n",
    "        result.append(i)"
   ]
  },
  {
   "cell_type": "code",
   "execution_count": 27,
   "metadata": {},
   "outputs": [
    {
     "name": "stdout",
     "output_type": "stream",
     "text": [
      "[7, 9, 14, 18, 21, 27, 28, 35, 36, 42, 45, 49, 54, 56, 63, 70, 72, 77, 81, 84, 90, 91, 98, 99]\n"
     ]
    }
   ],
   "source": [
    "print(result)"
   ]
  },
  {
   "cell_type": "code",
   "execution_count": 28,
   "metadata": {},
   "outputs": [
    {
     "name": "stdout",
     "output_type": "stream",
     "text": [
      "0\n",
      "1\n",
      "2\n",
      "3\n",
      "4\n"
     ]
    },
    {
     "data": {
      "text/plain": [
       "[None, None, None, None, None]"
      ]
     },
     "execution_count": 28,
     "metadata": {},
     "output_type": "execute_result"
    }
   ],
   "source": [
    "[print(a) for a in range(5)]"
   ]
  },
  {
   "cell_type": "code",
   "execution_count": 29,
   "metadata": {},
   "outputs": [],
   "source": [
    "# print는 값을 반환하는게 아니라 콘솔창에 그냥 내용을 띄워주는 것\n",
    "# 어떤 값을 표현하느냐 혹은 리턴하는게 없느냐의 차이\n",
    "# 불변과 반복가능\n",
    "# 불변은 literal data는 무조건 불변, 객체는 불볍\n",
    "# 예로 \n",
    "a='안녕하세요'"
   ]
  },
  {
   "cell_type": "code",
   "execution_count": 30,
   "metadata": {},
   "outputs": [],
   "source": [
    "# a는 변수고 얘는 메모리상에 객체를 가리키는데, 객체가 변하는것이 아닌 객체가 가리키는 메모리가 변하는것"
   ]
  },
  {
   "cell_type": "code",
   "execution_count": 31,
   "metadata": {},
   "outputs": [
    {
     "name": "stdout",
     "output_type": "stream",
     "text": [
      "안\n",
      "녕\n"
     ]
    }
   ],
   "source": [
    "# 반복가능하다는 것은 제어문(for, while)문으로 순회가 가능하고\n",
    "# 시퀀스 데이터타입은 반복가능한 객체의 일부분\n",
    "# 예로 들어서\n",
    "for char in '안녕':\n",
    "    print(char)\n"
   ]
  },
  {
   "cell_type": "code",
   "execution_count": 32,
   "metadata": {},
   "outputs": [],
   "source": [
    "# for문으로 순회가능한 애들은 반복가능하다고 이해하면 쉬움\n",
    "# 해당 객체에 literal한 메서드 객체가 있느냐에 따라 결정됨\n",
    "# 객체가 있고 제대로 정의가 되어있느냐에 따라 반복가능하다가 정해짐\n",
    "# 문자열도 되고 숫자도 되고\n",
    "# "
   ]
  },
  {
   "cell_type": "code",
   "execution_count": 33,
   "metadata": {},
   "outputs": [
    {
     "name": "stdout",
     "output_type": "stream",
     "text": [
      "lux\n",
      "ahri\n",
      "ezreal\n",
      "zed\n"
     ]
    }
   ],
   "source": [
    "champion_list = ['lux','ahri', 'ezreal', 'zed']\n",
    "for champion in champion_list:\n",
    "    print(champion)"
   ]
  },
  {
   "cell_type": "code",
   "execution_count": 66,
   "metadata": {},
   "outputs": [
    {
     "name": "stdout",
     "output_type": "stream",
     "text": [
      "바깥 순회:0\n",
      "   내부 순회:(0, 0)\n",
      "   내부 순회:(0, 1)\n",
      "   내부 순회:(0, 2)\n",
      "   내부 순회:(0, 3)\n",
      "바깥 순회:1\n",
      "   내부 순회:(1, 0)\n",
      "   내부 순회:(1, 1)\n",
      "   내부 순회:(1, 2)\n",
      "   내부 순회:(1, 3)\n",
      "바깥 순회:2\n",
      "   내부 순회:(2, 0)\n",
      "   내부 순회:(2, 1)\n",
      "   내부 순회:(2, 2)\n",
      "   내부 순회:(2, 3)\n",
      "바깥 순회:3\n",
      "   내부 순회:(3, 0)\n",
      "   내부 순회:(3, 1)\n",
      "   내부 순회:(3, 2)\n",
      "   내부 순회:(3, 3)\n",
      "바깥 순회:4\n",
      "   내부 순회:(4, 0)\n",
      "   내부 순회:(4, 1)\n",
      "   내부 순회:(4, 2)\n",
      "   내부 순회:(4, 3)\n"
     ]
    }
   ],
   "source": [
    "for i in range(5):\n",
    "    print(f'바깥 순회:{i}')\n",
    "    for j in range(4):\n",
    "        print(f'   내부 순회:{i,j}')"
   ]
  },
  {
   "cell_type": "code",
   "execution_count": 77,
   "metadata": {
    "scrolled": true
   },
   "outputs": [
    {
     "name": "stdout",
     "output_type": "stream",
     "text": [
      "63\n"
     ]
    }
   ],
   "source": [
    "# 1000까지 반복하다가 7과 9로 모두 나누어지는 수가 나오면 break로 for문 중단\n",
    "for i in range(1,101):\n",
    "    if i % 7 ==0 and i % 9==0:\n",
    "        print(i)\n",
    "        break"
   ]
  },
  {
   "cell_type": "code",
   "execution_count": 78,
   "metadata": {},
   "outputs": [
    {
     "name": "stdout",
     "output_type": "stream",
     "text": [
      "1\n",
      "2\n",
      "4\n",
      "7\n",
      "8\n",
      "11\n",
      "13\n",
      "14\n",
      "16\n",
      "17\n",
      "19\n"
     ]
    }
   ],
   "source": [
    "# 3이나 5의 배수는 출력되지 않도록 한다. \n",
    "for i in range(0,21):\n",
    "    if i % 3 ==0 or i % 5 ==0:\n",
    "        continue\n",
    "    print(i)"
   ]
  },
  {
   "cell_type": "code",
   "execution_count": 114,
   "metadata": {},
   "outputs": [],
   "source": [
    "# i가 969로 나누어 떨어지면 해당 숫자를 출력\n",
    "# 만약 나누어떨어지지 않는다면, \"969로 나누어떨어지지 않음\"출력\n",
    "\n",
    "number = 959\n",
    "is_break = None\n",
    "for i in range(1, 3000,7):\n",
    "    if i % number ==0:\n",
    "        print(f'{i}')\n",
    "        is_break = True\n",
    "        break\n",
    "        \n",
    "# if is_break != True:\n",
    "if is_break is False:\n",
    "    print(f'{number}로는 나누어지지 않음')"
   ]
  },
  {
   "cell_type": "code",
   "execution_count": 115,
   "metadata": {},
   "outputs": [],
   "source": [
    "# is는 객체를 비교함\n",
    "# ==는 객체가 가진 값을 비교함"
   ]
  },
  {
   "cell_type": "code",
   "execution_count": 116,
   "metadata": {},
   "outputs": [],
   "source": [
    "# None, True, False도 다 객체임\n",
    "is_break = True\n",
    "# 주소를 따라가 그 주소가 실제 그 객체가 가진 값을 찾아감\n",
    "# is를 써서 판단할때는 값을 비교하는것이 아닌 주소만 보고 비교함\n",
    "# 실제 값이 같다를 판단하는건 주소를 통해 들어간 객체의 값을 보고 판단하는것!\n",
    "# 즉 is는 id값을 비교하는 것!"
   ]
  },
  {
   "cell_type": "code",
   "execution_count": 120,
   "metadata": {},
   "outputs": [
    {
     "name": "stdout",
     "output_type": "stream",
     "text": [
      "fruit:  apple / color: red\n",
      "fruit:  banana / color: yellow\n",
      "fruit:  melon / color: green\n"
     ]
    }
   ],
   "source": [
    "fruits = ['apple', 'banana', 'melon']\n",
    "colors = ['red', 'yellow', 'green', 'purple']\n",
    "for fruit, color in zip(fruits, colors):\n",
    "    print('fruit: ', fruit,'/' ' color:', color)"
   ]
  },
  {
   "cell_type": "code",
   "execution_count": 122,
   "metadata": {},
   "outputs": [
    {
     "name": "stdout",
     "output_type": "stream",
     "text": [
      "('apple', 'red')\n",
      "('banana', 'yellow')\n",
      "('melon', 'green')\n"
     ]
    }
   ],
   "source": [
    "for items in zip(fruits, colors):\n",
    "    print(items)"
   ]
  },
  {
   "cell_type": "code",
   "execution_count": 128,
   "metadata": {},
   "outputs": [
    {
     "name": "stdout",
     "output_type": "stream",
     "text": [
      "apple red\n",
      "banana yellow\n",
      "melon green\n"
     ]
    }
   ],
   "source": [
    "for items in zip(fruits, colors):\n",
    "    print(items[0],items[1])"
   ]
  },
  {
   "cell_type": "code",
   "execution_count": 129,
   "metadata": {},
   "outputs": [],
   "source": [
    "range_5 = range(5)\n",
    "list_5 = [0,1,2,3,4]"
   ]
  },
  {
   "cell_type": "code",
   "execution_count": 130,
   "metadata": {},
   "outputs": [
    {
     "data": {
      "text/plain": [
       "range(0, 5)"
      ]
     },
     "execution_count": 130,
     "metadata": {},
     "output_type": "execute_result"
    }
   ],
   "source": [
    "range_5"
   ]
  },
  {
   "cell_type": "code",
   "execution_count": 131,
   "metadata": {},
   "outputs": [
    {
     "data": {
      "text/plain": [
       "[0, 1, 2, 3, 4]"
      ]
     },
     "execution_count": 131,
     "metadata": {},
     "output_type": "execute_result"
    }
   ],
   "source": [
    "list_5"
   ]
  },
  {
   "cell_type": "code",
   "execution_count": 139,
   "metadata": {},
   "outputs": [],
   "source": [
    "gen_5 = (x for x in range(5))\n",
    "list_5 = [x for x in range(5)]"
   ]
  },
  {
   "cell_type": "code",
   "execution_count": 140,
   "metadata": {},
   "outputs": [
    {
     "data": {
      "text/plain": [
       "0"
      ]
     },
     "execution_count": 140,
     "metadata": {},
     "output_type": "execute_result"
    }
   ],
   "source": [
    "list_5[0]"
   ]
  },
  {
   "cell_type": "code",
   "execution_count": 141,
   "metadata": {},
   "outputs": [
    {
     "ename": "TypeError",
     "evalue": "'generator' object is not subscriptable",
     "output_type": "error",
     "traceback": [
      "\u001b[0;31m---------------------------------------------------------------------------\u001b[0m",
      "\u001b[0;31mTypeError\u001b[0m                                 Traceback (most recent call last)",
      "\u001b[0;32m<ipython-input-141-3c1fe1a51a01>\u001b[0m in \u001b[0;36m<module>\u001b[0;34m\u001b[0m\n\u001b[0;32m----> 1\u001b[0;31m \u001b[0mgen_5\u001b[0m\u001b[0;34m[\u001b[0m\u001b[0;36m0\u001b[0m\u001b[0;34m]\u001b[0m\u001b[0;34m\u001b[0m\u001b[0;34m\u001b[0m\u001b[0m\n\u001b[0m",
      "\u001b[0;31mTypeError\u001b[0m: 'generator' object is not subscriptable"
     ]
    }
   ],
   "source": [
    "gen_5[0]"
   ]
  },
  {
   "cell_type": "code",
   "execution_count": 143,
   "metadata": {},
   "outputs": [
    {
     "name": "stdout",
     "output_type": "stream",
     "text": [
      "0\n",
      "1\n",
      "2\n",
      "3\n",
      "4\n",
      "5\n",
      "6\n",
      "7\n",
      "8\n",
      "9\n"
     ]
    }
   ],
   "source": [
    "count = 0\n",
    "while count <10:\n",
    "    print(count)\n",
    "    count +=1"
   ]
  },
  {
   "cell_type": "code",
   "execution_count": 144,
   "metadata": {},
   "outputs": [],
   "source": [
    "# 조건을 순회하고싶다면 while\n",
    "# 객체를 순회하고 싶다면 for"
   ]
  },
  {
   "cell_type": "code",
   "execution_count": 148,
   "metadata": {},
   "outputs": [
    {
     "name": "stdout",
     "output_type": "stream",
     "text": [
      "[1, 2, 3, 4, 5]\n"
     ]
    }
   ],
   "source": [
    "number = []\n",
    "for item in range(1,6):\n",
    "    number.append(item)\n",
    "print(number)"
   ]
  },
  {
   "cell_type": "code",
   "execution_count": 149,
   "metadata": {},
   "outputs": [
    {
     "data": {
      "text/plain": [
       "[1, 2, 3, 4, 5]"
      ]
     },
     "execution_count": 149,
     "metadata": {},
     "output_type": "execute_result"
    }
   ],
   "source": [
    "numbers = [item for item in range(1,6)]\n",
    "numbers"
   ]
  },
  {
   "cell_type": "code",
   "execution_count": 163,
   "metadata": {},
   "outputs": [
    {
     "data": {
      "text/plain": [
       "[('red', 'apple'),\n",
       " ('red', 'banana'),\n",
       " ('red', 'melon'),\n",
       " ('yellow', 'apple'),\n",
       " ('yellow', 'banana'),\n",
       " ('yellow', 'melon'),\n",
       " ('green', 'apple'),\n",
       " ('green', 'banana'),\n",
       " ('green', 'melon'),\n",
       " ('purple', 'apple'),\n",
       " ('purple', 'banana'),\n",
       " ('purple', 'melon')]"
      ]
     },
     "execution_count": 163,
     "metadata": {},
     "output_type": "execute_result"
    }
   ],
   "source": [
    "result = []\n",
    "for color in colors:\n",
    "    for fruit in fruits:\n",
    "#         result.append(color, fruit)\n",
    "        result.append((color, fruit))\n",
    "        \n",
    "result\n",
    "\n",
    "# 리스트의 append는 반드시 한개의 변수만 받을 수 있어\n",
    "# 근데 ()이렇게만하면 두개의 변수만 전달되기 때문에 하나의 튜플로 전달해주기 위해 ()로\n",
    "# 튜플객체로!"
   ]
  },
  {
   "cell_type": "code",
   "execution_count": 165,
   "metadata": {},
   "outputs": [
    {
     "data": {
      "text/plain": [
       "[('red', 'apple'),\n",
       " ('red', 'banana'),\n",
       " ('red', 'melon'),\n",
       " ('yellow', 'apple'),\n",
       " ('yellow', 'banana'),\n",
       " ('yellow', 'melon'),\n",
       " ('green', 'apple'),\n",
       " ('green', 'banana'),\n",
       " ('green', 'melon'),\n",
       " ('purple', 'apple'),\n",
       " ('purple', 'banana'),\n",
       " ('purple', 'melon')]"
      ]
     },
     "execution_count": 165,
     "metadata": {},
     "output_type": "execute_result"
    }
   ],
   "source": [
    "result = [(color, fruit) for color in colors for fruit in fruits]\n",
    "result"
   ]
  },
  {
   "cell_type": "code",
   "execution_count": 169,
   "metadata": {},
   "outputs": [
    {
     "data": {
      "text/plain": [
       "{'E', 'a', 'e', 'l', 'r', 'z'}"
      ]
     },
     "execution_count": 169,
     "metadata": {},
     "output_type": "execute_result"
    }
   ],
   "source": [
    "a = {item for item in 'Ezreal'}\n",
    "a\n",
    "# 대문자 먼저, 알파벳 순으로"
   ]
  },
  {
   "cell_type": "code",
   "execution_count": 173,
   "metadata": {},
   "outputs": [
    {
     "data": {
      "text/plain": [
       "{'apple': '사과', 'banana': '바나나'}"
      ]
     },
     "execution_count": 173,
     "metadata": {},
     "output_type": "execute_result"
    }
   ],
   "source": [
    "d = {key : value for key, value in [('apple', '사과'), ('banana', '바나나')]}\n",
    "d"
   ]
  },
  {
   "cell_type": "code",
   "execution_count": null,
   "metadata": {},
   "outputs": [],
   "source": [
    "# list comprehension은 리스트를 만들기 위해서 쓰는것으로\n",
    "# 마지막 표현식의값으로 리스트를 만들기 위해서 쓰는 것이지\n",
    "# 연산을 하고 파이썬 구문을 실행하기 위해서 쓰는것이 아닌것"
   ]
  }
 ],
 "metadata": {
  "kernelspec": {
   "display_name": "Python 3",
   "language": "python",
   "name": "python3"
  },
  "language_info": {
   "codemirror_mode": {
    "name": "ipython",
    "version": 3
   },
   "file_extension": ".py",
   "mimetype": "text/x-python",
   "name": "python",
   "nbconvert_exporter": "python",
   "pygments_lexer": "ipython3",
   "version": "3.7.4"
  }
 },
 "nbformat": 4,
 "nbformat_minor": 2
}
