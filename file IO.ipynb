{
 "cells": [
  {
   "cell_type": "code",
   "execution_count": 1,
   "metadata": {},
   "outputs": [
    {
     "data": {
      "text/plain": [
       "11"
      ]
     },
     "execution_count": 1,
     "metadata": {},
     "output_type": "execute_result"
    }
   ],
   "source": [
    "iu = '아이유는아이가아니에유'\n",
    "len(iu)"
   ]
  },
  {
   "cell_type": "code",
   "execution_count": 2,
   "metadata": {},
   "outputs": [
    {
     "data": {
      "text/plain": [
       "11"
      ]
     },
     "execution_count": 2,
     "metadata": {},
     "output_type": "execute_result"
    }
   ],
   "source": [
    "f = open('iu.txt', 'wt')\n",
    "f.write(iu)"
   ]
  },
  {
   "cell_type": "code",
   "execution_count": 3,
   "metadata": {},
   "outputs": [],
   "source": [
    "f.close()"
   ]
  },
  {
   "cell_type": "code",
   "execution_count": 6,
   "metadata": {},
   "outputs": [],
   "source": [
    "f = open('iu.txt', 'wt')\n",
    "f.write('asdalksndals')\n",
    "f.close()"
   ]
  },
  {
   "cell_type": "code",
   "execution_count": 7,
   "metadata": {},
   "outputs": [],
   "source": [
    "f = open('iu.txt', 'at')\n",
    "f.write(iu)\n",
    "f.close()"
   ]
  },
  {
   "cell_type": "code",
   "execution_count": 11,
   "metadata": {},
   "outputs": [],
   "source": [
    "f=open('iu.txt', 'wt')\n",
    "\n",
    "for i in range(10):\n",
    "    f.write(f'{iu}{i}\\n')\n",
    "    \n",
    "f.close()"
   ]
  },
  {
   "cell_type": "code",
   "execution_count": 14,
   "metadata": {},
   "outputs": [],
   "source": [
    "f = open('iu.txt', 'rt')\n",
    "content = f.read()\n",
    "# content"
   ]
  },
  {
   "cell_type": "code",
   "execution_count": 17,
   "metadata": {},
   "outputs": [],
   "source": [
    "f = open('iu2.txt', 'wt')\n",
    "f.write(content)\n",
    "f.close()"
   ]
  },
  {
   "cell_type": "code",
   "execution_count": 22,
   "metadata": {},
   "outputs": [
    {
     "name": "stdout",
     "output_type": "stream",
     "text": [
      "아이유는아이가아니에유0\n",
      "\n",
      "아이유는아이가아니에유1\n",
      "\n",
      "아이유는아이가아니에유2\n",
      "\n",
      "아이유는아이가아니에유3\n",
      "\n",
      "아이유는아이가아니에유4\n",
      "\n",
      "아이유는아이가아니에유5\n",
      "\n",
      "아이유는아이가아니에유6\n",
      "\n",
      "아이유는아이가아니에유7\n",
      "\n",
      "아이유는아이가아니에유8\n",
      "\n",
      "아이유는아이가아니에유9\n",
      "\n",
      "\n"
     ]
    }
   ],
   "source": [
    "f1 = open('iu.txt', 'rt')\n",
    "f2 = open('iu2.txt', 'wt')\n",
    "\n",
    "while True:\n",
    "    line = f1.readline()\n",
    "    # 파일에서 한줄씩 읽음, 다 읽고나면 None이 반환\n",
    "    f2.write(line)\n",
    "    print(line)\n",
    "    if not line:\n",
    "        break\n",
    "        \n",
    "f1.close()\n",
    "f2.close()"
   ]
  },
  {
   "cell_type": "code",
   "execution_count": 23,
   "metadata": {},
   "outputs": [],
   "source": [
    "f1 = open('iu.txt', 'rt')\n",
    "f2 = open('iu2.txt', 'wt')\n",
    "\n",
    "for line in f1:\n",
    "    f2.write(line)\n",
    "        \n",
    "f1.close()\n",
    "f2.close()"
   ]
  },
  {
   "cell_type": "code",
   "execution_count": 29,
   "metadata": {},
   "outputs": [],
   "source": [
    "# readline\n",
    "f1 = open('sample.txt', 'wt')\n",
    "for i in range(5):\n",
    "    f1.write(f'sample{i}\\n')\n",
    "    \n",
    "f1.close()"
   ]
  },
  {
   "cell_type": "code",
   "execution_count": 30,
   "metadata": {},
   "outputs": [],
   "source": [
    "f1 = open('sample.txt', 'rt')\n",
    "f1.close()"
   ]
  },
  {
   "cell_type": "code",
   "execution_count": 31,
   "metadata": {},
   "outputs": [],
   "source": [
    "def read(path):\n",
    "    f = open(path, 'rt')\n",
    "    content = f.read()\n",
    "    print(content)"
   ]
  },
  {
   "cell_type": "code",
   "execution_count": 32,
   "metadata": {},
   "outputs": [
    {
     "name": "stdout",
     "output_type": "stream",
     "text": [
      "아이유는아이가아니에유0\n",
      "아이유는아이가아니에유1\n",
      "아이유는아이가아니에유2\n",
      "아이유는아이가아니에유3\n",
      "아이유는아이가아니에유4\n",
      "아이유는아이가아니에유5\n",
      "아이유는아이가아니에유6\n",
      "아이유는아이가아니에유7\n",
      "아이유는아이가아니에유8\n",
      "아이유는아이가아니에유9\n",
      "\n"
     ]
    }
   ],
   "source": [
    "read('iu.txt')"
   ]
  },
  {
   "cell_type": "code",
   "execution_count": 33,
   "metadata": {},
   "outputs": [],
   "source": [
    "# 모듈 단위에서 close 안해주면 메모리 해제가 안되어 파일 객체가 계속 열려있는 상태로 있음"
   ]
  },
  {
   "cell_type": "code",
   "execution_count": 35,
   "metadata": {},
   "outputs": [
    {
     "name": "stdout",
     "output_type": "stream",
     "text": [
      "아이유는아이가아니에유0\n",
      "아이유는아이가아니에유1\n",
      "아이유는아이가아니에유2\n",
      "아이유는아이가아니에유3\n",
      "아이유는아이가아니에유4\n",
      "아이유는아이가아니에유5\n",
      "아이유는아이가아니에유6\n",
      "아이유는아이가아니에유7\n",
      "아이유는아이가아니에유8\n",
      "아이유는아이가아니에유9\n",
      "\n"
     ]
    }
   ],
   "source": [
    "with open('iu.txt', 'rt') as f_with:\n",
    "    content = f_with.read()\n",
    "    print(content)"
   ]
  },
  {
   "cell_type": "code",
   "execution_count": 36,
   "metadata": {},
   "outputs": [
    {
     "data": {
      "text/plain": [
       "<_io.TextIOWrapper name='iu.txt' mode='rt' encoding='UTF-8'>"
      ]
     },
     "execution_count": 36,
     "metadata": {},
     "output_type": "execute_result"
    }
   ],
   "source": [
    "f_with"
   ]
  },
  {
   "cell_type": "code",
   "execution_count": 38,
   "metadata": {},
   "outputs": [
    {
     "data": {
      "text/plain": [
       "b'\\xec\\x95\\x84\\xec\\x9d\\xb4\\xec\\x9c\\xa0\\xeb\\x8a\\x94\\xec\\x95\\x84\\xec\\x9d\\xb4\\xea\\xb0\\x80\\xec\\x95\\x84\\xeb\\x8b\\x88\\xec\\x97\\x90\\xec\\x9c\\xa00\\n\\xec\\x95\\x84\\xec\\x9d\\xb4\\xec\\x9c\\xa0\\xeb\\x8a\\x94\\xec\\x95\\x84\\xec\\x9d\\xb4\\xea\\xb0\\x80\\xec\\x95\\x84\\xeb\\x8b\\x88\\xec\\x97\\x90\\xec\\x9c\\xa01\\n\\xec\\x95\\x84\\xec\\x9d\\xb4\\xec\\x9c\\xa0\\xeb\\x8a\\x94\\xec\\x95\\x84\\xec\\x9d\\xb4\\xea\\xb0\\x80\\xec\\x95\\x84\\xeb\\x8b\\x88\\xec\\x97\\x90\\xec\\x9c\\xa02\\n\\xec\\x95\\x84\\xec\\x9d\\xb4\\xec\\x9c\\xa0\\xeb\\x8a\\x94\\xec\\x95\\x84\\xec\\x9d\\xb4\\xea\\xb0\\x80\\xec\\x95\\x84\\xeb\\x8b\\x88\\xec\\x97\\x90\\xec\\x9c\\xa03\\n\\xec\\x95\\x84\\xec\\x9d\\xb4\\xec\\x9c\\xa0\\xeb\\x8a\\x94\\xec\\x95\\x84\\xec\\x9d\\xb4\\xea\\xb0\\x80\\xec\\x95\\x84\\xeb\\x8b\\x88\\xec\\x97\\x90\\xec\\x9c\\xa04\\n\\xec\\x95\\x84\\xec\\x9d\\xb4\\xec\\x9c\\xa0\\xeb\\x8a\\x94\\xec\\x95\\x84\\xec\\x9d\\xb4\\xea\\xb0\\x80\\xec\\x95\\x84\\xeb\\x8b\\x88\\xec\\x97\\x90\\xec\\x9c\\xa05\\n\\xec\\x95\\x84\\xec\\x9d\\xb4\\xec\\x9c\\xa0\\xeb\\x8a\\x94\\xec\\x95\\x84\\xec\\x9d\\xb4\\xea\\xb0\\x80\\xec\\x95\\x84\\xeb\\x8b\\x88\\xec\\x97\\x90\\xec\\x9c\\xa06\\n\\xec\\x95\\x84\\xec\\x9d\\xb4\\xec\\x9c\\xa0\\xeb\\x8a\\x94\\xec\\x95\\x84\\xec\\x9d\\xb4\\xea\\xb0\\x80\\xec\\x95\\x84\\xeb\\x8b\\x88\\xec\\x97\\x90\\xec\\x9c\\xa07\\n\\xec\\x95\\x84\\xec\\x9d\\xb4\\xec\\x9c\\xa0\\xeb\\x8a\\x94\\xec\\x95\\x84\\xec\\x9d\\xb4\\xea\\xb0\\x80\\xec\\x95\\x84\\xeb\\x8b\\x88\\xec\\x97\\x90\\xec\\x9c\\xa08\\n\\xec\\x95\\x84\\xec\\x9d\\xb4\\xec\\x9c\\xa0\\xeb\\x8a\\x94\\xec\\x95\\x84\\xec\\x9d\\xb4\\xea\\xb0\\x80\\xec\\x95\\x84\\xeb\\x8b\\x88\\xec\\x97\\x90\\xec\\x9c\\xa09\\n'"
      ]
     },
     "execution_count": 38,
     "metadata": {},
     "output_type": "execute_result"
    }
   ],
   "source": [
    "f = open('iu.txt', 'rb')\n",
    "f.read()"
   ]
  },
  {
   "cell_type": "code",
   "execution_count": null,
   "metadata": {},
   "outputs": [],
   "source": []
  }
 ],
 "metadata": {
  "kernelspec": {
   "display_name": "Python 3",
   "language": "python",
   "name": "python3"
  },
  "language_info": {
   "codemirror_mode": {
    "name": "ipython",
    "version": 3
   },
   "file_extension": ".py",
   "mimetype": "text/x-python",
   "name": "python",
   "nbconvert_exporter": "python",
   "pygments_lexer": "ipython3",
   "version": "3.7.4"
  }
 },
 "nbformat": 4,
 "nbformat_minor": 2
}
