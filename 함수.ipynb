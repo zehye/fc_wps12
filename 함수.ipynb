{
 "cells": [
  {
   "cell_type": "code",
   "execution_count": 3,
   "metadata": {},
   "outputs": [],
   "source": [
    "def print_argument(something):\n",
    "    print(something)\n",
    "    "
   ]
  },
  {
   "cell_type": "code",
   "execution_count": 4,
   "metadata": {},
   "outputs": [
    {
     "data": {
      "text/plain": [
       "<function __main__.print_argument(something)>"
      ]
     },
     "execution_count": 4,
     "metadata": {},
     "output_type": "execute_result"
    }
   ],
   "source": [
    "print_argument"
   ]
  },
  {
   "cell_type": "code",
   "execution_count": 5,
   "metadata": {},
   "outputs": [],
   "source": [
    "# 파이썬으로 정의해 놓은 함수는 __main__에 호출됨"
   ]
  },
  {
   "cell_type": "code",
   "execution_count": 6,
   "metadata": {},
   "outputs": [
    {
     "name": "stdout",
     "output_type": "stream",
     "text": [
      "ABC\n"
     ]
    }
   ],
   "source": [
    "print_argument('ABC')"
   ]
  },
  {
   "cell_type": "code",
   "execution_count": 36,
   "metadata": {},
   "outputs": [],
   "source": [
    "# print_argument함수는 arg라는 매개변수를 가진다.\n",
    "def print_argument(arg):\n",
    "    print(arg)"
   ]
  },
  {
   "cell_type": "code",
   "execution_count": 39,
   "metadata": {},
   "outputs": [
    {
     "name": "stdout",
     "output_type": "stream",
     "text": [
      "iii\n"
     ]
    }
   ],
   "source": [
    "a = 'iii'\n",
    "# a를 print_argument함수 호출의 인자로 전달했다. \n",
    "print_argument(a)"
   ]
  },
  {
   "cell_type": "code",
   "execution_count": 40,
   "metadata": {},
   "outputs": [],
   "source": [
    "# 함수의 매개변수가 존재하고\n",
    "# 함수의 인자로 전달됐다 "
   ]
  },
  {
   "cell_type": "code",
   "execution_count": 56,
   "metadata": {},
   "outputs": [],
   "source": [
    "def return_list(value, result=[]):\n",
    "    '''\n",
    "    result 매개변수가 주어지면 해당 리스트에 value를 추가해서 리턴\n",
    "    result 매개변수가 주어지지 않으면 새 리스트를 만들어 value를 추가해서 리턴\n",
    "    '''\n",
    "    result.append(value)\n",
    "    return result"
   ]
  },
  {
   "cell_type": "code",
   "execution_count": 57,
   "metadata": {},
   "outputs": [
    {
     "data": {
      "text/plain": [
       "['apple']"
      ]
     },
     "execution_count": 57,
     "metadata": {},
     "output_type": "execute_result"
    }
   ],
   "source": [
    "return_list('apple')"
   ]
  },
  {
   "cell_type": "code",
   "execution_count": 58,
   "metadata": {},
   "outputs": [
    {
     "data": {
      "text/plain": [
       "['apple', 'banana']"
      ]
     },
     "execution_count": 58,
     "metadata": {},
     "output_type": "execute_result"
    }
   ],
   "source": [
    "return_list('banana')\n",
    "# 함수가 정의된 시점에 변수가 들어간 상태가 됨\n"
   ]
  },
  {
   "cell_type": "code",
   "execution_count": 62,
   "metadata": {},
   "outputs": [],
   "source": [
    "def return_list2(value, result=None):\n",
    "    if result is None:\n",
    "        # 계속 None이라면 value만 넘겨줬다는건데\n",
    "        # 이 순간 생성된 []는 이후에 append를 해주는 것\n",
    "        result = []\n",
    "    result.append(value)\n",
    "    return result"
   ]
  },
  {
   "cell_type": "code",
   "execution_count": 60,
   "metadata": {},
   "outputs": [
    {
     "data": {
      "text/plain": [
       "['apple']"
      ]
     },
     "execution_count": 60,
     "metadata": {},
     "output_type": "execute_result"
    }
   ],
   "source": [
    "return_list2('apple')"
   ]
  },
  {
   "cell_type": "code",
   "execution_count": 61,
   "metadata": {},
   "outputs": [
    {
     "data": {
      "text/plain": [
       "['banana']"
      ]
     },
     "execution_count": 61,
     "metadata": {},
     "output_type": "execute_result"
    }
   ],
   "source": [
    "return_list2('banana')"
   ]
  },
  {
   "cell_type": "code",
   "execution_count": 63,
   "metadata": {},
   "outputs": [],
   "source": [
    "# 생성을 매개변수에서 하는가 아니면 함수 안에서 하는가\n",
    "# 함수를 실행해야지만이 생성이 되는가\n",
    "# 함수 자체에서 생성을 해주는것인가 의 차이임!"
   ]
  },
  {
   "cell_type": "code",
   "execution_count": 10,
   "metadata": {},
   "outputs": [
    {
     "data": {
      "text/plain": [
       "4390762208"
      ]
     },
     "execution_count": 10,
     "metadata": {},
     "output_type": "execute_result"
    }
   ],
   "source": [
    "id(return_list(123))"
   ]
  },
  {
   "cell_type": "code",
   "execution_count": 11,
   "metadata": {},
   "outputs": [
    {
     "data": {
      "text/plain": [
       "4390762208"
      ]
     },
     "execution_count": 11,
     "metadata": {},
     "output_type": "execute_result"
    }
   ],
   "source": [
    "id(return_list(12343))"
   ]
  },
  {
   "cell_type": "code",
   "execution_count": 12,
   "metadata": {},
   "outputs": [],
   "source": [
    "def return_list(value, result=None):\n",
    "    if result is None:\n",
    "        result = []\n",
    "    result.append(value)\n",
    "    return result"
   ]
  },
  {
   "cell_type": "code",
   "execution_count": 13,
   "metadata": {},
   "outputs": [
    {
     "data": {
      "text/plain": [
       "['apple']"
      ]
     },
     "execution_count": 13,
     "metadata": {},
     "output_type": "execute_result"
    }
   ],
   "source": [
    "return_list('apple')"
   ]
  },
  {
   "cell_type": "code",
   "execution_count": 14,
   "metadata": {},
   "outputs": [
    {
     "data": {
      "text/plain": [
       "['banana']"
      ]
     },
     "execution_count": 14,
     "metadata": {},
     "output_type": "execute_result"
    }
   ],
   "source": [
    "return_list('banana')"
   ]
  },
  {
   "cell_type": "code",
   "execution_count": 15,
   "metadata": {},
   "outputs": [],
   "source": [
    "def return_value(abc):\n",
    "    print(abc)"
   ]
  },
  {
   "cell_type": "code",
   "execution_count": 16,
   "metadata": {},
   "outputs": [
    {
     "name": "stdout",
     "output_type": "stream",
     "text": [
      "3\n"
     ]
    }
   ],
   "source": [
    "return_value(3)"
   ]
  },
  {
   "cell_type": "code",
   "execution_count": 17,
   "metadata": {},
   "outputs": [
    {
     "data": {
      "text/plain": [
       "False"
      ]
     },
     "execution_count": 17,
     "metadata": {},
     "output_type": "execute_result"
    }
   ],
   "source": [
    "3 is return_value"
   ]
  },
  {
   "cell_type": "code",
   "execution_count": 18,
   "metadata": {},
   "outputs": [],
   "source": [
    "def print_args(*args):\n",
    "    print(args)"
   ]
  },
  {
   "cell_type": "code",
   "execution_count": 19,
   "metadata": {},
   "outputs": [
    {
     "name": "stdout",
     "output_type": "stream",
     "text": [
      "(3, 5, 3, 2, '32')\n"
     ]
    }
   ],
   "source": [
    "print_args(3,5,3,2,'32')"
   ]
  },
  {
   "cell_type": "code",
   "execution_count": 20,
   "metadata": {},
   "outputs": [],
   "source": [
    "def print_kwargs(**kwargs):\n",
    "    print(kwargs)"
   ]
  },
  {
   "cell_type": "code",
   "execution_count": 21,
   "metadata": {},
   "outputs": [
    {
     "name": "stdout",
     "output_type": "stream",
     "text": [
      "{'a': 'apple', 'b': 'banana'}\n"
     ]
    }
   ],
   "source": [
    "print_kwargs(a='apple', b='banana')"
   ]
  },
  {
   "cell_type": "code",
   "execution_count": 68,
   "metadata": {},
   "outputs": [],
   "source": [
    "def print_all_args(*args, **kwargs):\n",
    "    print(args)\n",
    "    print(kwargs)"
   ]
  },
  {
   "cell_type": "code",
   "execution_count": 69,
   "metadata": {},
   "outputs": [
    {
     "name": "stdout",
     "output_type": "stream",
     "text": [
      "('a', 12, 'hi')\n",
      "{'apple': '사과'}\n"
     ]
    }
   ],
   "source": [
    "print_all_args('a',12,'hi', apple='사과')"
   ]
  },
  {
   "cell_type": "code",
   "execution_count": 82,
   "metadata": {},
   "outputs": [
    {
     "name": "stdout",
     "output_type": "stream",
     "text": [
      "call func\n"
     ]
    }
   ],
   "source": [
    "def print_call_func():\n",
    "    print('call func')\n",
    "\n",
    "def execute_arg_function(f):\n",
    "    f()\n",
    "    # 함수가 객체라는것을 기억!\n",
    "    \n",
    "execute_arg_function(print_call_func)\n",
    "# 프로그램을 짤때는 알수가 없는데 사용자의 입력값을 통해 뜨는 에러가 런타임에러!"
   ]
  },
  {
   "cell_type": "code",
   "execution_count": 87,
   "metadata": {},
   "outputs": [],
   "source": [
    "# 이해해봅시다!\n",
    "def return_something(case):\n",
    "    if case == 'function':\n",
    "        return print_call_func\n",
    "    else:\n",
    "        return 30"
   ]
  },
  {
   "cell_type": "code",
   "execution_count": 88,
   "metadata": {},
   "outputs": [
    {
     "name": "stdout",
     "output_type": "stream",
     "text": [
      "case:\n"
     ]
    },
    {
     "ename": "TypeError",
     "evalue": "'int' object is not callable",
     "output_type": "error",
     "traceback": [
      "\u001b[0;31m---------------------------------------------------------------------------\u001b[0m",
      "\u001b[0;31mTypeError\u001b[0m                                 Traceback (most recent call last)",
      "\u001b[0;32m<ipython-input-88-b4a497098a62>\u001b[0m in \u001b[0;36m<module>\u001b[0;34m\u001b[0m\n\u001b[1;32m      1\u001b[0m \u001b[0msample_args\u001b[0m \u001b[0;34m=\u001b[0m \u001b[0mreturn_something\u001b[0m\u001b[0;34m(\u001b[0m\u001b[0minput\u001b[0m\u001b[0;34m(\u001b[0m\u001b[0;34m'case:'\u001b[0m\u001b[0;34m)\u001b[0m\u001b[0;34m)\u001b[0m\u001b[0;34m\u001b[0m\u001b[0;34m\u001b[0m\u001b[0m\n\u001b[0;32m----> 2\u001b[0;31m \u001b[0mexecute_arg_function\u001b[0m\u001b[0;34m(\u001b[0m\u001b[0msample_args\u001b[0m\u001b[0;34m)\u001b[0m\u001b[0;34m\u001b[0m\u001b[0;34m\u001b[0m\u001b[0m\n\u001b[0m\u001b[1;32m      3\u001b[0m \u001b[0;31m# 실제 실행타임에서 다른 타입이 들어올때 런타임 에러가 남\u001b[0m\u001b[0;34m\u001b[0m\u001b[0;34m\u001b[0m\u001b[0;34m\u001b[0m\u001b[0m\n",
      "\u001b[0;32m<ipython-input-82-47912efddea9>\u001b[0m in \u001b[0;36mexecute_arg_function\u001b[0;34m(f)\u001b[0m\n\u001b[1;32m      3\u001b[0m \u001b[0;34m\u001b[0m\u001b[0m\n\u001b[1;32m      4\u001b[0m \u001b[0;32mdef\u001b[0m \u001b[0mexecute_arg_function\u001b[0m\u001b[0;34m(\u001b[0m\u001b[0mf\u001b[0m\u001b[0;34m)\u001b[0m\u001b[0;34m:\u001b[0m\u001b[0;34m\u001b[0m\u001b[0;34m\u001b[0m\u001b[0m\n\u001b[0;32m----> 5\u001b[0;31m     \u001b[0mf\u001b[0m\u001b[0;34m(\u001b[0m\u001b[0;34m)\u001b[0m\u001b[0;34m\u001b[0m\u001b[0;34m\u001b[0m\u001b[0m\n\u001b[0m\u001b[1;32m      6\u001b[0m     \u001b[0;31m# 함수가 객체라는것을 기억!\u001b[0m\u001b[0;34m\u001b[0m\u001b[0;34m\u001b[0m\u001b[0;34m\u001b[0m\u001b[0m\n\u001b[1;32m      7\u001b[0m \u001b[0;34m\u001b[0m\u001b[0m\n",
      "\u001b[0;31mTypeError\u001b[0m: 'int' object is not callable"
     ]
    }
   ],
   "source": [
    "sample_args = return_something(input('case:'))\n",
    "execute_arg_function(sample_args)\n",
    "# 실제 실행타임에서 다른 타입이 들어올때 런타임 에러가 남\n"
   ]
  },
  {
   "cell_type": "code",
   "execution_count": 91,
   "metadata": {},
   "outputs": [],
   "source": [
    "def execute(a):\n",
    "    def upper(b):\n",
    "        return b.upper()\n",
    "    return upper(a)"
   ]
  },
  {
   "cell_type": "code",
   "execution_count": 92,
   "metadata": {},
   "outputs": [
    {
     "data": {
      "text/plain": [
       "'ASDASDASD'"
      ]
     },
     "execution_count": 92,
     "metadata": {},
     "output_type": "execute_result"
    }
   ],
   "source": [
    "execute('asdasdasd')"
   ]
  },
  {
   "cell_type": "code",
   "execution_count": null,
   "metadata": {},
   "outputs": [],
   "source": []
  },
  {
   "cell_type": "code",
   "execution_count": 27,
   "metadata": {},
   "outputs": [],
   "source": [
    "champion = 'Lux'"
   ]
  },
  {
   "cell_type": "code",
   "execution_count": 28,
   "metadata": {},
   "outputs": [],
   "source": [
    "def show_global_champion():\n",
    "    print('show_global_champion: {}'.format(champion))"
   ]
  },
  {
   "cell_type": "code",
   "execution_count": 29,
   "metadata": {},
   "outputs": [
    {
     "name": "stdout",
     "output_type": "stream",
     "text": [
      "show_global_champion: Lux\n"
     ]
    }
   ],
   "source": [
    "show_global_champion()"
   ]
  },
  {
   "cell_type": "code",
   "execution_count": 30,
   "metadata": {},
   "outputs": [],
   "source": [
    "def change_global_champion():\n",
    "    print('before_global_champion: {}'.format(champion))\n",
    "    champion = 'Ahri'\n",
    "    print('after_global_champion: {}'.format(champion))"
   ]
  },
  {
   "cell_type": "code",
   "execution_count": 31,
   "metadata": {},
   "outputs": [
    {
     "name": "stdout",
     "output_type": "stream",
     "text": [
      "show_global_champion: Lux\n"
     ]
    }
   ],
   "source": [
    "show_global_champion()"
   ]
  },
  {
   "cell_type": "code",
   "execution_count": 32,
   "metadata": {},
   "outputs": [
    {
     "ename": "UnboundLocalError",
     "evalue": "local variable 'champion' referenced before assignment",
     "output_type": "error",
     "traceback": [
      "\u001b[0;31m---------------------------------------------------------------------------\u001b[0m",
      "\u001b[0;31mUnboundLocalError\u001b[0m                         Traceback (most recent call last)",
      "\u001b[0;32m<ipython-input-32-1ce74eda3271>\u001b[0m in \u001b[0;36m<module>\u001b[0;34m\u001b[0m\n\u001b[0;32m----> 1\u001b[0;31m \u001b[0mchange_global_champion\u001b[0m\u001b[0;34m(\u001b[0m\u001b[0;34m)\u001b[0m\u001b[0;34m\u001b[0m\u001b[0;34m\u001b[0m\u001b[0m\n\u001b[0m",
      "\u001b[0;32m<ipython-input-30-c2bc84bf5e2f>\u001b[0m in \u001b[0;36mchange_global_champion\u001b[0;34m()\u001b[0m\n\u001b[1;32m      1\u001b[0m \u001b[0;32mdef\u001b[0m \u001b[0mchange_global_champion\u001b[0m\u001b[0;34m(\u001b[0m\u001b[0;34m)\u001b[0m\u001b[0;34m:\u001b[0m\u001b[0;34m\u001b[0m\u001b[0;34m\u001b[0m\u001b[0m\n\u001b[0;32m----> 2\u001b[0;31m     \u001b[0mprint\u001b[0m\u001b[0;34m(\u001b[0m\u001b[0;34m'before_global_champion: {}'\u001b[0m\u001b[0;34m.\u001b[0m\u001b[0mformat\u001b[0m\u001b[0;34m(\u001b[0m\u001b[0mchampion\u001b[0m\u001b[0;34m)\u001b[0m\u001b[0;34m)\u001b[0m\u001b[0;34m\u001b[0m\u001b[0;34m\u001b[0m\u001b[0m\n\u001b[0m\u001b[1;32m      3\u001b[0m     \u001b[0mchampion\u001b[0m \u001b[0;34m=\u001b[0m \u001b[0;34m'Ahri'\u001b[0m\u001b[0;34m\u001b[0m\u001b[0;34m\u001b[0m\u001b[0m\n\u001b[1;32m      4\u001b[0m     \u001b[0mprint\u001b[0m\u001b[0;34m(\u001b[0m\u001b[0;34m'after_global_champion: {}'\u001b[0m\u001b[0;34m.\u001b[0m\u001b[0mformat\u001b[0m\u001b[0;34m(\u001b[0m\u001b[0mchampion\u001b[0m\u001b[0;34m)\u001b[0m\u001b[0;34m)\u001b[0m\u001b[0;34m\u001b[0m\u001b[0;34m\u001b[0m\u001b[0m\n",
      "\u001b[0;31mUnboundLocalError\u001b[0m: local variable 'champion' referenced before assignment"
     ]
    }
   ],
   "source": [
    "change_global_champion()"
   ]
  },
  {
   "cell_type": "code",
   "execution_count": 33,
   "metadata": {},
   "outputs": [],
   "source": [
    "champion = 'Lux'\n",
    "\n",
    "def show_global_champion():\n",
    "    print('show_global_champion : {}'.format(champion))\n",
    "\n",
    "def change_global_champion():\n",
    "    print(locals())\n",
    "    champion = 'Ahri'\n",
    "    print('after change_global_champion : {}'.format(champion))"
   ]
  },
  {
   "cell_type": "code",
   "execution_count": 34,
   "metadata": {},
   "outputs": [
    {
     "name": "stdout",
     "output_type": "stream",
     "text": [
      "show_global_champion : Lux\n"
     ]
    }
   ],
   "source": [
    "show_global_champion()"
   ]
  },
  {
   "cell_type": "code",
   "execution_count": 35,
   "metadata": {},
   "outputs": [
    {
     "name": "stdout",
     "output_type": "stream",
     "text": [
      "{}\n",
      "after change_global_champion : Ahri\n"
     ]
    }
   ],
   "source": [
    "change_global_champion()"
   ]
  },
  {
   "cell_type": "code",
   "execution_count": 45,
   "metadata": {},
   "outputs": [],
   "source": [
    "def student(name, age, gender):\n",
    "    return {\n",
    "        'name': name, \n",
    "        'age': age, \n",
    "        'gender':gender\n",
    "    }"
   ]
  },
  {
   "cell_type": "code",
   "execution_count": 48,
   "metadata": {},
   "outputs": [
    {
     "data": {
      "text/plain": [
       "{'name': 'zehye', 'age': 25, 'gender': 'f'}"
      ]
     },
     "execution_count": 48,
     "metadata": {},
     "output_type": "execute_result"
    }
   ],
   "source": [
    "# 위치인자 전달\n",
    "student('zehye', 25, 'f')"
   ]
  },
  {
   "cell_type": "code",
   "execution_count": 49,
   "metadata": {},
   "outputs": [
    {
     "data": {
      "text/plain": [
       "{'name': 'zehye', 'age': 25, 'gender': 'f'}"
      ]
     },
     "execution_count": 49,
     "metadata": {},
     "output_type": "execute_result"
    }
   ],
   "source": [
    "# 키워드 인자 전달\n",
    "student(age=25, name='zehye', gender='f')"
   ]
  },
  {
   "cell_type": "code",
   "execution_count": 50,
   "metadata": {},
   "outputs": [],
   "source": [
    "# 위치인자는 키워드인자보다 무조건 항상 먼저 앞에 나와있어야 한다"
   ]
  },
  {
   "cell_type": "code",
   "execution_count": 53,
   "metadata": {},
   "outputs": [],
   "source": [
    "def student(name, age, gender, cls='WPS'):\n",
    "    return {\n",
    "        'name': name, \n",
    "        'age': age, \n",
    "        'gender':gender,\n",
    "        'class': cls,\n",
    "    }"
   ]
  },
  {
   "cell_type": "code",
   "execution_count": 54,
   "metadata": {},
   "outputs": [
    {
     "data": {
      "text/plain": [
       "{'name': 'zehye', 'age': 25, 'gender': 'f', 'class': 'WPS'}"
      ]
     },
     "execution_count": 54,
     "metadata": {},
     "output_type": "execute_result"
    }
   ],
   "source": [
    "student('zehye', 25, 'f')"
   ]
  },
  {
   "cell_type": "code",
   "execution_count": 6,
   "metadata": {},
   "outputs": [],
   "source": [
    "global_level = 100\n",
    "def level_add(value):\n",
    "    value += 30\n",
    "    print(value)"
   ]
  },
  {
   "cell_type": "code",
   "execution_count": 7,
   "metadata": {},
   "outputs": [
    {
     "name": "stdout",
     "output_type": "stream",
     "text": [
      "130\n",
      "100\n"
     ]
    }
   ],
   "source": [
    "level_add(global_level)\n",
    "print(global_level)"
   ]
  },
  {
   "cell_type": "code",
   "execution_count": 10,
   "metadata": {},
   "outputs": [],
   "source": [
    "global_level = 100\n",
    "def level_add(value):\n",
    "    global global_level\n",
    "    value += 30\n",
    "    print(global_level)"
   ]
  },
  {
   "cell_type": "code",
   "execution_count": 11,
   "metadata": {},
   "outputs": [
    {
     "name": "stdout",
     "output_type": "stream",
     "text": [
      "100\n",
      "100\n"
     ]
    }
   ],
   "source": [
    "level_add(global_level)\n",
    "print(global_level)"
   ]
  },
  {
   "cell_type": "code",
   "execution_count": 12,
   "metadata": {},
   "outputs": [
    {
     "name": "stdout",
     "output_type": "stream",
     "text": [
      "after change_global_champion : Ahri\n",
      "print global champion : Lux\n"
     ]
    }
   ],
   "source": [
    "champion = 'Lux'\n",
    "\n",
    "def change_global_champion():\n",
    "    champion = 'Ahri'\n",
    "    print('after change_global_champion : {}'.format(champion))\n",
    "\n",
    "change_global_champion()\n",
    "print('print global champion : {}'.format(champion))"
   ]
  },
  {
   "cell_type": "code",
   "execution_count": 14,
   "metadata": {},
   "outputs": [
    {
     "name": "stdout",
     "output_type": "stream",
     "text": [
      "after change_global_champion : Ahri\n",
      "print global champion : Ahri\n",
      "Ahri\n"
     ]
    }
   ],
   "source": [
    "champion = 'Lux'\n",
    "\n",
    "def change_global_champion():\n",
    "    global champion\n",
    "    champion = 'Ahri'\n",
    "    print('after change_global_champion : {}'.format(champion))\n",
    "\n",
    "change_global_champion()\n",
    "print('print global champion : {}'.format(champion))\n",
    "print(champion)"
   ]
  },
  {
   "cell_type": "code",
   "execution_count": 17,
   "metadata": {},
   "outputs": [],
   "source": [
    "champion = 'Lux'\n",
    "\n",
    "def local1():\n",
    "    champion = 'Ahri'\n",
    "#     print('local1 locals() : {}'.format(locals()))\n",
    "\n",
    "    def local2():\n",
    "        champion = 'Ezreal'\n",
    "#         print('local2 locals() : {}'.format(locals()))\n",
    "    local2()\n",
    "\n",
    "# print('global locals() : {}'.format(locals()))\n",
    "local1()"
   ]
  },
  {
   "cell_type": "code",
   "execution_count": 20,
   "metadata": {},
   "outputs": [
    {
     "data": {
      "text/plain": [
       "25"
      ]
     },
     "execution_count": 20,
     "metadata": {},
     "output_type": "execute_result"
    }
   ],
   "source": [
    "(lambda x: x*x)(5)"
   ]
  },
  {
   "cell_type": "code",
   "execution_count": 21,
   "metadata": {},
   "outputs": [
    {
     "name": "stdout",
     "output_type": "stream",
     "text": [
      "a\n",
      "b\n",
      "c\n",
      "d\n",
      "e\n",
      "f\n",
      "g\n",
      "h\n",
      "i\n",
      "J\n",
      "K\n",
      "L\n",
      "M\n",
      "N\n",
      "O\n",
      "P\n",
      "Q\n",
      "R\n",
      "S\n",
      "T\n",
      "U\n",
      "V\n",
      "W\n",
      "X\n",
      "Y\n",
      "Z\n"
     ]
    }
   ],
   "source": [
    "import string\n",
    "for char in string.ascii_lowercase:\n",
    "    if char > 'i':\n",
    "        print(char.upper())\n",
    "    else:\n",
    "        print(char)"
   ]
  },
  {
   "cell_type": "code",
   "execution_count": 22,
   "metadata": {},
   "outputs": [
    {
     "name": "stdout",
     "output_type": "stream",
     "text": [
      "a\n",
      "b\n",
      "c\n",
      "d\n",
      "e\n",
      "f\n",
      "g\n",
      "h\n",
      "i\n",
      "J\n",
      "K\n",
      "L\n",
      "M\n",
      "N\n",
      "O\n",
      "P\n",
      "Q\n",
      "R\n",
      "S\n",
      "T\n",
      "U\n",
      "V\n",
      "W\n",
      "X\n",
      "Y\n",
      "Z\n"
     ]
    }
   ],
   "source": [
    "for char in string.ascii_lowercase:\n",
    "    print((lambda x: x.upper() if x >'i' else x)(char))"
   ]
  },
  {
   "cell_type": "markdown",
   "metadata": {},
   "source": [
    "# 스코프\n",
    "내부에서 외부를 참조 가능하지만 외부에서 내부는 참조가 불가능하다."
   ]
  },
  {
   "cell_type": "code",
   "execution_count": 7,
   "metadata": {},
   "outputs": [
    {
     "name": "stdout",
     "output_type": "stream",
     "text": [
      "show_global_champion: Lux\n",
      "Just print champion : Lux\n"
     ]
    }
   ],
   "source": [
    "# 자신의 스코프에서 찾지 못한 변수는, 자신보다 상위 스코프에서 찾는다. \n",
    "champion = 'Lux'\n",
    "\n",
    "def show_global_champion():\n",
    "    # 함수 안쪽에 정의된 champion이 없으니까 상위 레벨의 champion을 찾음\n",
    "    print(f'show_global_champion: {champion}')\n",
    "\n",
    "show_global_champion()\n",
    "print(f'Just print champion : {champion}')"
   ]
  },
  {
   "cell_type": "code",
   "execution_count": 18,
   "metadata": {},
   "outputs": [
    {
     "name": "stdout",
     "output_type": "stream",
     "text": [
      "show_global_champion: Lux\n",
      "after_global_champion: Ahri\n"
     ]
    }
   ],
   "source": [
    "champion = 'Lux'\n",
    "\n",
    "def show_global_champion():\n",
    "    print(f'show_global_champion: {champion}')\n",
    "    \n",
    "def change_global_champion():\n",
    "#     print(f'before_global_champion: {champion}')\n",
    "    champion = 'Ahri' # 얘네를 주석처리하면 잘 실행됨\n",
    "    # 그 이유는 아직 정의되지 않은 (대입되기전에) champion를 사용했기 떄문!\n",
    "    # 그러면 위의 print를 주석처리해보자\n",
    "\n",
    "    print(f'after_global_champion: {champion}') # 얘도\n",
    "\n",
    "show_global_champion()\n",
    "change_global_champion()\n",
    "\n",
    "# 함수 선언까지는 오류가 아니고 실행하려는 순간 오류인것"
   ]
  },
  {
   "cell_type": "code",
   "execution_count": 1,
   "metadata": {},
   "outputs": [],
   "source": [
    "# print(f'before_global_champion: {champion}') 주석을 달아보자 \n",
    "# 이렇게 하는경우 오류가 나지 않는 이유는, 자기 스코프 안에 있는 변수를 사용했기 때문임"
   ]
  },
  {
   "cell_type": "code",
   "execution_count": 25,
   "metadata": {},
   "outputs": [
    {
     "name": "stdout",
     "output_type": "stream",
     "text": [
      "show_global_champion: Lux\n",
      "after_global_champion: Ahri\n",
      "show_global_champion: Lux\n"
     ]
    }
   ],
   "source": [
    "champion = 'Lux'\n",
    "\n",
    "def show_global_champion():\n",
    "    print(f'show_global_champion: {champion}')\n",
    "    \n",
    "def change_global_champion():\n",
    "#     print(f'before_global_champion: {champion}')\n",
    "    champion = 'Ahri'\n",
    "    print(f'after_global_champion: {champion}')\n",
    "\n",
    "show_global_champion()\n",
    "change_global_champion()\n",
    "# show_global_champion 을 한번더 실행해본다.\n",
    "show_global_champion()"
   ]
  },
  {
   "cell_type": "code",
   "execution_count": 26,
   "metadata": {},
   "outputs": [],
   "source": [
    "# show_global_champion: Lux\n",
    "# 내부 스코프에서 변수를 수정하는것은 외부 스코프에 영향을 주지 않는다."
   ]
  },
  {
   "cell_type": "code",
   "execution_count": 27,
   "metadata": {},
   "outputs": [
    {
     "name": "stdout",
     "output_type": "stream",
     "text": [
      "show_global_champion: Lux\n",
      "4406991536\n",
      "after_global_champion: Ahri\n",
      "4449710320\n",
      "show_global_champion: Lux\n",
      "4406991536\n"
     ]
    }
   ],
   "source": [
    "champion = 'Lux'\n",
    "\n",
    "def show_global_champion():\n",
    "    print(f'show_global_champion: {champion}')\n",
    "    print(id(champion))\n",
    "    \n",
    "def change_global_champion():\n",
    "#     print(f'before_global_champion: {champion}')\n",
    "    champion = 'Ahri'\n",
    "    print(f'after_global_champion: {champion}')\n",
    "    print(id(champion))\n",
    "    \n",
    "show_global_champion()\n",
    "change_global_champion()\n",
    "show_global_champion()"
   ]
  },
  {
   "cell_type": "code",
   "execution_count": 30,
   "metadata": {},
   "outputs": [],
   "source": [
    "# show, after의 id 값이 다른걸 확인할 수 있다.\n",
    "\n",
    "# def change 함수가 각각의 print를 하지 못하는 이유?\n",
    "# 그리고 함수가 실행되기 전 정의되는 시점에 이미 나의 champion의 정의는 알고 있다.\n",
    "# 그래서 이미 알고있는 것과 다르게 (할당되기 전에 사용되어지면)\n",
    "# 그것을 각각 나눠서 부르지 않음.\n",
    "\n",
    "# 즉, change함수는 champion='Ahri' 라는것을 알고있음.\n",
    "# 그러니 전역변수의 champion을 가져오는 것 자체가 실행되지 않는것!"
   ]
  },
  {
   "cell_type": "code",
   "execution_count": 2,
   "metadata": {},
   "outputs": [
    {
     "name": "stdout",
     "output_type": "stream",
     "text": [
      "show_global_champion: Lux\n",
      "4472638064\n",
      "{}\n",
      "after_global_champion: Ahri\n",
      "4472637552\n",
      "{'champion': 'Ahri'}\n",
      "show_global_champion: Lux\n",
      "4472638064\n",
      "{}\n"
     ]
    }
   ],
   "source": [
    "champion = 'Lux'\n",
    "\n",
    "def show_global_champion():\n",
    "    print(f'show_global_champion: {champion}')\n",
    "    print(id(champion))\n",
    "    print(locals())\n",
    "    \n",
    "def change_global_champion():\n",
    "#     print(f'before_global_champion: {champion}')\n",
    "    champion = 'Ahri'\n",
    "    print(f'after_global_champion: {champion}')\n",
    "    print(id(champion))\n",
    "    # locals()는 각 영역에 해당하는 데이터를 확인해볼 수 있음\n",
    "    # change 함수라는 영역에 지금 champion:Ahri 가 포함되어있는 것을 확인 하는 것\n",
    "    print(locals())\n",
    "    \n",
    "show_global_champion() # 얘를 호출했을때 {}가 나오는 이유는 해당 함수 내에서는 지정해준 변수가 없기 떄문임\n",
    "change_global_champion()\n",
    "show_global_champion()"
   ]
  },
  {
   "cell_type": "code",
   "execution_count": 38,
   "metadata": {},
   "outputs": [
    {
     "data": {
      "text/plain": [
       "<module 'builtins' (built-in)>"
      ]
     },
     "execution_count": 38,
     "metadata": {},
     "output_type": "execute_result"
    }
   ],
   "source": [
    "__builtin__\n",
    "# builtin 모듈 안에는 print같은것"
   ]
  },
  {
   "cell_type": "code",
   "execution_count": 39,
   "metadata": {},
   "outputs": [
    {
     "data": {
      "text/plain": [
       "<function print>"
      ]
     },
     "execution_count": 39,
     "metadata": {},
     "output_type": "execute_result"
    }
   ],
   "source": [
    "__builtin__.print"
   ]
  },
  {
   "cell_type": "code",
   "execution_count": 40,
   "metadata": {},
   "outputs": [
    {
     "data": {
      "text/plain": [
       "<function print>"
      ]
     },
     "execution_count": 40,
     "metadata": {},
     "output_type": "execute_result"
    }
   ],
   "source": [
    "print"
   ]
  },
  {
   "cell_type": "code",
   "execution_count": 41,
   "metadata": {},
   "outputs": [
    {
     "data": {
      "text/plain": [
       "4374213728"
      ]
     },
     "execution_count": 41,
     "metadata": {},
     "output_type": "execute_result"
    }
   ],
   "source": [
    "id(print)"
   ]
  },
  {
   "cell_type": "code",
   "execution_count": 42,
   "metadata": {},
   "outputs": [
    {
     "data": {
      "text/plain": [
       "4374213728"
      ]
     },
     "execution_count": 42,
     "metadata": {},
     "output_type": "execute_result"
    }
   ],
   "source": [
    "id(__builtin__.print)"
   ]
  },
  {
   "cell_type": "code",
   "execution_count": 4,
   "metadata": {},
   "outputs": [
    {
     "name": "stdout",
     "output_type": "stream",
     "text": [
      "show_global_champion: Lux\n",
      "after_global_champion: Ahri\n",
      "show_global_champion: Ahri\n"
     ]
    }
   ],
   "source": [
    "# 지역변수에서 전역 변수를 변경하고 싶은 경우 - global 사용\n",
    "champion = 'Lux'\n",
    "\n",
    "def show_global_champion():\n",
    "    print(f'show_global_champion: {champion}')\n",
    "    \n",
    "def change_global_champion():\n",
    "    global champion\n",
    "    champion = 'Ahri'\n",
    "    print(f'after_global_champion: {champion}')\n",
    "    \n",
    "show_global_champion()\n",
    "change_global_champion()\n",
    "show_global_champion() # global로 인해 champion이 변경된 것을 볼 수 있다. "
   ]
  },
  {
   "cell_type": "code",
   "execution_count": 5,
   "metadata": {},
   "outputs": [],
   "source": [
    "champion = 'Lux'\n",
    "\n",
    "def local1():\n",
    "    champion = 'Ahri'\n",
    "    print(f'local1 locals() : {locals()}')\n",
    "\n",
    "    def local2():\n",
    "        champion = 'Ezreal'\n",
    "        print(f'local2 locals() : {locals()}')\n",
    "    local2() # local1의 영역에서 실행하는것"
   ]
  },
  {
   "cell_type": "code",
   "execution_count": 6,
   "metadata": {},
   "outputs": [
    {
     "name": "stdout",
     "output_type": "stream",
     "text": [
      "Lux\n",
      "local1 locals() : {'champion': 'Ahri'}\n",
      "local2 locals() : {'champion': 'Ezreal'}\n",
      "Lux\n"
     ]
    }
   ],
   "source": [
    "print(champion)\n",
    "local1()\n",
    "print(champion)"
   ]
  },
  {
   "cell_type": "code",
   "execution_count": 9,
   "metadata": {},
   "outputs": [
    {
     "ename": "NameError",
     "evalue": "name 'local2' is not defined",
     "output_type": "error",
     "traceback": [
      "\u001b[0;31m---------------------------------------------------------------------------\u001b[0m",
      "\u001b[0;31mNameError\u001b[0m                                 Traceback (most recent call last)",
      "\u001b[0;32m<ipython-input-9-f5a99fabfb54>\u001b[0m in \u001b[0;36m<module>\u001b[0;34m\u001b[0m\n\u001b[0;32m----> 1\u001b[0;31m \u001b[0mlocal2\u001b[0m\u001b[0;34m(\u001b[0m\u001b[0;34m)\u001b[0m\u001b[0;34m\u001b[0m\u001b[0;34m\u001b[0m\u001b[0m\n\u001b[0m",
      "\u001b[0;31mNameError\u001b[0m: name 'local2' is not defined"
     ]
    }
   ],
   "source": [
    "local2()"
   ]
  },
  {
   "cell_type": "code",
   "execution_count": 10,
   "metadata": {},
   "outputs": [],
   "source": [
    "# 위의 에러가 뜨는 이유?\n",
    "# local2는 local1에 속해있는 애\n",
    "# 즉 내부에서 외부는 참조가능해도 외부에서 내부는 참조 불가능하기에 에러가 뜨는것!"
   ]
  },
  {
   "cell_type": "code",
   "execution_count": 12,
   "metadata": {},
   "outputs": [
    {
     "name": "stdout",
     "output_type": "stream",
     "text": [
      "global: Lux\n",
      "local1 locals() : {'champion': 'Ahri'}\n",
      "local2 locals() : {'champion': 'Ezreal'}\n",
      "global: Lux\n"
     ]
    }
   ],
   "source": [
    "champion = 'Lux'\n",
    "\n",
    "def local1():\n",
    "#     global champion\n",
    "    champion = 'Ahri'\n",
    "    print(f'local1 locals() : {locals()}')\n",
    "\n",
    "    def local2():\n",
    "        champion = 'Ezreal'\n",
    "        print(f'local2 locals() : {locals()}')\n",
    "    local2() # local1의 영역에서 실행하는것\n",
    "\n",
    "print('global:', champion)\n",
    "local1()\n",
    "print('global:', champion)"
   ]
  },
  {
   "cell_type": "code",
   "execution_count": 56,
   "metadata": {},
   "outputs": [
    {
     "name": "stdout",
     "output_type": "stream",
     "text": [
      "global: Lux\n",
      "local1 locals() : {'champion': 'Ahri'}\n",
      "local2 locals() : {}\n",
      "global: Ezreal\n"
     ]
    }
   ],
   "source": [
    "champion = 'Lux'\n",
    "\n",
    "def local1():\n",
    "    champion = 'Ahri'\n",
    "    print(f'local1 locals() : {locals()}')\n",
    "\n",
    "    def local2():\n",
    "        global champion\n",
    "        champion = 'Ezreal'\n",
    "        print(f'local2 locals() : {locals()}')\n",
    "    local2() # local1의 영역에서 실행하는것\n",
    "\n",
    "print('global:', champion)\n",
    "local1()\n",
    "print('global:', champion)"
   ]
  },
  {
   "cell_type": "code",
   "execution_count": 57,
   "metadata": {},
   "outputs": [],
   "source": [
    "# nonlocal: 자기보다 바깥쪽을 참조한다. - 자기에게 가장 가까운애를 참조"
   ]
  },
  {
   "cell_type": "code",
   "execution_count": 58,
   "metadata": {},
   "outputs": [
    {
     "name": "stdout",
     "output_type": "stream",
     "text": [
      "global: Lux\n",
      "local1 locals() : {'champion': 'Ahri'}\n",
      "local2 locals() : {'champion': 'Ezreal'}\n",
      "global: Lux\n"
     ]
    }
   ],
   "source": [
    "champion = 'Lux'\n",
    "\n",
    "def local1():\n",
    "    champion = 'Ahri'\n",
    "    print(f'local1 locals() : {locals()}')\n",
    "\n",
    "    def local2():\n",
    "        nonlocal champion\n",
    "        champion = 'Ezreal'\n",
    "        print(f'local2 locals() : {locals()}')\n",
    "    local2() # local1의 영역에서 실행하는것\n",
    "\n",
    "print('global:', champion)\n",
    "local1()\n",
    "print('global:', champion)"
   ]
  },
  {
   "cell_type": "code",
   "execution_count": 80,
   "metadata": {},
   "outputs": [
    {
     "name": "stdout",
     "output_type": "stream",
     "text": [
      "100\n",
      "130\n"
     ]
    }
   ],
   "source": [
    "global_level = 100\n",
    "\n",
    "def level_add():\n",
    "    global global_level\n",
    "    global_level += 30\n",
    "\n",
    "print(global_level)\n",
    "level_add()\n",
    "print(global_level)"
   ]
  },
  {
   "cell_type": "code",
   "execution_count": 81,
   "metadata": {},
   "outputs": [],
   "source": [
    "# 위에서 만약 global global_level를 주석처리하게 되면 오류가 나는데\n",
    "# 그 이유는 \n",
    "# global_level += 30 이 표현식이\n",
    "# global_level = global_level +30 일때 global_level 이 선언이 안되어있기 때문이다."
   ]
  },
  {
   "cell_type": "code",
   "execution_count": 82,
   "metadata": {},
   "outputs": [
    {
     "name": "stdout",
     "output_type": "stream",
     "text": [
      "130\n",
      "160\n"
     ]
    }
   ],
   "source": [
    "# 그리고 이 부분은\n",
    "print(global_level)\n",
    "level_add()\n",
    "print(global_level)"
   ]
  },
  {
   "cell_type": "code",
   "execution_count": 84,
   "metadata": {},
   "outputs": [],
   "source": [
    "# global 변수를 쓴다는 것은 바깥 전역변수의 의미도 바꾸게 되는것을 의미한다.\n",
    "# 처음 100이 나오는이유는 첫 선언이 이루어진것이기 때문이고\n",
    "# 그 다음부터 출력할때는 계속 +30을 해서 나오게 될 것\n",
    "\n",
    "# 그리고 위에서 아래로 한줄씩 실행되기에\n",
    "# level_add 가 실행되기 전과 후 값이 다른것"
   ]
  },
  {
   "cell_type": "code",
   "execution_count": 97,
   "metadata": {},
   "outputs": [
    {
     "name": "stdout",
     "output_type": "stream",
     "text": [
      "100\n",
      "100\n"
     ]
    }
   ],
   "source": [
    "global_level = 100\n",
    "\n",
    "def level_add(value):\n",
    "    value += 30\n",
    "    \n",
    "print(global_level)\n",
    "level_add(global_level)\n",
    "print(global_level)"
   ]
  },
  {
   "cell_type": "code",
   "execution_count": 98,
   "metadata": {},
   "outputs": [],
   "source": [
    "# 같은 메모리를 참조하는 다른 변수\n",
    "# 130을 가리키는 value의 연결은 없어지니까 의미가 없음"
   ]
  },
  {
   "cell_type": "code",
   "execution_count": 99,
   "metadata": {},
   "outputs": [
    {
     "name": "stdout",
     "output_type": "stream",
     "text": [
      "[]\n",
      "['ASDF']\n"
     ]
    }
   ],
   "source": [
    "global_list = []\n",
    "\n",
    "def add_item(value):\n",
    "    global global_list\n",
    "    global_list.append(value)\n",
    "\n",
    "print(global_list)\n",
    "add_item('ASDF')\n",
    "print(global_list)"
   ]
  },
  {
   "cell_type": "code",
   "execution_count": 100,
   "metadata": {},
   "outputs": [
    {
     "name": "stdout",
     "output_type": "stream",
     "text": [
      "[]\n",
      "['ASDF']\n"
     ]
    }
   ],
   "source": [
    "global_list = []\n",
    "\n",
    "def add_item(target_list):\n",
    "    target_list.append('ASDF')\n",
    "\n",
    "print(global_list)\n",
    "add_item(global_list)\n",
    "print(global_list)"
   ]
  },
  {
   "cell_type": "code",
   "execution_count": 101,
   "metadata": {},
   "outputs": [],
   "source": [
    "# 위에는 100 100 변화가 없었는데\n",
    "# 아래 리스트는 바뀐다. 왜일까?\n",
    "# 변수에 새로운것을 대입한게 아니라 호출한거니까\n",
    "\n",
    "# 리스트 자체의 주소는 그대로 있기 때문! , 새로운것을 대입한 것이 아니라는 것! "
   ]
  },
  {
   "cell_type": "code",
   "execution_count": 102,
   "metadata": {},
   "outputs": [
    {
     "name": "stdout",
     "output_type": "stream",
     "text": [
      "[]\n",
      "[]\n"
     ]
    }
   ],
   "source": [
    "global_list = []\n",
    "\n",
    "def add_item(target_list):\n",
    "    target_list = ['ASDF']\n",
    "\n",
    "print(global_list)\n",
    "add_item(global_list)\n",
    "print(global_list)"
   ]
  },
  {
   "cell_type": "code",
   "execution_count": 103,
   "metadata": {},
   "outputs": [],
   "source": [
    "# 이렇게 새로운 대입을 하는 경우에는 위에 value 와 같은 결과를 보여주는것\n",
    "# 문자는 리터럴 데이터니까 변경이 불가능한것"
   ]
  },
  {
   "cell_type": "markdown",
   "metadata": {},
   "source": [
    "# 람다함수"
   ]
  },
  {
   "cell_type": "code",
   "execution_count": 108,
   "metadata": {},
   "outputs": [],
   "source": [
    "def square(value):\n",
    "    return value * value"
   ]
  },
  {
   "cell_type": "code",
   "execution_count": 109,
   "metadata": {},
   "outputs": [
    {
     "data": {
      "text/plain": [
       "25"
      ]
     },
     "execution_count": 109,
     "metadata": {},
     "output_type": "execute_result"
    }
   ],
   "source": [
    "square(5)"
   ]
  },
  {
   "cell_type": "code",
   "execution_count": 118,
   "metadata": {},
   "outputs": [
    {
     "data": {
      "text/plain": [
       "<function __main__.<lambda>(value)>"
      ]
     },
     "execution_count": 118,
     "metadata": {},
     "output_type": "execute_result"
    }
   ],
   "source": [
    "lambda value: value * value\n",
    "# 람다함수는 함수의 이름이 없음\n",
    "# 한줄 쓰이고 바로 사라짐 (가리키는곳이 없음. 이 자체가 함수)\n",
    "# lambda 를 쓰고 바로 호출이 됨\n",
    "\n",
    "# 함수를 따로 정의하지 않고도 바로 호출이 가능"
   ]
  },
  {
   "cell_type": "code",
   "execution_count": 119,
   "metadata": {},
   "outputs": [
    {
     "data": {
      "text/plain": [
       "25"
      ]
     },
     "execution_count": 119,
     "metadata": {},
     "output_type": "execute_result"
    }
   ],
   "source": [
    "(lambda value: value * value)(5)"
   ]
  },
  {
   "cell_type": "code",
   "execution_count": 120,
   "metadata": {
    "scrolled": true
   },
   "outputs": [
    {
     "data": {
      "text/plain": [
       "<function __main__.square(value)>"
      ]
     },
     "execution_count": 120,
     "metadata": {},
     "output_type": "execute_result"
    }
   ],
   "source": [
    "square"
   ]
  },
  {
   "cell_type": "code",
   "execution_count": 122,
   "metadata": {},
   "outputs": [
    {
     "data": {
      "text/plain": [
       "<function __main__.<lambda>(value)>"
      ]
     },
     "execution_count": 122,
     "metadata": {},
     "output_type": "execute_result"
    }
   ],
   "source": [
    "f = lambda value: value * value\n",
    "f"
   ]
  },
  {
   "cell_type": "code",
   "execution_count": 123,
   "metadata": {},
   "outputs": [
    {
     "data": {
      "text/plain": [
       "25"
      ]
     },
     "execution_count": 123,
     "metadata": {},
     "output_type": "execute_result"
    }
   ],
   "source": [
    "f(5)"
   ]
  },
  {
   "cell_type": "code",
   "execution_count": 124,
   "metadata": {},
   "outputs": [
    {
     "data": {
      "text/plain": [
       "'abcdefghijklmnopqrstuvwxyz'"
      ]
     },
     "execution_count": 124,
     "metadata": {},
     "output_type": "execute_result"
    }
   ],
   "source": [
    "import string\n",
    "string.ascii_lowercase"
   ]
  },
  {
   "cell_type": "code",
   "execution_count": 127,
   "metadata": {},
   "outputs": [
    {
     "name": "stdout",
     "output_type": "stream",
     "text": [
      "a\n",
      "b\n",
      "c\n",
      "d\n",
      "e\n",
      "f\n",
      "g\n",
      "h\n",
      "i\n",
      "J\n",
      "K\n",
      "L\n",
      "M\n",
      "N\n",
      "O\n",
      "P\n",
      "Q\n",
      "R\n",
      "S\n",
      "T\n",
      "U\n",
      "V\n",
      "W\n",
      "X\n",
      "Y\n",
      "Z\n"
     ]
    }
   ],
   "source": [
    "for char in string.ascii_lowercase:\n",
    "    if char > 'i':\n",
    "        print(char.upper())\n",
    "    else:\n",
    "        print(char)"
   ]
  },
  {
   "cell_type": "code",
   "execution_count": 133,
   "metadata": {},
   "outputs": [
    {
     "name": "stdout",
     "output_type": "stream",
     "text": [
      "a\n",
      "b\n",
      "c\n",
      "d\n",
      "e\n",
      "f\n",
      "g\n",
      "h\n",
      "i\n",
      "J\n",
      "K\n",
      "L\n",
      "M\n",
      "N\n",
      "O\n",
      "P\n",
      "Q\n",
      "R\n",
      "S\n",
      "T\n",
      "U\n",
      "V\n",
      "W\n",
      "X\n",
      "Y\n",
      "Z\n"
     ]
    }
   ],
   "source": [
    "for char in string.ascii_lowercase:\n",
    "    print((lambda x: x.upper() if x >'i' else x)(char))"
   ]
  },
  {
   "cell_type": "code",
   "execution_count": 135,
   "metadata": {},
   "outputs": [],
   "source": [
    "# 이러한 람다함수가 쓰이는 때는 굳이 함수를 반복적으로 사용할 필요가 없을때 사용한다.\n",
    "# 함수를 만든다는 것 자체가 메모리를 사용하는 것이기 떄문에\n",
    "# 이러한 비효율적인 메모리를 줄이기 위해"
   ]
  },
  {
   "cell_type": "markdown",
   "metadata": {},
   "source": [
    "# 클로져\n",
    "projects/wps12th/python 에서 실행"
   ]
  },
  {
   "cell_type": "code",
   "execution_count": 13,
   "metadata": {},
   "outputs": [],
   "source": [
    "level = 0\n",
    "def outer():\n",
    "    level = 50\n",
    "    def inner():\n",
    "        nonlocal level\n",
    "        level += 3\n",
    "        print(level)\n",
    "    return inner"
   ]
  },
  {
   "cell_type": "code",
   "execution_count": 14,
   "metadata": {},
   "outputs": [],
   "source": [
    "# outer()를 하는경우 return inner 즉, inner라는 함수를 호출하는것"
   ]
  },
  {
   "cell_type": "code",
   "execution_count": 15,
   "metadata": {},
   "outputs": [
    {
     "data": {
      "text/plain": [
       "<function __main__.outer.<locals>.inner()>"
      ]
     },
     "execution_count": 15,
     "metadata": {},
     "output_type": "execute_result"
    }
   ],
   "source": [
    "f1 = outer()\n",
    "f1"
   ]
  },
  {
   "cell_type": "code",
   "execution_count": 16,
   "metadata": {},
   "outputs": [
    {
     "name": "stdout",
     "output_type": "stream",
     "text": [
      "53\n"
     ]
    }
   ],
   "source": [
    "f1()"
   ]
  },
  {
   "cell_type": "code",
   "execution_count": 17,
   "metadata": {},
   "outputs": [
    {
     "name": "stdout",
     "output_type": "stream",
     "text": [
      "56\n"
     ]
    }
   ],
   "source": [
    "f1()"
   ]
  },
  {
   "cell_type": "code",
   "execution_count": 28,
   "metadata": {},
   "outputs": [
    {
     "name": "stdout",
     "output_type": "stream",
     "text": [
      "53\n"
     ]
    }
   ],
   "source": [
    "f2 = outer()\n",
    "# 새로 outer()를 하는 f2니까\n",
    "f2()"
   ]
  },
  {
   "cell_type": "code",
   "execution_count": 22,
   "metadata": {},
   "outputs": [],
   "source": [
    "level = 0\n",
    "def outer():\n",
    "    level = 50\n",
    "    def inner():\n",
    "        level = 50\n",
    "        level += 3\n",
    "        print(level)\n",
    "    return inner"
   ]
  },
  {
   "cell_type": "code",
   "execution_count": 23,
   "metadata": {},
   "outputs": [
    {
     "name": "stdout",
     "output_type": "stream",
     "text": [
      "53\n"
     ]
    }
   ],
   "source": [
    "f3 = outer()\n",
    "f2()"
   ]
  },
  {
   "cell_type": "code",
   "execution_count": 24,
   "metadata": {},
   "outputs": [
    {
     "name": "stdout",
     "output_type": "stream",
     "text": [
      "53\n"
     ]
    }
   ],
   "source": [
    "f3()"
   ]
  },
  {
   "cell_type": "code",
   "execution_count": 12,
   "metadata": {},
   "outputs": [],
   "source": [
    "# 이너함수 정의에는 아우터 함수 정의까지 포함해서 가지고 있음\n",
    "# 함수가 정의된 환경 = 클로저\n",
    "# 보이기에는 inner함수만 가지고 있는 것처럼 보이지만 실제는 outer함수까지"
   ]
  },
  {
   "cell_type": "markdown",
   "metadata": {},
   "source": [
    "# 데코레이터"
   ]
  },
  {
   "cell_type": "code",
   "execution_count": 30,
   "metadata": {},
   "outputs": [],
   "source": [
    "# 특정 함수는 그대로 두되, 기능을 변경하고 싶을 때 사용\n",
    "# 규격만 지킨다면 파이썬 함수랑 똑같이 생김"
   ]
  },
  {
   "cell_type": "code",
   "execution_count": 41,
   "metadata": {},
   "outputs": [],
   "source": [
    "def print_string(value):\n",
    "    print(value)"
   ]
  },
  {
   "cell_type": "code",
   "execution_count": 42,
   "metadata": {},
   "outputs": [],
   "source": [
    "def print_int(value):\n",
    "    print(value)"
   ]
  },
  {
   "cell_type": "code",
   "execution_count": 43,
   "metadata": {},
   "outputs": [
    {
     "name": "stdout",
     "output_type": "stream",
     "text": [
      "asd\n",
      "123\n"
     ]
    }
   ],
   "source": [
    "print_string('asd')\n",
    "print_int(123)"
   ]
  },
  {
   "cell_type": "code",
   "execution_count": 47,
   "metadata": {},
   "outputs": [],
   "source": [
    "def print_debug(f):\n",
    "    def decorator(*args, **kwargs):\n",
    "        # 이 내부함수는 인자를 제한없이 받을 수 있고\n",
    "        # 외부함수에서 받는 인자를 다 받아줌\n",
    "        print('args:', args)\n",
    "        print('kwargs:', kwargs)\n",
    "        result = f(*args, **kwargs)\n",
    "        return result\n",
    "    return decorator\n",
    "    # 함수자체를 반환"
   ]
  },
  {
   "cell_type": "code",
   "execution_count": 52,
   "metadata": {},
   "outputs": [],
   "source": [
    "debug_print_string = print_debug(print_string)\n",
    "debug_print_int = print_debug(print_int)"
   ]
  },
  {
   "cell_type": "code",
   "execution_count": 58,
   "metadata": {},
   "outputs": [
    {
     "name": "stdout",
     "output_type": "stream",
     "text": [
      "args: ('asdas',)\n",
      "kwargs: {}\n",
      "asdas\n"
     ]
    }
   ],
   "source": [
    "decorated_finction('asdas')"
   ]
  },
  {
   "cell_type": "code",
   "execution_count": 59,
   "metadata": {},
   "outputs": [],
   "source": [
    "debug_print_string = print_debug(print_string)\n",
    "\n",
    "@print_debug\n",
    "def print_string(value):\n",
    "    print(value) \n",
    "    \n",
    "@print_debug\n",
    "def print_int(value):\n",
    "    print(value)"
   ]
  },
  {
   "cell_type": "code",
   "execution_count": 60,
   "metadata": {},
   "outputs": [
    {
     "name": "stdout",
     "output_type": "stream",
     "text": [
      "args: ('asdas',)\n",
      "kwargs: {}\n",
      "asdas\n"
     ]
    }
   ],
   "source": [
    "print_string('asdas')"
   ]
  },
  {
   "cell_type": "markdown",
   "metadata": {},
   "source": [
    "# 제너레이터"
   ]
  },
  {
   "cell_type": "code",
   "execution_count": 64,
   "metadata": {},
   "outputs": [
    {
     "name": "stdout",
     "output_type": "stream",
     "text": [
      "0 0\n",
      "1000 1000\n",
      "2000 2000\n",
      "3000 3000\n",
      "4000 4000\n",
      "5000 5000\n",
      "6000 6000\n",
      "7000 7000\n",
      "8000 8000\n",
      "9000 9000\n",
      "10000 10000\n",
      "11000 11000\n",
      "12000 12000\n",
      "13000 13000\n",
      "14000 14000\n",
      "15000 15000\n",
      "16000 16000\n",
      "17000 17000\n",
      "18000 18000\n",
      "19000 19000\n",
      "20000 20000\n",
      "21000 21000\n",
      "22000 22000\n",
      "23000 23000\n",
      "24000 24000\n",
      "25000 25000\n",
      "26000 26000\n",
      "27000 27000\n",
      "28000 28000\n",
      "29000 29000\n",
      "30000 30000\n",
      "31000 31000\n",
      "32000 32000\n",
      "33000 33000\n",
      "34000 34000\n",
      "35000 35000\n",
      "36000 36000\n",
      "37000 37000\n",
      "38000 38000\n",
      "39000 39000\n",
      "40000 40000\n",
      "41000 41000\n",
      "42000 42000\n",
      "43000 43000\n",
      "44000 44000\n",
      "45000 45000\n",
      "46000 46000\n",
      "47000 47000\n",
      "48000 48000\n",
      "49000 49000\n",
      "50000 50000\n",
      "51000 51000\n",
      "52000 52000\n",
      "53000 53000\n",
      "54000 54000\n",
      "55000 55000\n",
      "56000 56000\n",
      "57000 57000\n",
      "58000 58000\n",
      "59000 59000\n",
      "60000 60000\n",
      "61000 61000\n",
      "62000 62000\n",
      "63000 63000\n",
      "64000 64000\n",
      "65000 65000\n",
      "66000 66000\n",
      "67000 67000\n",
      "68000 68000\n",
      "69000 69000\n",
      "70000 70000\n",
      "71000 71000\n",
      "72000 72000\n",
      "73000 73000\n",
      "74000 74000\n",
      "75000 75000\n",
      "76000 76000\n",
      "77000 77000\n",
      "78000 78000\n",
      "79000 79000\n",
      "80000 80000\n",
      "81000 81000\n",
      "82000 82000\n",
      "83000 83000\n",
      "84000 84000\n",
      "85000 85000\n",
      "86000 86000\n",
      "87000 87000\n",
      "88000 88000\n",
      "89000 89000\n",
      "90000 90000\n",
      "91000 91000\n",
      "92000 92000\n",
      "93000 93000\n",
      "94000 94000\n",
      "95000 95000\n",
      "96000 96000\n",
      "97000 97000\n",
      "98000 98000\n",
      "99000 99000\n",
      "100000 100000\n",
      "101000 101000\n",
      "102000 102000\n",
      "103000 103000\n",
      "104000 104000\n",
      "105000 105000\n",
      "106000 106000\n",
      "107000 107000\n",
      "108000 108000\n",
      "109000 109000\n",
      "110000 110000\n",
      "111000 111000\n",
      "112000 112000\n",
      "113000 113000\n",
      "114000 114000\n",
      "115000 115000\n",
      "116000 116000\n",
      "117000 117000\n",
      "118000 118000\n",
      "119000 119000\n",
      "120000 120000\n",
      "121000 121000\n",
      "122000 122000\n",
      "123000 123000\n",
      "124000 124000\n",
      "125000 125000\n",
      "126000 126000\n",
      "127000 127000\n",
      "128000 128000\n",
      "129000 129000\n",
      "130000 130000\n",
      "131000 131000\n",
      "132000 132000\n",
      "133000 133000\n",
      "134000 134000\n",
      "135000 135000\n",
      "136000 136000\n",
      "137000 137000\n",
      "138000 138000\n",
      "139000 139000\n",
      "140000 140000\n",
      "141000 141000\n",
      "142000 142000\n",
      "143000 143000\n",
      "144000 144000\n",
      "145000 145000\n",
      "146000 146000\n",
      "147000 147000\n",
      "148000 148000\n",
      "149000 149000\n",
      "150000 150000\n",
      "151000 151000\n",
      "152000 152000\n",
      "153000 153000\n",
      "154000 154000\n",
      "155000 155000\n",
      "156000 156000\n",
      "157000 157000\n",
      "158000 158000\n",
      "159000 159000\n",
      "160000 160000\n",
      "161000 161000\n",
      "162000 162000\n",
      "163000 163000\n",
      "164000 164000\n",
      "165000 165000\n",
      "166000 166000\n",
      "167000 167000\n",
      "168000 168000\n",
      "169000 169000\n",
      "170000 170000\n",
      "171000 171000\n",
      "172000 172000\n",
      "173000 173000\n",
      "174000 174000\n",
      "175000 175000\n",
      "176000 176000\n",
      "177000 177000\n",
      "178000 178000\n",
      "179000 179000\n",
      "180000 180000\n",
      "181000 181000\n",
      "182000 182000\n",
      "183000 183000\n",
      "184000 184000\n",
      "185000 185000\n",
      "186000 186000\n",
      "187000 187000\n",
      "188000 188000\n",
      "189000 189000\n",
      "190000 190000\n",
      "191000 191000\n",
      "192000 192000\n",
      "193000 193000\n",
      "194000 194000\n",
      "195000 195000\n",
      "196000 196000\n",
      "197000 197000\n",
      "198000 198000\n",
      "199000 199000\n",
      "200000 200000\n",
      "201000 201000\n",
      "202000 202000\n",
      "203000 203000\n",
      "204000 204000\n",
      "205000 205000\n",
      "206000 206000\n",
      "207000 207000\n",
      "208000 208000\n",
      "209000 209000\n",
      "210000 210000\n",
      "211000 211000\n",
      "212000 212000\n",
      "213000 213000\n",
      "214000 214000\n",
      "215000 215000\n",
      "216000 216000\n",
      "217000 217000\n",
      "218000 218000\n",
      "219000 219000\n",
      "220000 220000\n",
      "221000 221000\n",
      "222000 222000\n",
      "223000 223000\n",
      "224000 224000\n",
      "225000 225000\n",
      "226000 226000\n",
      "227000 227000\n",
      "228000 228000\n",
      "229000 229000\n",
      "230000 230000\n",
      "231000 231000\n",
      "232000 232000\n",
      "233000 233000\n",
      "234000 234000\n",
      "235000 235000\n",
      "236000 236000\n",
      "237000 237000\n",
      "238000 238000\n",
      "239000 239000\n",
      "240000 240000\n",
      "241000 241000\n",
      "242000 242000\n",
      "243000 243000\n",
      "244000 244000\n",
      "245000 245000\n",
      "246000 246000\n",
      "247000 247000\n",
      "248000 248000\n",
      "249000 249000\n",
      "250000 250000\n",
      "251000 251000\n",
      "252000 252000\n",
      "253000 253000\n",
      "254000 254000\n",
      "255000 255000\n",
      "256000 256000\n",
      "257000 257000\n",
      "258000 258000\n",
      "259000 259000\n",
      "260000 260000\n",
      "261000 261000\n",
      "262000 262000\n",
      "263000 263000\n",
      "264000 264000\n",
      "265000 265000\n",
      "266000 266000\n",
      "267000 267000\n",
      "268000 268000\n",
      "269000 269000\n",
      "270000 270000\n",
      "271000 271000\n",
      "272000 272000\n",
      "273000 273000\n",
      "274000 274000\n",
      "275000 275000\n",
      "276000 276000\n",
      "277000 277000\n",
      "278000 278000\n",
      "279000 279000\n",
      "280000 280000\n",
      "281000 281000\n",
      "282000 282000\n",
      "283000 283000\n",
      "284000 284000\n",
      "285000 285000\n",
      "286000 286000\n",
      "287000 287000\n",
      "288000 288000\n",
      "289000 289000\n",
      "290000 290000\n",
      "291000 291000\n",
      "292000 292000\n",
      "293000 293000\n",
      "294000 294000\n",
      "295000 295000\n",
      "296000 296000\n",
      "297000 297000\n",
      "298000 298000\n",
      "299000 299000\n",
      "300000 300000\n",
      "301000 301000\n",
      "302000 302000\n",
      "303000 303000\n",
      "304000 304000\n",
      "305000 305000\n",
      "306000 306000\n",
      "307000 307000\n",
      "308000 308000\n",
      "309000 309000\n",
      "310000 310000\n",
      "311000 311000\n",
      "312000 312000\n",
      "313000 313000\n",
      "314000 314000\n",
      "315000 315000\n",
      "316000 316000\n",
      "317000 317000\n",
      "318000 318000\n",
      "319000 319000\n",
      "320000 320000\n",
      "321000 321000\n",
      "322000 322000\n",
      "323000 323000\n",
      "324000 324000\n",
      "325000 325000\n",
      "326000 326000\n",
      "327000 327000\n",
      "328000 328000\n",
      "329000 329000\n",
      "330000 330000\n",
      "331000 331000\n",
      "332000 332000\n",
      "333000 333000\n",
      "334000 334000\n",
      "335000 335000\n",
      "336000 336000\n",
      "337000 337000\n",
      "338000 338000\n",
      "339000 339000\n",
      "340000 340000\n",
      "341000 341000\n",
      "342000 342000\n",
      "343000 343000\n",
      "344000 344000\n",
      "345000 345000\n",
      "346000 346000\n",
      "347000 347000\n",
      "348000 348000\n",
      "349000 349000\n",
      "350000 350000\n",
      "351000 351000\n",
      "352000 352000\n",
      "353000 353000\n",
      "354000 354000\n",
      "355000 355000\n",
      "356000 356000\n",
      "357000 357000\n",
      "358000 358000\n",
      "359000 359000\n",
      "360000 360000\n",
      "361000 361000\n",
      "362000 362000\n",
      "363000 363000\n",
      "364000 364000\n",
      "365000 365000\n",
      "366000 366000\n",
      "367000 367000\n",
      "368000 368000\n",
      "369000 369000\n",
      "370000 370000\n",
      "371000 371000\n",
      "372000 372000\n",
      "373000 373000\n",
      "374000 374000\n",
      "375000 375000\n",
      "376000 376000\n",
      "377000 377000\n",
      "378000 378000\n",
      "379000 379000\n",
      "380000 380000\n",
      "381000 381000\n",
      "382000 382000\n",
      "383000 383000\n",
      "384000 384000\n",
      "385000 385000\n",
      "386000 386000\n",
      "387000 387000\n",
      "388000 388000\n",
      "389000 389000\n",
      "390000 390000\n",
      "391000 391000\n",
      "392000 392000\n",
      "393000 393000\n",
      "394000 394000\n",
      "395000 395000\n",
      "396000 396000\n",
      "397000 397000\n",
      "398000 398000\n",
      "399000 399000\n",
      "400000 400000\n",
      "401000 401000\n",
      "402000 402000\n",
      "403000 403000\n",
      "404000 404000\n",
      "405000 405000\n",
      "406000 406000\n",
      "407000 407000\n",
      "408000 408000\n",
      "409000 409000\n",
      "410000 410000\n",
      "411000 411000\n",
      "412000 412000\n",
      "413000 413000\n",
      "414000 414000\n",
      "415000 415000\n",
      "416000 416000\n",
      "417000 417000\n",
      "418000 418000\n",
      "419000 419000\n",
      "420000 420000\n",
      "421000 421000\n",
      "422000 422000\n",
      "423000 423000\n",
      "424000 424000\n",
      "425000 425000\n",
      "426000 426000\n",
      "427000 427000\n",
      "428000 428000\n",
      "429000 429000\n",
      "430000 430000\n",
      "431000 431000\n",
      "432000 432000\n",
      "433000 433000\n",
      "434000 434000\n",
      "435000 435000\n",
      "436000 436000\n",
      "437000 437000\n",
      "438000 438000\n",
      "439000 439000\n",
      "440000 440000\n",
      "441000 441000\n",
      "442000 442000\n",
      "443000 443000\n",
      "444000 444000\n",
      "445000 445000\n",
      "446000 446000\n",
      "447000 447000\n",
      "448000 448000\n",
      "449000 449000\n",
      "450000 450000\n",
      "451000 451000\n",
      "452000 452000\n",
      "453000 453000\n",
      "454000 454000\n",
      "455000 455000\n",
      "456000 456000\n",
      "457000 457000\n",
      "458000 458000\n",
      "459000 459000\n",
      "460000 460000\n",
      "461000 461000\n",
      "462000 462000\n",
      "463000 463000\n",
      "464000 464000\n",
      "465000 465000\n",
      "466000 466000\n",
      "467000 467000\n",
      "468000 468000\n",
      "469000 469000\n",
      "470000 470000\n",
      "471000 471000\n",
      "472000 472000\n",
      "473000 473000\n",
      "474000 474000\n",
      "475000 475000\n",
      "476000 476000\n",
      "477000 477000\n",
      "478000 478000\n",
      "479000 479000\n",
      "480000 480000\n",
      "481000 481000\n",
      "482000 482000\n",
      "483000 483000\n",
      "484000 484000\n",
      "485000 485000\n",
      "486000 486000\n",
      "487000 487000\n",
      "488000 488000\n",
      "489000 489000\n",
      "490000 490000\n",
      "491000 491000\n",
      "492000 492000\n",
      "493000 493000\n",
      "494000 494000\n",
      "495000 495000\n",
      "496000 496000\n",
      "497000 497000\n",
      "498000 498000\n",
      "499000 499000\n",
      "500000 500000\n",
      "501000 501000\n",
      "502000 502000\n",
      "503000 503000\n",
      "504000 504000\n",
      "505000 505000\n",
      "506000 506000\n",
      "507000 507000\n",
      "508000 508000\n",
      "509000 509000\n",
      "510000 510000\n",
      "511000 511000\n",
      "512000 512000\n",
      "513000 513000\n",
      "514000 514000\n",
      "515000 515000\n",
      "516000 516000\n",
      "517000 517000\n",
      "518000 518000\n",
      "519000 519000\n",
      "520000 520000\n",
      "521000 521000\n",
      "522000 522000\n",
      "523000 523000\n",
      "524000 524000\n",
      "525000 525000\n",
      "526000 526000\n",
      "527000 527000\n",
      "528000 528000\n",
      "529000 529000\n",
      "530000 530000\n",
      "531000 531000\n",
      "532000 532000\n",
      "533000 533000\n",
      "534000 534000\n",
      "535000 535000\n",
      "536000 536000\n",
      "537000 537000\n",
      "538000 538000\n",
      "539000 539000\n",
      "540000 540000\n",
      "541000 541000\n",
      "542000 542000\n",
      "543000 543000\n",
      "544000 544000\n",
      "545000 545000\n",
      "546000 546000\n",
      "547000 547000\n",
      "548000 548000\n",
      "549000 549000\n",
      "550000 550000\n",
      "551000 551000\n",
      "552000 552000\n",
      "553000 553000\n",
      "554000 554000\n",
      "555000 555000\n",
      "556000 556000\n",
      "557000 557000\n",
      "558000 558000\n",
      "559000 559000\n",
      "560000 560000\n",
      "561000 561000\n",
      "562000 562000\n",
      "563000 563000\n",
      "564000 564000\n",
      "565000 565000\n",
      "566000 566000\n",
      "567000 567000\n",
      "568000 568000\n",
      "569000 569000\n",
      "570000 570000\n",
      "571000 571000\n",
      "572000 572000\n",
      "573000 573000\n",
      "574000 574000\n",
      "575000 575000\n",
      "576000 576000\n",
      "577000 577000\n",
      "578000 578000\n",
      "579000 579000\n",
      "580000 580000\n",
      "581000 581000\n",
      "582000 582000\n",
      "583000 583000\n",
      "584000 584000\n",
      "585000 585000\n",
      "586000 586000\n",
      "587000 587000\n",
      "588000 588000\n",
      "589000 589000\n",
      "590000 590000\n",
      "591000 591000\n",
      "592000 592000\n",
      "593000 593000\n",
      "594000 594000\n",
      "595000 595000\n",
      "596000 596000\n",
      "597000 597000\n",
      "598000 598000\n",
      "599000 599000\n",
      "600000 600000\n",
      "601000 601000\n",
      "602000 602000\n",
      "603000 603000\n",
      "604000 604000\n",
      "605000 605000\n",
      "606000 606000\n",
      "607000 607000\n",
      "608000 608000\n",
      "609000 609000\n",
      "610000 610000\n",
      "611000 611000\n",
      "612000 612000\n",
      "613000 613000\n",
      "614000 614000\n",
      "615000 615000\n",
      "616000 616000\n",
      "617000 617000\n",
      "618000 618000\n",
      "619000 619000\n",
      "620000 620000\n",
      "621000 621000\n",
      "622000 622000\n",
      "623000 623000\n",
      "624000 624000\n",
      "625000 625000\n",
      "626000 626000\n",
      "627000 627000\n",
      "628000 628000\n",
      "629000 629000\n",
      "630000 630000\n",
      "631000 631000\n",
      "632000 632000\n",
      "633000 633000\n",
      "634000 634000\n",
      "635000 635000\n",
      "636000 636000\n",
      "637000 637000\n",
      "638000 638000\n",
      "639000 639000\n",
      "640000 640000\n",
      "641000 641000\n",
      "642000 642000\n",
      "643000 643000\n",
      "644000 644000\n",
      "645000 645000\n",
      "646000 646000\n",
      "647000 647000\n",
      "648000 648000\n",
      "649000 649000\n",
      "650000 650000\n",
      "651000 651000\n",
      "652000 652000\n",
      "653000 653000\n",
      "654000 654000\n",
      "655000 655000\n",
      "656000 656000\n",
      "657000 657000\n",
      "658000 658000\n",
      "659000 659000\n",
      "660000 660000\n",
      "661000 661000\n",
      "662000 662000\n",
      "663000 663000\n",
      "664000 664000\n",
      "665000 665000\n",
      "666000 666000\n",
      "667000 667000\n",
      "668000 668000\n",
      "669000 669000\n",
      "670000 670000\n",
      "671000 671000\n",
      "672000 672000\n",
      "673000 673000\n",
      "674000 674000\n",
      "675000 675000\n",
      "676000 676000\n",
      "677000 677000\n",
      "678000 678000\n",
      "679000 679000\n",
      "680000 680000\n",
      "681000 681000\n",
      "682000 682000\n",
      "683000 683000\n",
      "684000 684000\n",
      "685000 685000\n",
      "686000 686000\n",
      "687000 687000\n",
      "688000 688000\n",
      "689000 689000\n",
      "690000 690000\n",
      "691000 691000\n",
      "692000 692000\n",
      "693000 693000\n",
      "694000 694000\n",
      "695000 695000\n",
      "696000 696000\n",
      "697000 697000\n",
      "698000 698000\n",
      "699000 699000\n",
      "700000 700000\n",
      "701000 701000\n",
      "702000 702000\n",
      "703000 703000\n",
      "704000 704000\n",
      "705000 705000\n",
      "706000 706000\n",
      "707000 707000\n",
      "708000 708000\n",
      "709000 709000\n",
      "710000 710000\n",
      "711000 711000\n",
      "712000 712000\n",
      "713000 713000\n",
      "714000 714000\n",
      "715000 715000\n",
      "716000 716000\n",
      "717000 717000\n",
      "718000 718000\n",
      "719000 719000\n",
      "720000 720000\n",
      "721000 721000\n",
      "722000 722000\n",
      "723000 723000\n",
      "724000 724000\n",
      "725000 725000\n",
      "726000 726000\n",
      "727000 727000\n",
      "728000 728000\n",
      "729000 729000\n",
      "730000 730000\n",
      "731000 731000\n",
      "732000 732000\n",
      "733000 733000\n",
      "734000 734000\n",
      "735000 735000\n",
      "736000 736000\n",
      "737000 737000\n",
      "738000 738000\n",
      "739000 739000\n",
      "740000 740000\n",
      "741000 741000\n",
      "742000 742000\n",
      "743000 743000\n",
      "744000 744000\n",
      "745000 745000\n",
      "746000 746000\n",
      "747000 747000\n",
      "748000 748000\n",
      "749000 749000\n",
      "750000 750000\n",
      "751000 751000\n",
      "752000 752000\n",
      "753000 753000\n",
      "754000 754000\n",
      "755000 755000\n",
      "756000 756000\n",
      "757000 757000\n",
      "758000 758000\n",
      "759000 759000\n",
      "760000 760000\n",
      "761000 761000\n",
      "762000 762000\n",
      "763000 763000\n",
      "764000 764000\n",
      "765000 765000\n",
      "766000 766000\n",
      "767000 767000\n",
      "768000 768000\n",
      "769000 769000\n",
      "770000 770000\n",
      "771000 771000\n",
      "772000 772000\n",
      "773000 773000\n",
      "774000 774000\n",
      "775000 775000\n",
      "776000 776000\n",
      "777000 777000\n",
      "778000 778000\n",
      "779000 779000\n",
      "780000 780000\n",
      "781000 781000\n",
      "782000 782000\n",
      "783000 783000\n",
      "784000 784000\n",
      "785000 785000\n",
      "786000 786000\n",
      "787000 787000\n",
      "788000 788000\n",
      "789000 789000\n",
      "790000 790000\n",
      "791000 791000\n",
      "792000 792000\n",
      "793000 793000\n",
      "794000 794000\n",
      "795000 795000\n",
      "796000 796000\n",
      "797000 797000\n",
      "798000 798000\n",
      "799000 799000\n",
      "800000 800000\n",
      "801000 801000\n",
      "802000 802000\n",
      "803000 803000\n",
      "804000 804000\n",
      "805000 805000\n",
      "806000 806000\n",
      "807000 807000\n",
      "808000 808000\n",
      "809000 809000\n",
      "810000 810000\n",
      "811000 811000\n",
      "812000 812000\n",
      "813000 813000\n",
      "814000 814000\n",
      "815000 815000\n",
      "816000 816000\n",
      "817000 817000\n",
      "818000 818000\n",
      "819000 819000\n",
      "820000 820000\n",
      "821000 821000\n",
      "822000 822000\n",
      "823000 823000\n",
      "824000 824000\n",
      "825000 825000\n",
      "826000 826000\n",
      "827000 827000\n",
      "828000 828000\n",
      "829000 829000\n",
      "830000 830000\n",
      "831000 831000\n",
      "832000 832000\n",
      "833000 833000\n",
      "834000 834000\n",
      "835000 835000\n",
      "836000 836000\n",
      "837000 837000\n",
      "838000 838000\n",
      "839000 839000\n",
      "840000 840000\n",
      "841000 841000\n",
      "842000 842000\n",
      "843000 843000\n",
      "844000 844000\n",
      "845000 845000\n",
      "846000 846000\n",
      "847000 847000\n",
      "848000 848000\n",
      "849000 849000\n",
      "850000 850000\n",
      "851000 851000\n",
      "852000 852000\n",
      "853000 853000\n",
      "854000 854000\n",
      "855000 855000\n",
      "856000 856000\n",
      "857000 857000\n",
      "858000 858000\n",
      "859000 859000\n",
      "860000 860000\n",
      "861000 861000\n",
      "862000 862000\n",
      "863000 863000\n",
      "864000 864000\n",
      "865000 865000\n",
      "866000 866000\n",
      "867000 867000\n",
      "868000 868000\n",
      "869000 869000\n",
      "870000 870000\n",
      "871000 871000\n",
      "872000 872000\n",
      "873000 873000\n",
      "874000 874000\n",
      "875000 875000\n",
      "876000 876000\n",
      "877000 877000\n",
      "878000 878000\n",
      "879000 879000\n",
      "880000 880000\n",
      "881000 881000\n",
      "882000 882000\n",
      "883000 883000\n",
      "884000 884000\n",
      "885000 885000\n",
      "886000 886000\n",
      "887000 887000\n",
      "888000 888000\n",
      "889000 889000\n",
      "890000 890000\n",
      "891000 891000\n",
      "892000 892000\n",
      "893000 893000\n",
      "894000 894000\n",
      "895000 895000\n",
      "896000 896000\n",
      "897000 897000\n",
      "898000 898000\n",
      "899000 899000\n",
      "900000 900000\n",
      "901000 901000\n",
      "902000 902000\n",
      "903000 903000\n",
      "904000 904000\n",
      "905000 905000\n",
      "906000 906000\n",
      "907000 907000\n",
      "908000 908000\n",
      "909000 909000\n",
      "910000 910000\n",
      "911000 911000\n",
      "912000 912000\n",
      "913000 913000\n",
      "914000 914000\n",
      "915000 915000\n",
      "916000 916000\n",
      "917000 917000\n",
      "918000 918000\n",
      "919000 919000\n",
      "920000 920000\n",
      "921000 921000\n",
      "922000 922000\n",
      "923000 923000\n",
      "924000 924000\n",
      "925000 925000\n",
      "926000 926000\n",
      "927000 927000\n",
      "928000 928000\n",
      "929000 929000\n",
      "930000 930000\n",
      "931000 931000\n",
      "932000 932000\n",
      "933000 933000\n",
      "934000 934000\n",
      "935000 935000\n",
      "936000 936000\n",
      "937000 937000\n",
      "938000 938000\n",
      "939000 939000\n",
      "940000 940000\n",
      "941000 941000\n",
      "942000 942000\n",
      "943000 943000\n",
      "944000 944000\n",
      "945000 945000\n",
      "946000 946000\n",
      "947000 947000\n",
      "948000 948000\n",
      "949000 949000\n",
      "950000 950000\n",
      "951000 951000\n",
      "952000 952000\n",
      "953000 953000\n",
      "954000 954000\n",
      "955000 955000\n",
      "956000 956000\n",
      "957000 957000\n",
      "958000 958000\n",
      "959000 959000\n",
      "960000 960000\n",
      "961000 961000\n",
      "962000 962000\n",
      "963000 963000\n",
      "964000 964000\n",
      "965000 965000\n",
      "966000 966000\n",
      "967000 967000\n",
      "968000 968000\n",
      "969000 969000\n",
      "970000 970000\n",
      "971000 971000\n",
      "972000 972000\n",
      "973000 973000\n",
      "974000 974000\n",
      "975000 975000\n",
      "976000 976000\n",
      "977000 977000\n",
      "978000 978000\n",
      "979000 979000\n",
      "980000 980000\n",
      "981000 981000\n",
      "982000 982000\n",
      "983000 983000\n",
      "984000 984000\n",
      "985000 985000\n",
      "986000 986000\n",
      "987000 987000\n",
      "988000 988000\n",
      "989000 989000\n",
      "990000 990000\n",
      "991000 991000\n",
      "992000 992000\n",
      "993000 993000\n",
      "994000 994000\n",
      "995000 995000\n",
      "996000 996000\n",
      "997000 997000\n",
      "998000 998000\n",
      "999000 999000\n"
     ]
    }
   ],
   "source": [
    "a = list(range(1000000))\n",
    "for index, item in enumerate(a):\n",
    "    if index % 1000 == 0:\n",
    "        print(index, item)"
   ]
  },
  {
   "cell_type": "code",
   "execution_count": 65,
   "metadata": {},
   "outputs": [],
   "source": [
    "def range_gen(num):\n",
    "    i = 0\n",
    "    while i < num:\n",
    "        i += 1\n",
    "    return i\n",
    "        "
   ]
  },
  {
   "cell_type": "code",
   "execution_count": 66,
   "metadata": {},
   "outputs": [
    {
     "data": {
      "text/plain": [
       "1000"
      ]
     },
     "execution_count": 66,
     "metadata": {},
     "output_type": "execute_result"
    }
   ],
   "source": [
    "range_gen(1000)"
   ]
  },
  {
   "cell_type": "code",
   "execution_count": 67,
   "metadata": {},
   "outputs": [],
   "source": [
    "def range_gen(num):\n",
    "    i = 0\n",
    "    while i < num:\n",
    "        yield i\n",
    "        i += 1\n",
    "        "
   ]
  },
  {
   "cell_type": "code",
   "execution_count": 69,
   "metadata": {},
   "outputs": [
    {
     "data": {
      "text/plain": [
       "<generator object range_gen at 0x10ca6a450>"
      ]
     },
     "execution_count": 69,
     "metadata": {},
     "output_type": "execute_result"
    }
   ],
   "source": [
    "gen = range_gen(10)\n",
    "gen"
   ]
  },
  {
   "cell_type": "code",
   "execution_count": 70,
   "metadata": {},
   "outputs": [
    {
     "name": "stdout",
     "output_type": "stream",
     "text": [
      "0\n",
      "1\n",
      "2\n",
      "3\n",
      "4\n",
      "5\n",
      "6\n",
      "7\n",
      "8\n",
      "9\n"
     ]
    }
   ],
   "source": [
    "for i in gen:\n",
    "    print(i)"
   ]
  },
  {
   "cell_type": "code",
   "execution_count": 73,
   "metadata": {},
   "outputs": [],
   "source": [
    "# 이 제너레이터가 가지고있는건 이 루틴뿐이고\n",
    "# for i in [0,1,2,3,4,5]: 이렇게처럼 메모리를 가지고 있는 것이 아님\n",
    "# 제너레이터는 i라는 변수를 가지고 있음(자신의 스코프에)"
   ]
  },
  {
   "cell_type": "code",
   "execution_count": 74,
   "metadata": {},
   "outputs": [
    {
     "data": {
      "text/plain": [
       "0"
      ]
     },
     "execution_count": 74,
     "metadata": {},
     "output_type": "execute_result"
    }
   ],
   "source": [
    "gen = range_gen(3)\n",
    "gen.__next__()"
   ]
  },
  {
   "cell_type": "code",
   "execution_count": 75,
   "metadata": {},
   "outputs": [
    {
     "data": {
      "text/plain": [
       "1"
      ]
     },
     "execution_count": 75,
     "metadata": {},
     "output_type": "execute_result"
    }
   ],
   "source": [
    "gen.__next__()"
   ]
  },
  {
   "cell_type": "code",
   "execution_count": 76,
   "metadata": {},
   "outputs": [
    {
     "data": {
      "text/plain": [
       "2"
      ]
     },
     "execution_count": 76,
     "metadata": {},
     "output_type": "execute_result"
    }
   ],
   "source": [
    "gen.__next__()"
   ]
  },
  {
   "cell_type": "code",
   "execution_count": 77,
   "metadata": {},
   "outputs": [
    {
     "ename": "StopIteration",
     "evalue": "",
     "output_type": "error",
     "traceback": [
      "\u001b[0;31m---------------------------------------------------------------------------\u001b[0m",
      "\u001b[0;31mStopIteration\u001b[0m                             Traceback (most recent call last)",
      "\u001b[0;32m<ipython-input-77-d5d004b357fe>\u001b[0m in \u001b[0;36m<module>\u001b[0;34m\u001b[0m\n\u001b[0;32m----> 1\u001b[0;31m \u001b[0mgen\u001b[0m\u001b[0;34m.\u001b[0m\u001b[0m__next__\u001b[0m\u001b[0;34m(\u001b[0m\u001b[0;34m)\u001b[0m\u001b[0;34m\u001b[0m\u001b[0;34m\u001b[0m\u001b[0m\n\u001b[0m",
      "\u001b[0;31mStopIteration\u001b[0m: "
     ]
    }
   ],
   "source": [
    "gen.__next__()"
   ]
  },
  {
   "cell_type": "code",
   "execution_count": 78,
   "metadata": {},
   "outputs": [],
   "source": [
    "# 순회할 수 있는 객체"
   ]
  },
  {
   "cell_type": "code",
   "execution_count": 79,
   "metadata": {},
   "outputs": [
    {
     "data": {
      "text/plain": [
       "0"
      ]
     },
     "execution_count": 79,
     "metadata": {},
     "output_type": "execute_result"
    }
   ],
   "source": [
    "gen = range_gen(2)\n",
    "next(gen)"
   ]
  },
  {
   "cell_type": "code",
   "execution_count": 80,
   "metadata": {},
   "outputs": [
    {
     "data": {
      "text/plain": [
       "1"
      ]
     },
     "execution_count": 80,
     "metadata": {},
     "output_type": "execute_result"
    }
   ],
   "source": [
    "next(gen)"
   ]
  },
  {
   "cell_type": "code",
   "execution_count": 81,
   "metadata": {},
   "outputs": [
    {
     "ename": "StopIteration",
     "evalue": "",
     "output_type": "error",
     "traceback": [
      "\u001b[0;31m---------------------------------------------------------------------------\u001b[0m",
      "\u001b[0;31mStopIteration\u001b[0m                             Traceback (most recent call last)",
      "\u001b[0;32m<ipython-input-81-6e72e47198db>\u001b[0m in \u001b[0;36m<module>\u001b[0;34m\u001b[0m\n\u001b[0;32m----> 1\u001b[0;31m \u001b[0mnext\u001b[0m\u001b[0;34m(\u001b[0m\u001b[0mgen\u001b[0m\u001b[0;34m)\u001b[0m\u001b[0;34m\u001b[0m\u001b[0;34m\u001b[0m\u001b[0m\n\u001b[0m",
      "\u001b[0;31mStopIteration\u001b[0m: "
     ]
    }
   ],
   "source": [
    "next(gen)"
   ]
  },
  {
   "cell_type": "code",
   "execution_count": 82,
   "metadata": {},
   "outputs": [],
   "source": [
    "# 포문 안에서 자동으로 호출되는 값"
   ]
  },
  {
   "cell_type": "code",
   "execution_count": null,
   "metadata": {},
   "outputs": [],
   "source": []
  }
 ],
 "metadata": {
  "kernelspec": {
   "display_name": "Python 3",
   "language": "python",
   "name": "python3"
  },
  "language_info": {
   "codemirror_mode": {
    "name": "ipython",
    "version": 3
   },
   "file_extension": ".py",
   "mimetype": "text/x-python",
   "name": "python",
   "nbconvert_exporter": "python",
   "pygments_lexer": "ipython3",
   "version": "3.7.4"
  }
 },
 "nbformat": 4,
 "nbformat_minor": 2
}
