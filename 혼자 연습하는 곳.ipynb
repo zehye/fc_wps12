{
 "cells": [
  {
   "cell_type": "code",
   "execution_count": 4,
   "metadata": {
    "scrolled": true
   },
   "outputs": [
    {
     "name": "stdout",
     "output_type": "stream",
     "text": [
      "100\n"
     ]
    }
   ],
   "source": [
    "print(a)"
   ]
  },
  {
   "cell_type": "code",
   "execution_count": 5,
   "metadata": {},
   "outputs": [],
   "source": [
    "a=100"
   ]
  },
  {
   "cell_type": "code",
   "execution_count": 6,
   "metadata": {},
   "outputs": [
    {
     "name": "stdout",
     "output_type": "stream",
     "text": [
      "100\n"
     ]
    }
   ],
   "source": [
    "print(a)"
   ]
  },
  {
   "cell_type": "code",
   "execution_count": 1,
   "metadata": {},
   "outputs": [
    {
     "name": "stdout",
     "output_type": "stream",
     "text": [
      "lang here!\n",
      "lang here!\n",
      "lang also here!\n",
      "lang also here!\n"
     ]
    }
   ],
   "source": [
    "languages = ['python', 'perl', 'c', 'java']\n",
    "\n",
    "for lang in languages:\n",
    "    if lang in ['python', 'perl']:\n",
    "        print('lang here!')\n",
    "    elif lang in ['c', 'java']:\n",
    "        print('lang also here!')\n",
    "    else:\n",
    "        print('nothing')"
   ]
  },
  {
   "cell_type": "code",
   "execution_count": 2,
   "metadata": {},
   "outputs": [
    {
     "name": "stdout",
     "output_type": "stream",
     "text": [
      "python need interpreter\n",
      "  perl need interpreter\n",
      "     c need compiler\n",
      "  java need compiler\n"
     ]
    }
   ],
   "source": [
    "languages = ['python', 'perl', 'c', 'java']\n",
    "\n",
    "for lang in languages:\n",
    "    if lang in ['python', 'perl']:\n",
    "        print(\"%6s need interpreter\" % lang)\n",
    "    elif lang in ['c', 'java']:\n",
    "        print(\"%6s need compiler\" % lang)\n",
    "    else:\n",
    "        print(\"should not reach here\")"
   ]
  },
  {
   "cell_type": "code",
   "execution_count": 2,
   "metadata": {},
   "outputs": [
    {
     "data": {
      "text/plain": [
       "6"
      ]
     },
     "execution_count": 2,
     "metadata": {},
     "output_type": "execute_result"
    }
   ],
   "source": [
    "tmp=[1,2,3]\n",
    "sum(tmp)"
   ]
  },
  {
   "cell_type": "code",
   "execution_count": null,
   "metadata": {},
   "outputs": [],
   "source": []
  }
 ],
 "metadata": {
  "kernelspec": {
   "display_name": "Python 3",
   "language": "python",
   "name": "python3"
  },
  "language_info": {
   "codemirror_mode": {
    "name": "ipython",
    "version": 3
   },
   "file_extension": ".py",
   "mimetype": "text/x-python",
   "name": "python",
   "nbconvert_exporter": "python",
   "pygments_lexer": "ipython3",
   "version": "3.7.4"
  }
 },
 "nbformat": 4,
 "nbformat_minor": 2
}
