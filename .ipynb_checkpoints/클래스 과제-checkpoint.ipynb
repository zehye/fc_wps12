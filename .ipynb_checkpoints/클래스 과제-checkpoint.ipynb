{
 "cells": [
  {
   "cell_type": "code",
   "execution_count": 413,
   "metadata": {},
   "outputs": [],
   "source": [
    "class Pokemon:\n",
    "    POKEMON_LIST = []\n",
    "    \n",
    "    def __init__(self, name, type):\n",
    "        self.friends = []\n",
    "        self.name = name\n",
    "        self.type = type\n",
    "        self.__level = 1\n",
    "        Pokemon.POKEMON_LIST.append(self)\n",
    "        \n",
    "    @property\n",
    "    def level(self):\n",
    "        return self.__level\n",
    "    \n",
    "    def level_up(self):\n",
    "        pass\n",
    "        \n",
    "    def add_friend(self, pokemon):\n",
    "        # self.friends에 pokemon에 해당하는 Pokemon인스턴스를 추가\n",
    "        self.friends.append(pokemon)\n",
    "        \n",
    "    def show_friends(self):\n",
    "        for friend in self.friends:\n",
    "            print(friend.name)\n",
    "        \n",
    "    @classmethod\n",
    "    def show_total_pokemon(cls):\n",
    "        # 클래스 변수를 사용하여, 아래 출력예시대로 작성\n",
    "#         print(cls.POKEMON_LIST)\n",
    "        for total_friends in cls.POKEMON_LIST:\n",
    "            print(total_friends.name )"
   ]
  },
  {
   "cell_type": "code",
   "execution_count": 414,
   "metadata": {},
   "outputs": [],
   "source": [
    "# Pokemon.show_total_pokemon()\n",
    "# > 포켓몬이 없습니다...\n",
    "\n",
    "# pikachu = Pokemon(name='피카츄', type='전기')\n",
    "# pikachu.level\n",
    "# > 1\n",
    "\n",
    "# pikachu.level_up()\n",
    "# pikachu.level\n",
    "# > 2\n",
    "\n",
    "# butterfree = Pokemon(name='버터플', type='벌레')\n",
    "# starmie = Pokemon(name='아쿠스타', type='물')\n",
    "# eevee = Pokemon(name='이브이', type='노멀')\n",
    "# pikachu.show_friends()\n",
    "# > 피카츄에게는 친구가 없습니다....\n",
    "\n",
    "# pikachu.add_friend(butterfree)\n",
    "# pikachu.add_friend(starmie)\n",
    "# pikachu.show_friends()\n",
    "# > 피카츄의 친구들: 버터플, 아쿠스타 (2마리)\n",
    "\n",
    "# Pokemon.show_total_pokemon()\n",
    "# > 전체 포켓몬: 피카츄, 버터플, 아쿠스타, 이브이(4마리)"
   ]
  },
  {
   "cell_type": "code",
   "execution_count": 415,
   "metadata": {},
   "outputs": [
    {
     "data": {
      "text/plain": [
       "1"
      ]
     },
     "execution_count": 415,
     "metadata": {},
     "output_type": "execute_result"
    }
   ],
   "source": [
    "pikachu = Pokemon(name='피카츄', type='전기')\n",
    "pikachu.level"
   ]
  },
  {
   "cell_type": "code",
   "execution_count": 416,
   "metadata": {
    "scrolled": true
   },
   "outputs": [
    {
     "data": {
      "text/plain": [
       "1"
      ]
     },
     "execution_count": 416,
     "metadata": {},
     "output_type": "execute_result"
    }
   ],
   "source": [
    "pikachu.level_up()\n",
    "pikachu.level"
   ]
  },
  {
   "cell_type": "code",
   "execution_count": 417,
   "metadata": {},
   "outputs": [],
   "source": [
    "pikachu.show_friends()"
   ]
  },
  {
   "cell_type": "code",
   "execution_count": 418,
   "metadata": {},
   "outputs": [],
   "source": [
    "butterfree = Pokemon(name='버터플', type='벌레')\n",
    "starmie = Pokemon(name='아쿠스타', type='물')\n",
    "eevee = Pokemon(name='이브이', type='노멀')"
   ]
  },
  {
   "cell_type": "code",
   "execution_count": 419,
   "metadata": {},
   "outputs": [],
   "source": [
    "pikachu.add_friend(butterfree)\n",
    "pikachu.add_friend(starmie)"
   ]
  },
  {
   "cell_type": "code",
   "execution_count": 420,
   "metadata": {},
   "outputs": [
    {
     "name": "stdout",
     "output_type": "stream",
     "text": [
      "버터플\n",
      "아쿠스타\n"
     ]
    }
   ],
   "source": [
    "pikachu.show_friends()"
   ]
  },
  {
   "cell_type": "code",
   "execution_count": 421,
   "metadata": {},
   "outputs": [],
   "source": [
    "butterfree.show_friends()"
   ]
  },
  {
   "cell_type": "code",
   "execution_count": 422,
   "metadata": {},
   "outputs": [
    {
     "name": "stdout",
     "output_type": "stream",
     "text": [
      "피카츄\n",
      "버터플\n",
      "아쿠스타\n",
      "이브이\n"
     ]
    }
   ],
   "source": [
    "Pokemon.show_total_pokemon()"
   ]
  },
  {
   "cell_type": "code",
   "execution_count": 362,
   "metadata": {},
   "outputs": [],
   "source": [
    "class Rectangle:\n",
    "    count = 0  # 클래스 변수\n",
    " \n",
    "    def __init__(self, width, height):\n",
    "        self.width = width\n",
    "        self.height = height\n",
    "        Rectangle.count += 1\n",
    " \n",
    "    # 인스턴스 메서드\n",
    "    def calcArea(self):\n",
    "        area = self.width * self.height\n",
    "        print(area)\n",
    "        return area\n",
    " \n",
    "    # 정적 메서드\n",
    "    @staticmethod\n",
    "    def isSquare(rectWidth, rectHeight):\n",
    "        return rectWidth == rectHeight   \n",
    " \n",
    "    # 클래스 메서드\n",
    "    @classmethod\n",
    "    def printCount(cls):\n",
    "        print(cls.count)"
   ]
  },
  {
   "cell_type": "code",
   "execution_count": 127,
   "metadata": {},
   "outputs": [
    {
     "name": "stdout",
     "output_type": "stream",
     "text": [
      "True\n",
      "<__main__.Rectangle object at 0x111cab290>\n",
      "25\n",
      "2\n"
     ]
    }
   ],
   "source": [
    "square = Rectangle.isSquare(5, 5)        \n",
    "print(square)   # True        \n",
    " \n",
    "rect1 = Rectangle(5, 5)\n",
    "print(rect1)\n",
    "rect1.calcArea()\n",
    "rect2 = Rectangle(2, 5)\n",
    "rect1.printCount()  # 2"
   ]
  },
  {
   "cell_type": "code",
   "execution_count": 137,
   "metadata": {},
   "outputs": [],
   "source": [
    "class Pokemon:\n",
    "    POKEMON_LIST = []\n",
    "    \n",
    "    def __init__(self, name, type):\n",
    "        self.friends = []\n",
    "        self.name = name\n",
    "        self.type = type\n",
    "        self.__level = 1\n",
    "        Pokemon.POKEMON_LIST.append(self)\n",
    "        \n",
    "    @property\n",
    "    def level(self):\n",
    "        return self.__level\n",
    "    \n",
    "    def level_up(self, new_level):\n",
    "        # private속성값을 변경\n",
    "        pass\n",
    "        \n",
    "    def add_friend(self, pokemon):\n",
    "        # self.friends에 pokemon에 해당하는 Pokemon인스턴스를 추가\n",
    "        pass\n",
    "        \n",
    "    def show_friends(self):\n",
    "        # 아래 출력예시를 보고 작성\n",
    "        pass\n",
    "            \n",
    "    @classmethod\n",
    "    def show_total_pokemon(cls):\n",
    "        # 클래스 변수를 사용하여, 아래 출력예시대로 작성\n",
    "        pass"
   ]
  },
  {
   "cell_type": "code",
   "execution_count": null,
   "metadata": {},
   "outputs": [],
   "source": [
    "class Pokemon:\n",
    "    POKEMON_LIST = []\n",
    "    \n",
    "    def __init__(self, name, type):\n",
    "        self.friends = []\n",
    "        self.name = name\n",
    "        self.type = type\n",
    "        self._level = 1\n",
    "        Pokemon.POKEMON_LIST.append(self)\n",
    "        \n",
    "    def add_friend(self, pokemon):\n",
    "        # self.friends에 pokemon에 해당하는 Pokemon인스턴스를 추가\n",
    "        self.friends.append(pokemon)\n",
    "        \n",
    "    def show_friends(self):\n",
    "        # 아래 출력예시를 보고 작성\n",
    "        print(f'피카츄의 친구들: {self.friends}, {len(self.friends)}마리')"
   ]
  }
 ],
 "metadata": {
  "kernelspec": {
   "display_name": "Python 3",
   "language": "python",
   "name": "python3"
  },
  "language_info": {
   "codemirror_mode": {
    "name": "ipython",
    "version": 3
   },
   "file_extension": ".py",
   "mimetype": "text/x-python",
   "name": "python",
   "nbconvert_exporter": "python",
   "pygments_lexer": "ipython3",
   "version": "3.7.4"
  }
 },
 "nbformat": 4,
 "nbformat_minor": 2
}
