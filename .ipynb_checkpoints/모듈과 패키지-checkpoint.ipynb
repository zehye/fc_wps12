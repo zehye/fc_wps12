{
 "cells": [
  {
   "cell_type": "markdown",
   "metadata": {},
   "source": [
    "# shop, game, lol 실습"
   ]
  },
  {
   "cell_type": "code",
   "execution_count": 1,
   "metadata": {},
   "outputs": [
    {
     "name": "stdout",
     "output_type": "stream",
     "text": [
      "Play game!\n",
      "game.__name__: __main__\n"
     ]
    }
   ],
   "source": [
    "def play_game():\n",
    "    print('Play game!')\n",
    "\n",
    "\n",
    "play_game()\n",
    "print('game.__name__:', __name__)\n"
   ]
  },
  {
   "cell_type": "code",
   "execution_count": 2,
   "metadata": {},
   "outputs": [
    {
     "name": "stdout",
     "output_type": "stream",
     "text": [
      "Buy item!\n",
      "shop.__name__: __main__\n"
     ]
    }
   ],
   "source": [
    "def buy_item():\n",
    "    print('Buy item!')\n",
    "\n",
    "\n",
    "buy_item()\n",
    "print('shop.__name__:', __name__)\n"
   ]
  },
  {
   "cell_type": "code",
   "execution_count": null,
   "metadata": {},
   "outputs": [],
   "source": [
    "import game\n",
    "import shop\n",
    "\n",
    "\n",
    "print('= Turn on game =')\n",
    "game.play_game()\n",
    "shop.buy_item()\n",
    "print('lol.__name__:', __name__)"
   ]
  },
  {
   "cell_type": "code",
   "execution_count": null,
   "metadata": {},
   "outputs": [],
   "source": [
    "Play game!\n",
    "game.__name__: game\n",
    "Buy item!\n",
    "shop.__name__: shop\n",
    "= Turn on game =\n",
    "Play game!\n",
    "Buy item!\n",
    "lol.__name__: __main__"
   ]
  },
  {
   "cell_type": "code",
   "execution_count": 6,
   "metadata": {},
   "outputs": [],
   "source": [
    "# 파이선 인터프리터로 직접 실행한 네임은 \n",
    "# 파이썬 인터프리터로 직접 실행했는지를 보는것은 네임이 메인인지를 확인하는것\n",
    "\n",
    "# 만약 네임이 메인이라면\n",
    "# 그때만 해당 함수를 실행하라는것"
   ]
  },
  {
   "cell_type": "code",
   "execution_count": 7,
   "metadata": {},
   "outputs": [],
   "source": [
    "while False:\n",
    "    print('he')"
   ]
  },
  {
   "cell_type": "code",
   "execution_count": 10,
   "metadata": {},
   "outputs": [],
   "source": [
    "# as: 불러온 속성을 정해놓은 속성으로 부를 수 있음\n",
    "# import 해서 가져온거랑 from 해서 가져온거랑은 별개로 다룸\n",
    "# import 하는 방식은 여러가지인것!"
   ]
  },
  {
   "cell_type": "code",
   "execution_count": 1,
   "metadata": {},
   "outputs": [],
   "source": [
    "# 패키지를 모듈처럼 사용하고 싶을떄, 그리고 그 모듈을 사용하고 싶을때 __init__.py 를 사용"
   ]
  },
  {
   "cell_type": "code",
   "execution_count": 2,
   "metadata": {},
   "outputs": [],
   "source": [
    "# 패키지는 없어도 프로그램은 다 돌아가지만, 패키지를 사용하는 이유는 관리의 목적\n",
    "# 패키지 자체를 모듈로 사용할떄 쓴다로만 생각하면 된다.\n",
    "# 패키지를 사용하면 하위 모듈들을 가져와 쓸수가 있는데\n",
    "# 이 추가된 속성을 만들고 싶다면 init.py에 만들어주면 된다."
   ]
  },
  {
   "cell_type": "code",
   "execution_count": null,
   "metadata": {},
   "outputs": [],
   "source": []
  }
 ],
 "metadata": {
  "kernelspec": {
   "display_name": "Python 3",
   "language": "python",
   "name": "python3"
  },
  "language_info": {
   "codemirror_mode": {
    "name": "ipython",
    "version": 3
   },
   "file_extension": ".py",
   "mimetype": "text/x-python",
   "name": "python",
   "nbconvert_exporter": "python",
   "pygments_lexer": "ipython3",
   "version": "3.7.4"
  }
 },
 "nbformat": 4,
 "nbformat_minor": 2
}
