{
 "cells": [
  {
   "cell_type": "code",
   "execution_count": 10,
   "metadata": {},
   "outputs": [],
   "source": [
    "class Shop:\n",
    "    def __init__(self, name, shop_type, address):\n",
    "        self.name = name\n",
    "        self.shop_type = shop_type\n",
    "        self.address = address\n",
    "    \n",
    "    @property\n",
    "    def shop_type(self):\n",
    "        return self.__shop_type\n",
    "    \n",
    "    @shop_type.setter\n",
    "    def shop_type(self, new_type):\n",
    "        if not new_type in ('편의점', '레스토랑'):\n",
    "            raise TypeError('편의점, 레스토랑이 아닙니다')\n",
    "        self.__shop_type = new_type"
   ]
  },
  {
   "cell_type": "code",
   "execution_count": 11,
   "metadata": {},
   "outputs": [],
   "source": [
    "# class Restaurant:\n",
    "#     def __init__(self, name, shop_type, address, rating):\n",
    "#         self.name = name \n",
    "#         self.shop_type = shop_type\n",
    "#         self.address = address\n",
    "#         self.rating = rating"
   ]
  },
  {
   "cell_type": "code",
   "execution_count": 12,
   "metadata": {},
   "outputs": [],
   "source": [
    "class Restaurant(Shop):\n",
    "    pass"
   ]
  },
  {
   "cell_type": "code",
   "execution_count": 13,
   "metadata": {},
   "outputs": [],
   "source": [
    "cu = Shop('씨유', '편의점', '뚝섬역')"
   ]
  },
  {
   "cell_type": "code",
   "execution_count": 15,
   "metadata": {},
   "outputs": [],
   "source": [
    "subway = Restaurant('서브웨이', '레스토랑', '성수역')"
   ]
  },
  {
   "cell_type": "code",
   "execution_count": 16,
   "metadata": {},
   "outputs": [
    {
     "data": {
      "text/plain": [
       "<__main__.Shop at 0x111162410>"
      ]
     },
     "execution_count": 16,
     "metadata": {},
     "output_type": "execute_result"
    }
   ],
   "source": [
    "cu"
   ]
  },
  {
   "cell_type": "code",
   "execution_count": 17,
   "metadata": {},
   "outputs": [
    {
     "data": {
      "text/plain": [
       "<__main__.Restaurant at 0x111162150>"
      ]
     },
     "execution_count": 17,
     "metadata": {},
     "output_type": "execute_result"
    }
   ],
   "source": [
    "subway"
   ]
  },
  {
   "cell_type": "code",
   "execution_count": 18,
   "metadata": {},
   "outputs": [],
   "source": [
    "# 상속을 받았다 > 부모가 가진 모든 기능들을 다 사용할 수 있어!"
   ]
  },
  {
   "cell_type": "code",
   "execution_count": 118,
   "metadata": {},
   "outputs": [],
   "source": [
    "class Shop:\n",
    "    def __init__(self, name, shop_type, address):\n",
    "        self.name = name\n",
    "        self._shop_type = shop_type\n",
    "        self.address = address\n",
    "    \n",
    "    @property\n",
    "    def shop_type(self):\n",
    "        return self._shop_type\n",
    "    \n",
    "    @shop_type.setter\n",
    "    def shop_type(self, new_type):\n",
    "        if not new_type in ('편의점', '레스토랑'):\n",
    "            raise TypeError('편의점, 레스토랑이 아닙니다')\n",
    "        self.__shop_type = new_type\n",
    "        \n",
    "    def get_info(self):\n",
    "        return (f'{self.name}\\n'\n",
    "              f' 유형: {self._shop_type}\\n'\n",
    "              f' 주소: {self.address}')\n",
    "    \n",
    "    def show_info(self):\n",
    "        print (self.get_info())\n",
    "        \n",
    "        \n",
    "class Restaurant(Shop):\n",
    "    def __init__(self, name, address, rating):\n",
    "        self.name = name\n",
    "        self._shop_type = '레스토랑'\n",
    "        self.address = address\n",
    "        self.rating = rating\n",
    "        \n",
    "    def get_info(self):\n",
    "        print( super().get_info(),'\\n', f'평점: {self.rating}')\n",
    "    "
   ]
  },
  {
   "cell_type": "code",
   "execution_count": 119,
   "metadata": {},
   "outputs": [
    {
     "name": "stdout",
     "output_type": "stream",
     "text": [
      "씨유\n",
      " 유형: 편의점\n",
      " 주소: 뚝섬역\n"
     ]
    }
   ],
   "source": [
    "cu = Shop('씨유', '편의점', '뚝섬역')\n",
    "cu.show_info()"
   ]
  },
  {
   "cell_type": "code",
   "execution_count": 120,
   "metadata": {
    "scrolled": true
   },
   "outputs": [],
   "source": [
    "subway = Restaurant('서브웨이', '성수역', 5)"
   ]
  },
  {
   "cell_type": "code",
   "execution_count": 121,
   "metadata": {},
   "outputs": [
    {
     "name": "stdout",
     "output_type": "stream",
     "text": [
      "서브웨이\n",
      " 유형: 레스토랑\n",
      " 주소: 성수역 \n",
      " 평점: 5\n"
     ]
    }
   ],
   "source": [
    "subway.get_info()"
   ]
  },
  {
   "cell_type": "markdown",
   "metadata": {},
   "source": [
    "# 스태틱메서드"
   ]
  },
  {
   "cell_type": "markdown",
   "metadata": {},
   "source": [
    "### 클래스, 인스턴스 속성에 접근할 필요가 없을떄 그 속성을 가지고 있을떄 사용"
   ]
  },
  {
   "cell_type": "code",
   "execution_count": 156,
   "metadata": {},
   "outputs": [],
   "source": [
    "# 각 클래스는 생성자를 하나만 가질 수 있는데,\n",
    "# 그 생성자로 리턴하는 값은 고정되어잇음\n",
    "# 근데 정적매서드는 조금 특이한 애들을 만들 수 있음\n",
    "\n",
    "# 외부에 만들어놓은 함수랑 똑같은 역할을 한다고 보면 됨\n",
    "# 클래스는 항상 객체\n",
    "# 데코레이터가 없어도 여전히 실행은 가능하지만\n",
    "# pikachu.electric()은 안됨\n",
    "\n",
    "# 클래스 안에서 관리되게 하고싶냐 아니냐의 차이"
   ]
  },
  {
   "cell_type": "code",
   "execution_count": 160,
   "metadata": {},
   "outputs": [],
   "source": [
    "import random\n",
    "class Pokemon:\n",
    "    def __init__(self, name, type):\n",
    "        self.name = name\n",
    "        self.type = type\n",
    "        \n",
    "    def __repr__(self):\n",
    "        # repr을 정의하면 객체자체를 출력할떄 우리가 만든 값이 나오게 된다\n",
    "        return f'{self.name} ({self.type})'\n",
    "    \n",
    "    @staticmethod\n",
    "    def electric():\n",
    "        pokemons = ('피카츄', '라이츄', '붐볼')\n",
    "        selected_pokemon = random.choice(pokemons)\n",
    "        return Pokemon(selected_pokemon, '전기')"
   ]
  },
  {
   "cell_type": "code",
   "execution_count": 161,
   "metadata": {},
   "outputs": [
    {
     "data": {
      "text/plain": [
       "피카츄 (전기타입)"
      ]
     },
     "execution_count": 161,
     "metadata": {},
     "output_type": "execute_result"
    }
   ],
   "source": [
    "pikachu = Pokemon('피카츄', '전기타입')\n",
    "pikachu"
   ]
  },
  {
   "cell_type": "code",
   "execution_count": 162,
   "metadata": {},
   "outputs": [
    {
     "data": {
      "text/plain": [
       "붐볼 (전기)"
      ]
     },
     "execution_count": 162,
     "metadata": {},
     "output_type": "execute_result"
    }
   ],
   "source": [
    "Pokemon.electric()"
   ]
  },
  {
   "cell_type": "code",
   "execution_count": 163,
   "metadata": {},
   "outputs": [],
   "source": [
    "# 클래스 메서드\n",
    "# 호출 주체가 cls 임(클래스 그 객체 자체)\n",
    "# 그 틀 자체가 오는것\n",
    "# 클래스메서드도 인스턴스 메서드에서 호출이 가능함"
   ]
  },
  {
   "cell_type": "code",
   "execution_count": 312,
   "metadata": {},
   "outputs": [],
   "source": [
    "class Shop:\n",
    "    shop_list = []\n",
    "    \n",
    "    def __init__(self, name):\n",
    "        self.name = name\n",
    "        Shop.shop_list.append(self)\n",
    "    \n",
    "    @classmethod\n",
    "    def shop_count(cls):\n",
    "        return len(cls.shop_list)\n",
    "        \n",
    "    def __repr__(self):\n",
    "        return self.name\n",
    "    @classmethod\n",
    "    def show_info(cls):\n",
    "        result = '상점: {shop_list} // 총 {shop_count}개'.format(\n",
    "        shop_list= ', '.join([shop.name for shop in cls.shop_list]),\n",
    "        shop_count=len(cls.shop_list))\n",
    "        print(result)\n",
    "        "
   ]
  },
  {
   "cell_type": "code",
   "execution_count": 313,
   "metadata": {},
   "outputs": [],
   "source": [
    "cu = Shop('CU')\n",
    "paik = Shop('뻭다방')"
   ]
  },
  {
   "cell_type": "code",
   "execution_count": 314,
   "metadata": {},
   "outputs": [
    {
     "name": "stdout",
     "output_type": "stream",
     "text": [
      "상점: CU, 뻭다방 // 총 2개\n"
     ]
    }
   ],
   "source": [
    "Shop.show_info()"
   ]
  },
  {
   "cell_type": "code",
   "execution_count": 315,
   "metadata": {},
   "outputs": [
    {
     "data": {
      "text/plain": [
       "2"
      ]
     },
     "execution_count": 315,
     "metadata": {},
     "output_type": "execute_result"
    }
   ],
   "source": [
    "Shop.shop_count()"
   ]
  },
  {
   "cell_type": "code",
   "execution_count": 311,
   "metadata": {},
   "outputs": [
    {
     "name": "stdout",
     "output_type": "stream",
     "text": [
      "CU, 뻭다방\n"
     ]
    }
   ],
   "source": [
    "result = ''\n",
    "for shop in Shop.shop_list:\n",
    "    result += shop.name\n",
    "    result += ', '\n",
    "\n",
    "result = result[:-2]\n",
    "print(result)"
   ]
  },
  {
   "cell_type": "code",
   "execution_count": 283,
   "metadata": {},
   "outputs": [],
   "source": [
    "# str, join()과 list comprehension을 적절히 사용해 'CU, 서브웨이, 빽다방' 문자열을 생성"
   ]
  },
  {
   "cell_type": "code",
   "execution_count": 286,
   "metadata": {},
   "outputs": [
    {
     "name": "stdout",
     "output_type": "stream",
     "text": [
      "['CU', '뻭다방']\n"
     ]
    }
   ],
   "source": [
    "result_list = [shop.name for shop in Shop.shop_list]\n",
    "print(result_list)"
   ]
  },
  {
   "cell_type": "code",
   "execution_count": 287,
   "metadata": {},
   "outputs": [
    {
     "data": {
      "text/plain": [
       "'CU, 뻭다방'"
      ]
     },
     "execution_count": 287,
     "metadata": {},
     "output_type": "execute_result"
    }
   ],
   "source": [
    "', '.join(result_list)"
   ]
  },
  {
   "cell_type": "code",
   "execution_count": 288,
   "metadata": {},
   "outputs": [
    {
     "data": {
      "text/plain": [
       "'CU, 뻭다방'"
      ]
     },
     "execution_count": 288,
     "metadata": {},
     "output_type": "execute_result"
    }
   ],
   "source": [
    "', '.join([shop.name for shop in Shop.shop_list])"
   ]
  },
  {
   "cell_type": "markdown",
   "metadata": {},
   "source": [
    "# 클래스메서드 예시"
   ]
  },
  {
   "cell_type": "code",
   "execution_count": 225,
   "metadata": {},
   "outputs": [],
   "source": [
    "class Shop:\n",
    "    description = 'shop list!!!'\n",
    "    shop_list = []\n",
    "    \n",
    "    def __init__(self, name):\n",
    "        self.name = name\n",
    "    \n",
    "    @classmethod\n",
    "    def sample(cls):\n",
    "        print(cls.description)"
   ]
  },
  {
   "cell_type": "code",
   "execution_count": 224,
   "metadata": {},
   "outputs": [
    {
     "name": "stdout",
     "output_type": "stream",
     "text": [
      "shop list!!!\n"
     ]
    }
   ],
   "source": [
    "Shop.sample()"
   ]
  },
  {
   "cell_type": "markdown",
   "metadata": {},
   "source": [
    "# 다형성 동적 바인딩"
   ]
  },
  {
   "cell_type": "markdown",
   "metadata": {},
   "source": [
    "# 다형성"
   ]
  },
  {
   "cell_type": "code",
   "execution_count": 320,
   "metadata": {},
   "outputs": [],
   "source": [
    "# 동적 타이핑 언어가 아니어도 동작함\n",
    "# 하나의 코드가 여러가지 역할을 하는것\n",
    "# 함수같은것 봐도 함수가 하나마 하는게 아니라 여러가지 일을 하는것\n",
    "# str이라는 내장함수가 이 함수는 여러가지 일을 할 수 있음 "
   ]
  },
  {
   "cell_type": "code",
   "execution_count": 321,
   "metadata": {},
   "outputs": [
    {
     "data": {
      "text/plain": [
       "\"['adasd', 'asdasd']\""
      ]
     },
     "execution_count": 321,
     "metadata": {},
     "output_type": "execute_result"
    }
   ],
   "source": [
    "str(['adasd', 'asdasd'])"
   ]
  },
  {
   "cell_type": "code",
   "execution_count": 322,
   "metadata": {},
   "outputs": [],
   "source": [
    "# 리스트 형태를 지닌 문자열\n",
    "# 이렇게 다형성을 가진 코드를 만드는것\n",
    "# 여러가지 일을 할 수 있다"
   ]
  },
  {
   "cell_type": "markdown",
   "metadata": {},
   "source": [
    "# 동적 타이핑"
   ]
  },
  {
   "cell_type": "code",
   "execution_count": 325,
   "metadata": {},
   "outputs": [],
   "source": [
    "# 타입을 신경쓰지 않고(객체의 형태를 신경쓰지 않고) 사용할 수 있도록 해줌\n",
    "# 정적은 이미 뭐가 올지 정해져있어\n",
    "# 그리고 그게 오지않으면 에러가 뜸\n",
    "\n",
    "# 뭐가 들어오든 상관없이 이루어짐\n",
    "# 특정 타입이 정해져있지 않는것"
   ]
  },
  {
   "cell_type": "code",
   "execution_count": 331,
   "metadata": {},
   "outputs": [],
   "source": [
    "def square(value):\n",
    "    if isinstance(value, str):\n",
    "        value = int(value)\n",
    "    return value **2"
   ]
  },
  {
   "cell_type": "code",
   "execution_count": 332,
   "metadata": {},
   "outputs": [
    {
     "data": {
      "text/plain": [
       "16"
      ]
     },
     "execution_count": 332,
     "metadata": {},
     "output_type": "execute_result"
    }
   ],
   "source": [
    "square('4')"
   ]
  },
  {
   "cell_type": "markdown",
   "metadata": {},
   "source": [
    "# 덕 타이핑"
   ]
  },
  {
   "cell_type": "code",
   "execution_count": 340,
   "metadata": {},
   "outputs": [],
   "source": [
    "class Dog:\n",
    "    def __init__(self, name):\n",
    "        self.name = name\n",
    "    \n",
    "    def bark(self):\n",
    "        print('멍멍')\n",
    "        \n",
    "\n",
    "class Cat:\n",
    "    def __init__(self, name):\n",
    "        self.name = name\n",
    "        \n",
    "    def bark(self):\n",
    "        print('야옹')"
   ]
  },
  {
   "cell_type": "code",
   "execution_count": 341,
   "metadata": {},
   "outputs": [],
   "source": [
    "def animal_sound(animal):\n",
    "    animal.bark()"
   ]
  },
  {
   "cell_type": "code",
   "execution_count": 342,
   "metadata": {},
   "outputs": [],
   "source": [
    "dog = Dog('동구')"
   ]
  },
  {
   "cell_type": "code",
   "execution_count": 343,
   "metadata": {},
   "outputs": [],
   "source": [
    "cat = Cat('라오')"
   ]
  },
  {
   "cell_type": "code",
   "execution_count": 346,
   "metadata": {},
   "outputs": [
    {
     "name": "stdout",
     "output_type": "stream",
     "text": [
      "멍멍\n"
     ]
    }
   ],
   "source": [
    "animal_sound(dog)"
   ]
  },
  {
   "cell_type": "code",
   "execution_count": 347,
   "metadata": {},
   "outputs": [
    {
     "name": "stdout",
     "output_type": "stream",
     "text": [
      "야옹\n"
     ]
    }
   ],
   "source": [
    "animal_sound(cat)"
   ]
  },
  {
   "cell_type": "code",
   "execution_count": 349,
   "metadata": {},
   "outputs": [],
   "source": [
    "# animal 이 뭔지는 전혀몰라\n",
    "# bark가 있으면 동물이겠구나 그 클래스를 사용했겠구나 \n",
    "# 동적으로 속성을 바인딩한다.\n",
    "# 실행시간에 검사를 한다."
   ]
  },
  {
   "cell_type": "code",
   "execution_count": 391,
   "metadata": {},
   "outputs": [],
   "source": [
    "class User:\n",
    "    def __init__(self, name):\n",
    "        self.name = name\n",
    "        self.power = 0\n",
    "        self.armor = 0\n",
    "     \n",
    "    def equip(self, item):\n",
    "        if hasattr(item, 'power'):\n",
    "            self.power += item.power\n",
    "        if hasattr(item, 'armor'):\n",
    "            self.armor += item.armor\n",
    "        \n",
    "    \n",
    "    def show_info(self):\n",
    "        print(f'{self.name}\\n'\n",
    "             f'{self.power}\\n'\n",
    "             f'{self.armor}')\n",
    "    \n",
    "\n",
    "class Sword:\n",
    "    def __init__(self, power):\n",
    "        self.power = power\n",
    "#         self.armor = 0\n",
    "        \n",
    "\n",
    "class Shield:\n",
    "    def __init__(self, armor):\n",
    "#         self.power = 0\n",
    "        self.armor = armor"
   ]
  },
  {
   "cell_type": "code",
   "execution_count": 392,
   "metadata": {},
   "outputs": [],
   "source": [
    "user = User('pjh')\n",
    "sword1 = Sword(10)\n",
    "shield1 = Shield(20)"
   ]
  },
  {
   "cell_type": "code",
   "execution_count": 393,
   "metadata": {},
   "outputs": [
    {
     "name": "stdout",
     "output_type": "stream",
     "text": [
      "pjh\n",
      "10\n",
      "0\n"
     ]
    }
   ],
   "source": [
    "user.equip(sword1)\n",
    "user.show_info()"
   ]
  },
  {
   "cell_type": "code",
   "execution_count": 394,
   "metadata": {},
   "outputs": [
    {
     "name": "stdout",
     "output_type": "stream",
     "text": [
      "pjh\n",
      "10\n",
      "20\n"
     ]
    }
   ],
   "source": [
    "user.equip(shield1)\n",
    "user.show_info()"
   ]
  },
  {
   "cell_type": "code",
   "execution_count": 395,
   "metadata": {},
   "outputs": [],
   "source": [
    "# 정확히 뭐가 올지는 모르지만 일단 power, armor를 쓰면 얘를 쓰는거겠지 하고 쓰는것 \n",
    "# 그게 덕타이핑임!"
   ]
  },
  {
   "cell_type": "code",
   "execution_count": 396,
   "metadata": {},
   "outputs": [],
   "source": [
    "# 이 클래스 객체는 독립된 객체로서 역할을 한다 > 객체지향\n",
    "# 객체가 각각 독립적으로 알아서 일하게 만드는것\n",
    "# 전체적인 흐름에서 코드를 유지보수하는게 편함\n",
    "# 절차지향은 처음부터 끝까지 프로그램을 다 관리해야함"
   ]
  },
  {
   "cell_type": "code",
   "execution_count": null,
   "metadata": {},
   "outputs": [],
   "source": []
  },
  {
   "cell_type": "code",
   "execution_count": null,
   "metadata": {},
   "outputs": [],
   "source": []
  }
 ],
 "metadata": {
  "kernelspec": {
   "display_name": "Python 3",
   "language": "python",
   "name": "python3"
  },
  "language_info": {
   "codemirror_mode": {
    "name": "ipython",
    "version": 3
   },
   "file_extension": ".py",
   "mimetype": "text/x-python",
   "name": "python",
   "nbconvert_exporter": "python",
   "pygments_lexer": "ipython3",
   "version": "3.7.4"
  }
 },
 "nbformat": 4,
 "nbformat_minor": 2
}
