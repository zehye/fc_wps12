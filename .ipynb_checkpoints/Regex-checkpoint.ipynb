{
 "cells": [
  {
   "cell_type": "code",
   "execution_count": 2,
   "metadata": {},
   "outputs": [],
   "source": [
    "import re"
   ]
  },
  {
   "cell_type": "code",
   "execution_count": 3,
   "metadata": {},
   "outputs": [],
   "source": [
    "story = '''\n",
    "Born to the prestigious Crownguards, the paragon family of Demacian service, \n",
    "Luxanna was destined for greatness. She grew up as the family's only daughter, \n",
    "and she immediately took to the advanced education and lavish parties \n",
    "required of families as high profile as the Crownguards. \n",
    "As Lux matured, it became clear that she was extraordinarily gifted. \n",
    "She could play tricks that made people believe they had seen things \n",
    "that did not actually exist. She could also hide in plain sight. Somehow, \n",
    "she was able to reverse engineer arcane magical spells after seeing them cast only once. \n",
    "She was hailed as a prodigy, drawing the affections of the Demacian government, military, and citizens alike.\n",
    "\n",
    "As one of the youngest women to be tested by the College of Magic, \n",
    "she was discovered to possess a unique command over the powers of light. \n",
    "The young Lux viewed this as a great gift, something for her to embrace and use in the name of good. \n",
    "Realizing her unique skills, the Demacian military recruited and trained her in covert operations. \n",
    "She quickly became renowned for her daring achievements; \n",
    "the most dangerous of which found her deep in the chambers of the Noxian High Command. \n",
    "She extracted valuable inside information about the Noxus-Ionian conflict, \n",
    "earning her great favor with Demacians and Ionians alike. However, reconnaissance and surveillance was not for her. \n",
    "A light of her people, Lux's true calling was the League of Legends, \n",
    "where she could follow in her brother's footsteps and unleash her gifts as an inspiration for all of Demacia.\n",
    "'''"
   ]
  },
  {
   "cell_type": "code",
   "execution_count": 4,
   "metadata": {},
   "outputs": [
    {
     "data": {
      "text/plain": [
       "['was', 'was', 'was', 'was', 'was', 'was', 'was']"
      ]
     },
     "execution_count": 4,
     "metadata": {},
     "output_type": "execute_result"
    }
   ],
   "source": [
    "re.findall('Lux', story)\n",
    "re.findall('Lux|her|she', story)\n",
    "re.findall('[Ll]ux|[Hh]er|[Ss]he', story)\n",
    "re.findall('^Born', story)\n",
    "re.findall('Demacia$', story)\n",
    "re.findall('was', story)\n",
    "re.findall('(?<=she) was', story)\n",
    "re.findall('\\w+(?<!she) was', story)\n",
    "re.findall('\\bwas\\b', story)\n",
    "re.findall(r'\\bwas\\b', story)"
   ]
  },
  {
   "cell_type": "code",
   "execution_count": 5,
   "metadata": {},
   "outputs": [
    {
     "data": {
      "text/plain": [
       "\"\\nBorn to the prestigious CROWNGUARDS, [the] paragon family of Demacian SERVICE, \\n[Luxanna] was destined for greatness. She grew up as the family's only DAUGHTER, \\n[and] she immediately took to the advanced education and lavish parties \\nrequired of families as high profile as the Crownguards. \\nAs Lux MATURED, [it] became clear that she was extraordinarily gifted. \\nShe could play tricks that made people believe they had seen things \\nthat did not actually exist. She could also hide in plain sight. SOMEHOW, \\n[she] was able to reverse engineer arcane magical spells after seeing them cast only once. \\nShe was hailed as a PRODIGY, [drawing] the affections of the Demacian GOVERNMENT, [military], and citizens alike.\\n\\nAs one of the youngest women to be tested by the College of MAGIC, \\n[she] was discovered to possess a unique command over the powers of light. \\nThe young Lux viewed this as a great GIFT, [something] for her to embrace and use in the name of good. \\nRealizing her unique SKILLS, [the] Demacian military recruited and trained her in covert operations. \\nShe quickly became renowned for her daring achievements; \\nthe most dangerous of which found her deep in the chambers of the Noxian High Command. \\nShe extracted valuable inside information about the Noxus-Ionian CONFLICT, \\n[earning] her great favor with Demacians and Ionians alike. HOWEVER, [reconnaissance] and surveillance was not for her. \\nA light of her PEOPLE, [Lux]'s true calling was the League of LEGENDS, \\n[where] she could follow in her brother's footsteps and unleash her gifts as an inspiration for all of Demacia.\\n\""
      ]
     },
     "execution_count": 5,
     "metadata": {},
     "output_type": "execute_result"
    }
   ],
   "source": [
    "p = re.compile(\n",
    "    r'''(?P<before>\\w+)      # 쉼표 이전의 단어\n",
    "        (?P<center>\\s*,\\s*)  # 쉼표 이전 단어와 쉼표 이후 단어 사이\n",
    "        (?P<after>\\w+)       # 쉼표 다음 단어\n",
    "    ''', re.VERBOSE)\n",
    "# re.X\n",
    "\n",
    "re.sub(p, r'\\g<before>\\g<center>[\\g<after>]', story)\n",
    "\n",
    "def replace_f(m):\n",
    "    before = m.group('before').upper()\n",
    "    center = m.group('center')\n",
    "    after = f'[{m.group(\"after\")}]'\n",
    "    after = '[{}]'.format(m.group('after'))\n",
    "    after = '[{after}]'.format(after=m.group('after'))\n",
    "\n",
    "    result = f'{before}{center}{after}'\n",
    "    return result\n",
    "\n",
    "# 람다함수로 만들기\n",
    "def replace_f(m):\n",
    "    result = f'{m.group(\"before\").upper()}{m.group(\"center\")}[{m.group(\"after\")}]'\n",
    "    return result\n",
    "\n",
    "replace_f = lambda m: f'{m.group(\"before\").upper()}{m.group(\"center\")}[{m.group(\"after\")}]'\n",
    "\n",
    "re.sub(\n",
    "    p, \n",
    "    lambda m: f'{m.group(\"before\").upper()}{m.group(\"center\")}[{m.group(\"after\")}]', \n",
    "    story,\n",
    ")"
   ]
  },
  {
   "cell_type": "code",
   "execution_count": null,
   "metadata": {},
   "outputs": [],
   "source": []
  },
  {
   "cell_type": "raw",
   "metadata": {},
   "source": []
  }
 ],
 "metadata": {
  "kernelspec": {
   "display_name": "Python 3",
   "language": "python",
   "name": "python3"
  },
  "language_info": {
   "codemirror_mode": {
    "name": "ipython",
    "version": 3
   },
   "file_extension": ".py",
   "mimetype": "text/x-python",
   "name": "python",
   "nbconvert_exporter": "python",
   "pygments_lexer": "ipython3",
   "version": "3.7.4"
  }
 },
 "nbformat": 4,
 "nbformat_minor": 2
}
