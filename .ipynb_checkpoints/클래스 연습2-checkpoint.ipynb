{
 "cells": [
  {
   "cell_type": "code",
   "execution_count": null,
   "metadata": {},
   "outputs": [],
   "source": [
    "도서 관리 프로그램\n",
    "    Library, Book, User클래스 구현\n",
    "        프로그램 시작시 도서 5권 정도를 가진 상태로 시작\n",
    "\n",
    "    Library\n",
    "        attrs\n",
    "            name: 도서관명\n",
    "            book_list: 도서 목록 (Book인스턴스의 목록)\n",
    "        methods\n",
    "            add_book\n",
    "            remove_book\n",
    "        property\n",
    "            info: 가지고 있는 도서 목록을 보기좋은 텍스트로 출력 (빌려간 도서는 출력 안해도 됨)\n",
    "\n",
    "    Book\n",
    "        attrs\n",
    "            title: 제목\n",
    "            location: 현재 자신이 어떤 Library 또는 User에게 있는지를 출력\n",
    "        property\n",
    "            is_borrowed: 대출되었는지 (location이 User인지 Library인지 확인)\n",
    "\n",
    "    User\n",
    "        attrs\n",
    "            name: 이름\n",
    "            book_list: 가지고 있는 도서 목록\n",
    "        methods\n",
    "            borrow_book(library, book_name): library로부터 book을 가져옴\n",
    "            return_book(library, book_name): library에 book을 다시 건네줌"
   ]
  },
  {
   "cell_type": "code",
   "execution_count": 102,
   "metadata": {},
   "outputs": [],
   "source": [
    "class Library:\n",
    "    \n",
    "    def __init__(self, name, book_list=None):\n",
    "        self.name = name #도서관명\n",
    "        self.book_list = [] #도서 목록 (Book인스턴스의 목록)\n",
    "    \n",
    "    def add_book(self, book):\n",
    "        # 도서관에 책을 추가\n",
    "        if book in self.book_list:\n",
    "            print(f'{book}은 {self.name}에 있습니다.')\n",
    "        else:\n",
    "            print(f'{book}은 {self.name}에 없습니다.')\n",
    "            self.book_list.append(book)\n",
    "    \n",
    "    def remove_book(self, book):\n",
    "        # 누군가 빌려가서 그 책이 도서관에 없다면 리스트에서 삭제\n",
    "        self.book_list.remove(book)\n",
    "        \n",
    "    @property\n",
    "    def info(self):\n",
    "        #가지고 있는 도서 목록을 보기좋은 텍스트로 출력 (빌려간 도서는 출력 안해도 됨)\n",
    "        print(f'{self.name}이 가지고 있는 도서목록은 다음과 같습니다. 총 {len(self.book_list)}권')\n",
    "        print(self.book_list)\n",
    "    \n",
    "    \n",
    "class Book:\n",
    "    \n",
    "    def __init__(self, title, location):\n",
    "        self.title = title #제목\n",
    "        self.location = location #현재 자신이 어떤 Library 또는 User에게 있는지를 출력\n",
    "        \n",
    "    @property\n",
    "    def is_borrowed(self):\n",
    "        # 대출되었는지 (location이 User인지 Library인지 확인)\n",
    "        if self.title in self.location:\n",
    "            print(f'{self.title}을 빌릴 수 있습니다.')\n",
    "        else:\n",
    "            print(f'현재 {self.title}은 {self.location}에 없습니다.')\n",
    "    \n",
    "    \n",
    "class User:\n",
    "    \n",
    "    def __init__(self, name, book_list):\n",
    "        self.name = name\n",
    "        self.book_list = [] #가지고 있는 도서 목록\n",
    "        \n",
    "    def borrow_book(self, library, book_name):\n",
    "        #library로부터 book을 가져옴\n",
    "        pass\n",
    "    \n",
    "    def return_book(self, library, book_name):\n",
    "        #library에 book을 다시 건네줌\n",
    "        pass"
   ]
  },
  {
   "cell_type": "code",
   "execution_count": 103,
   "metadata": {},
   "outputs": [],
   "source": [
    "namsan = Library('남산도서관')"
   ]
  },
  {
   "cell_type": "code",
   "execution_count": 104,
   "metadata": {},
   "outputs": [
    {
     "name": "stdout",
     "output_type": "stream",
     "text": [
      "신데렐라은 남산도서관에 없습니다.\n"
     ]
    }
   ],
   "source": [
    "namsan.add_book('신데렐라')"
   ]
  },
  {
   "cell_type": "code",
   "execution_count": 105,
   "metadata": {},
   "outputs": [
    {
     "name": "stdout",
     "output_type": "stream",
     "text": [
      "백설공주은 남산도서관에 없습니다.\n"
     ]
    }
   ],
   "source": [
    "namsan.add_book('백설공주')"
   ]
  },
  {
   "cell_type": "code",
   "execution_count": 106,
   "metadata": {},
   "outputs": [
    {
     "name": "stdout",
     "output_type": "stream",
     "text": [
      "인어공주은 남산도서관에 없습니다.\n"
     ]
    }
   ],
   "source": [
    "namsan.add_book('인어공주')"
   ]
  },
  {
   "cell_type": "code",
   "execution_count": 107,
   "metadata": {},
   "outputs": [
    {
     "name": "stdout",
     "output_type": "stream",
     "text": [
      "남산도서관이 가지고 있는 도서목록은 다음과 같습니다. 총 3권\n",
      "['신데렐라', '백설공주', '인어공주']\n"
     ]
    }
   ],
   "source": [
    "namsan.info"
   ]
  },
  {
   "cell_type": "code",
   "execution_count": 108,
   "metadata": {},
   "outputs": [],
   "source": [
    "namsan.remove_book('신데렐라')"
   ]
  },
  {
   "cell_type": "code",
   "execution_count": 109,
   "metadata": {},
   "outputs": [
    {
     "name": "stdout",
     "output_type": "stream",
     "text": [
      "남산도서관이 가지고 있는 도서목록은 다음과 같습니다. 총 2권\n",
      "['백설공주', '인어공주']\n"
     ]
    }
   ],
   "source": [
    "namsan.info"
   ]
  },
  {
   "cell_type": "code",
   "execution_count": 110,
   "metadata": {},
   "outputs": [],
   "source": [
    "sungsu = Library('성수도서관')"
   ]
  },
  {
   "cell_type": "code",
   "execution_count": 111,
   "metadata": {},
   "outputs": [
    {
     "name": "stdout",
     "output_type": "stream",
     "text": [
      "잭과 콩나물은 성수도서관에 없습니다.\n",
      "안네의 일기은 성수도서관에 없습니다.\n",
      "마지막 잎새은 성수도서관에 없습니다.\n"
     ]
    }
   ],
   "source": [
    "sungsu.add_book('잭과 콩나물')\n",
    "sungsu.add_book('안네의 일기')\n",
    "sungsu.add_book('마지막 잎새')"
   ]
  },
  {
   "cell_type": "code",
   "execution_count": 112,
   "metadata": {},
   "outputs": [
    {
     "name": "stdout",
     "output_type": "stream",
     "text": [
      "잭과 콩나물은 성수도서관에 있습니다.\n"
     ]
    }
   ],
   "source": [
    "sungsu.add_book('잭과 콩나물')"
   ]
  },
  {
   "cell_type": "code",
   "execution_count": 113,
   "metadata": {},
   "outputs": [
    {
     "name": "stdout",
     "output_type": "stream",
     "text": [
      "성수도서관이 가지고 있는 도서목록은 다음과 같습니다. 총 3권\n",
      "['잭과 콩나물', '안네의 일기', '마지막 잎새']\n"
     ]
    }
   ],
   "source": [
    "sungsu.info"
   ]
  },
  {
   "cell_type": "code",
   "execution_count": null,
   "metadata": {},
   "outputs": [],
   "source": []
  }
 ],
 "metadata": {
  "kernelspec": {
   "display_name": "Python 3",
   "language": "python",
   "name": "python3"
  },
  "language_info": {
   "codemirror_mode": {
    "name": "ipython",
    "version": 3
   },
   "file_extension": ".py",
   "mimetype": "text/x-python",
   "name": "python",
   "nbconvert_exporter": "python",
   "pygments_lexer": "ipython3",
   "version": "3.7.4"
  }
 },
 "nbformat": 4,
 "nbformat_minor": 2
}
