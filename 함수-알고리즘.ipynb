{
 "cells": [
  {
   "cell_type": "markdown",
   "metadata": {},
   "source": [
    "# 순차검색"
   ]
  },
  {
   "cell_type": "code",
   "execution_count": 46,
   "metadata": {},
   "outputs": [],
   "source": [
    "def sequential_search(string, key):\n",
    "    for index,char in enumerate(string):\n",
    "        if char == key:\n",
    "            return index\n",
    "    return -1"
   ]
  },
  {
   "cell_type": "code",
   "execution_count": 47,
   "metadata": {},
   "outputs": [
    {
     "data": {
      "text/plain": [
       "4"
      ]
     },
     "execution_count": 47,
     "metadata": {},
     "output_type": "execute_result"
    }
   ],
   "source": [
    "sequential_search('qwefgdfg', 'g')"
   ]
  },
  {
   "cell_type": "code",
   "execution_count": 48,
   "metadata": {},
   "outputs": [
    {
     "data": {
      "text/plain": [
       "-1"
      ]
     },
     "execution_count": 48,
     "metadata": {},
     "output_type": "execute_result"
    }
   ],
   "source": [
    "sequential_search('qwefgdfg', 'z')"
   ]
  },
  {
   "cell_type": "code",
   "execution_count": 52,
   "metadata": {},
   "outputs": [],
   "source": [
    "def sequential_search(string, key):\n",
    "    index = 0\n",
    "    for char in string:\n",
    "        if char == key:\n",
    "            break\n",
    "            # break는 무언가를 리턴해주는게 아니기 때문에\n",
    "            # index는 바깥쪽 변수로 두고\n",
    "        index += 1\n",
    "    else:\n",
    "#         return -1\n",
    "        index = -1\n",
    "    return index"
   ]
  },
  {
   "cell_type": "code",
   "execution_count": 53,
   "metadata": {},
   "outputs": [
    {
     "data": {
      "text/plain": [
       "7"
      ]
     },
     "execution_count": 53,
     "metadata": {},
     "output_type": "execute_result"
    }
   ],
   "source": [
    "sequential_search('asdqedfg','g')"
   ]
  },
  {
   "cell_type": "code",
   "execution_count": 54,
   "metadata": {},
   "outputs": [
    {
     "data": {
      "text/plain": [
       "-1"
      ]
     },
     "execution_count": 54,
     "metadata": {},
     "output_type": "execute_result"
    }
   ],
   "source": [
    "sequential_search('asdqedfg','z')"
   ]
  },
  {
   "cell_type": "markdown",
   "metadata": {},
   "source": [
    "# 선택정렬"
   ]
  },
  {
   "cell_type": "code",
   "execution_count": 64,
   "metadata": {},
   "outputs": [],
   "source": [
    "list1 = [9, 1, 6, 8, 4, 3, 2, 0, 5, 7]\n",
    "\n",
    "min_list = list1[0]\n",
    "for lists in list1:\n",
    "    if lists < min_list:\n",
    "        lists = min_list\n",
    "\n",
    "        \n"
   ]
  },
  {
   "cell_type": "code",
   "execution_count": 59,
   "metadata": {},
   "outputs": [
    {
     "name": "stdout",
     "output_type": "stream",
     "text": [
      "[0, 1, 2, 3, 4, 5, 6, 7, 8, 9]\n"
     ]
    }
   ],
   "source": [
    "ori = [9, 1, 6, 8, 4, 3, 2, 0, 5, 7]\n",
    "ori_length = len(ori)\n",
    "for i in range(ori_length - 1):\n",
    "    min_index = i\n",
    "    for inner_index in range(i, ori_length):\n",
    "        if ori[inner_index] < ori[min_index]:\n",
    "            min_index = inner_index\n",
    "    if min_index != i:\n",
    "        ori[i], ori[min_index] = ori[min_index], ori[i]\n",
    "print(ori)"
   ]
  },
  {
   "cell_type": "code",
   "execution_count": 89,
   "metadata": {
    "scrolled": false
   },
   "outputs": [
    {
     "name": "stdout",
     "output_type": "stream",
     "text": [
      "0 [9, 1, 6, 8, 4, 3, 2, 0, 5, 7]\n",
      "\n",
      "초기 min_value:  9\n",
      "이 loop에서의 min_value: 0\n",
      "min_value_index: 7\n",
      "1 [0, 1, 6, 8, 4, 3, 2, 9, 5, 7]\n",
      "\n",
      "초기 min_value:  1\n",
      "이 loop에서의 min_value: 1\n",
      "min_value_index: 7\n",
      "2 [0, 9, 6, 8, 4, 3, 2, 1, 5, 7]\n",
      "\n",
      "초기 min_value:  6\n",
      "이 loop에서의 min_value: 1\n",
      "min_value_index: 7\n",
      "3 [0, 9, 1, 8, 4, 3, 2, 6, 5, 7]\n",
      "\n",
      "초기 min_value:  8\n",
      "이 loop에서의 min_value: 2\n",
      "min_value_index: 6\n",
      "4 [0, 9, 1, 2, 4, 3, 8, 6, 5, 7]\n",
      "\n",
      "초기 min_value:  4\n",
      "이 loop에서의 min_value: 3\n",
      "min_value_index: 5\n",
      "5 [0, 9, 1, 2, 3, 4, 8, 6, 5, 7]\n",
      "\n",
      "초기 min_value:  4\n",
      "이 loop에서의 min_value: 4\n",
      "min_value_index: 5\n",
      "6 [0, 9, 1, 2, 3, 4, 8, 6, 5, 7]\n",
      "\n",
      "초기 min_value:  8\n",
      "이 loop에서의 min_value: 5\n",
      "min_value_index: 8\n",
      "7 [0, 9, 1, 2, 3, 4, 5, 6, 8, 7]\n",
      "\n",
      "초기 min_value:  6\n",
      "이 loop에서의 min_value: 6\n",
      "min_value_index: 8\n",
      "8 [0, 9, 1, 2, 3, 4, 5, 8, 6, 7]\n",
      "\n",
      "초기 min_value:  6\n",
      "이 loop에서의 min_value: 6\n",
      "min_value_index: 8\n",
      "[0, 9, 1, 2, 3, 4, 5, 8, 6, 7]\n"
     ]
    }
   ],
   "source": [
    "sample = [9, 1, 6, 8, 4, 3, 2, 0, 5, 7]\n",
    "sample_len = len(sample)\n",
    "for i in range(sample_len -1):\n",
    "    print(i, sample)\n",
    "    \n",
    "    min_value = sample[i]\n",
    "    print()\n",
    "    print('초기 min_value: ', min_value)\n",
    "    \n",
    "    for j in range(1+i, 10):\n",
    "        if min_value > sample[j]:\n",
    "            min_value = sample[j]\n",
    "            min_value_index = j\n",
    "            \n",
    "    print('이 loop에서의 min_value:', min_value)\n",
    "    print('min_value_index:', min_value_index)\n",
    "    \n",
    "    sample[i], sample[min_value_index] = sample[min_value_index], sample[i]\n",
    "    \n",
    "print(sample)\n",
    "# 무언가 잘못됐다.."
   ]
  },
  {
   "cell_type": "code",
   "execution_count": 90,
   "metadata": {},
   "outputs": [
    {
     "name": "stdout",
     "output_type": "stream",
     "text": [
      "[0, 1, 2, 3, 4, 5, 6, 7, 8, 9]\n"
     ]
    }
   ],
   "source": [
    "sample = [9, 1, 6, 8, 4, 3, 2, 0, 5, 7]\n",
    "sample_len = len(sample)\n",
    "for i in range(sample_len -1):\n",
    "    min_value_index = i\n",
    "    \n",
    "    for j in range(i+1, sample_len):\n",
    "        if sample[min_value_index] > sample[j]:\n",
    "            min_value_index = j\n",
    "        \n",
    "    sample[i], sample[min_value_index] = sample[min_value_index], sample[i]\n",
    "\n",
    "print(sample)"
   ]
  },
  {
   "cell_type": "code",
   "execution_count": null,
   "metadata": {},
   "outputs": [],
   "source": []
  }
 ],
 "metadata": {
  "kernelspec": {
   "display_name": "Python 3",
   "language": "python",
   "name": "python3"
  },
  "language_info": {
   "codemirror_mode": {
    "name": "ipython",
    "version": 3
   },
   "file_extension": ".py",
   "mimetype": "text/x-python",
   "name": "python",
   "nbconvert_exporter": "python",
   "pygments_lexer": "ipython3",
   "version": "3.7.4"
  }
 },
 "nbformat": 4,
 "nbformat_minor": 2
}
